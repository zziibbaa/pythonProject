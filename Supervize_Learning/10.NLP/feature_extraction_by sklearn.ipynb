{
 "cells": [
  {
   "cell_type": "code",
   "execution_count": 1,
   "id": "8dcfc269-5717-41cc-976b-7dd742aba4c8",
   "metadata": {},
   "outputs": [],
   "source": [
    "from sklearn.feature_extraction.text import CountVectorizer , TfidfVectorizer , TfidfTransformer"
   ]
  },
  {
   "cell_type": "code",
   "execution_count": 2,
   "id": "f26026c6-5ae3-47c6-b8be-2111942e938b",
   "metadata": {},
   "outputs": [],
   "source": [
    "text=['This is a line',\n",
    "      'This is another line' , \n",
    "      'Completely different line']"
   ]
  },
  {
   "cell_type": "markdown",
   "id": "132d9e96-4616-4eaf-9f95-241771892e5a",
   "metadata": {},
   "source": [
    "# Count_Vectorizer"
   ]
  },
  {
   "cell_type": "code",
   "execution_count": 4,
   "id": "6e612c07-b8d6-49c5-99fe-a4dc2d75e9b3",
   "metadata": {},
   "outputs": [
    {
     "data": {
      "text/plain": [
       "<3x6 sparse matrix of type '<class 'numpy.int64'>'\n",
       "\twith 10 stored elements in Compressed Sparse Row format>"
      ]
     },
     "execution_count": 4,
     "metadata": {},
     "output_type": "execute_result"
    }
   ],
   "source": [
    "cnt_vctr=CountVectorizer()\n",
    "sparse_mat=cnt_vctr.fit_transform(text)\n",
    "sparse_mat"
   ]
  },
  {
   "cell_type": "code",
   "execution_count": 5,
   "id": "2bffe692-1a2d-4381-89f3-2a64f8d4c801",
   "metadata": {},
   "outputs": [
    {
     "data": {
      "text/plain": [
       "matrix([[0, 0, 0, 1, 1, 1],\n",
       "        [1, 0, 0, 1, 1, 1],\n",
       "        [0, 1, 1, 0, 1, 0]], dtype=int64)"
      ]
     },
     "execution_count": 5,
     "metadata": {},
     "output_type": "execute_result"
    }
   ],
   "source": [
    "sparse_mat.todense()"
   ]
  },
  {
   "cell_type": "code",
   "execution_count": 6,
   "id": "b6024b4a-54f2-40bd-8049-6eb4606475f6",
   "metadata": {},
   "outputs": [
    {
     "data": {
      "text/plain": [
       "{'this': 5, 'is': 3, 'line': 4, 'another': 0, 'completely': 1, 'different': 2}"
      ]
     },
     "execution_count": 6,
     "metadata": {},
     "output_type": "execute_result"
    }
   ],
   "source": [
    "cnt_vctr.vocabulary_"
   ]
  },
  {
   "cell_type": "markdown",
   "id": "ae15e3ef-aa5a-410b-bec5-afb8ce017c4b",
   "metadata": {},
   "source": [
    "# stop words"
   ]
  },
  {
   "cell_type": "code",
   "execution_count": 7,
   "id": "ac5ab9b6-5fd1-49c3-804d-fd261ba1f0e2",
   "metadata": {},
   "outputs": [
    {
     "data": {
      "text/plain": [
       "<3x3 sparse matrix of type '<class 'numpy.int64'>'\n",
       "\twith 5 stored elements in Compressed Sparse Row format>"
      ]
     },
     "execution_count": 7,
     "metadata": {},
     "output_type": "execute_result"
    }
   ],
   "source": [
    "cv=CountVectorizer(stop_words='english')\n",
    "cv.fit_transform(text)"
   ]
  },
  {
   "cell_type": "code",
   "execution_count": 8,
   "id": "d1320bef-1eb6-4c9f-b009-1fe792150ebd",
   "metadata": {},
   "outputs": [
    {
     "data": {
      "text/plain": [
       "{'line': 2, 'completely': 0, 'different': 1}"
      ]
     },
     "execution_count": 8,
     "metadata": {},
     "output_type": "execute_result"
    }
   ],
   "source": [
    "cv.vocabulary_"
   ]
  },
  {
   "cell_type": "markdown",
   "id": "b612eb38-583e-4990-bcf9-0a12dfc9e8c5",
   "metadata": {},
   "source": [
    "# TfidfTransformer"
   ]
  },
  {
   "cell_type": "code",
   "execution_count": 10,
   "id": "c8a4379c-8bed-47f6-8270-7601d184a282",
   "metadata": {},
   "outputs": [
    {
     "data": {
      "text/plain": [
       "matrix([[0.        , 0.        , 0.        , 0.61980538, 0.48133417,\n",
       "         0.61980538],\n",
       "        [0.63174505, 0.        , 0.        , 0.4804584 , 0.37311881,\n",
       "         0.4804584 ],\n",
       "        [0.        , 0.65249088, 0.65249088, 0.        , 0.38537163,\n",
       "         0.        ]])"
      ]
     },
     "execution_count": 10,
     "metadata": {},
     "output_type": "execute_result"
    }
   ],
   "source": [
    "cv=CountVectorizer()\n",
    "count=cv.fit_transform(text)\n",
    "\n",
    "\n",
    "tfidf_transformer=TfidfTransformer()\n",
    "tfidf=tfidf_transformer.fit_transform(count)\n",
    "tfidf.todense()"
   ]
  },
  {
   "cell_type": "markdown",
   "id": "2d5eeb55-b1c5-4b68-b824-b432daa5f2a8",
   "metadata": {},
   "source": [
    "# pipe line for tfidf"
   ]
  },
  {
   "cell_type": "code",
   "execution_count": 11,
   "id": "c0892c32-70c9-4d81-a329-291f19724ea5",
   "metadata": {},
   "outputs": [],
   "source": [
    "from sklearn.pipeline import Pipeline"
   ]
  },
  {
   "cell_type": "code",
   "execution_count": 14,
   "id": "755c2922-548a-48b1-a7fb-06987f45d538",
   "metadata": {},
   "outputs": [],
   "source": [
    "pipe=Pipeline([('cv' , CountVectorizer()) , ('tfidf' , TfidfTransformer())])"
   ]
  },
  {
   "cell_type": "code",
   "execution_count": 15,
   "id": "ee036384-cc0c-49df-abf1-d63b2c30b6c1",
   "metadata": {},
   "outputs": [
    {
     "data": {
      "text/plain": [
       "matrix([[0.        , 0.        , 0.        , 0.61980538, 0.48133417,\n",
       "         0.61980538],\n",
       "        [0.63174505, 0.        , 0.        , 0.4804584 , 0.37311881,\n",
       "         0.4804584 ],\n",
       "        [0.        , 0.65249088, 0.65249088, 0.        , 0.38537163,\n",
       "         0.        ]])"
      ]
     },
     "execution_count": 15,
     "metadata": {},
     "output_type": "execute_result"
    }
   ],
   "source": [
    "result=pipe.fit_transform(text)\n",
    "result.todense()"
   ]
  },
  {
   "cell_type": "code",
   "execution_count": null,
   "id": "aebf6169-ce2a-41cc-8b7e-0336ede10c8a",
   "metadata": {},
   "outputs": [],
   "source": []
  },
  {
   "cell_type": "markdown",
   "id": "c2a59d59-5630-423c-be90-331729db2d18",
   "metadata": {},
   "source": [
    "# Tfidf_Vectorizer"
   ]
  },
  {
   "cell_type": "code",
   "execution_count": 16,
   "id": "631a00db-1eef-4592-8fec-8a75835bbb5d",
   "metadata": {},
   "outputs": [
    {
     "data": {
      "text/plain": [
       "matrix([[0.        , 0.        , 1.        ],\n",
       "        [0.        , 0.        , 1.        ],\n",
       "        [0.65249088, 0.65249088, 0.38537163]])"
      ]
     },
     "execution_count": 16,
     "metadata": {},
     "output_type": "execute_result"
    }
   ],
   "source": [
    "tfidf=TfidfVectorizer(stop_words='english')\n",
    "new=tfidf.fit_transform(text)\n",
    "new.todense()"
   ]
  },
  {
   "cell_type": "code",
   "execution_count": 17,
   "id": "b821fe9b-d591-41bf-bad8-e2334cdf5a67",
   "metadata": {},
   "outputs": [
    {
     "data": {
      "text/plain": [
       "{'line': 2, 'completely': 0, 'different': 1}"
      ]
     },
     "execution_count": 17,
     "metadata": {},
     "output_type": "execute_result"
    }
   ],
   "source": [
    "tfidf.vocabulary_"
   ]
  },
  {
   "cell_type": "code",
   "execution_count": null,
   "id": "e4bd29b6-1e3c-43c6-9609-9d297b4021a1",
   "metadata": {},
   "outputs": [],
   "source": []
  }
 ],
 "metadata": {
  "kernelspec": {
   "display_name": "Python 3 (ipykernel)",
   "language": "python",
   "name": "python3"
  },
  "language_info": {
   "codemirror_mode": {
    "name": "ipython",
    "version": 3
   },
   "file_extension": ".py",
   "mimetype": "text/x-python",
   "name": "python",
   "nbconvert_exporter": "python",
   "pygments_lexer": "ipython3",
   "version": "3.12.7"
  }
 },
 "nbformat": 4,
 "nbformat_minor": 5
}
