{
 "cells": [
  {
   "cell_type": "code",
   "execution_count": 1,
   "id": "f82f1887",
   "metadata": {},
   "outputs": [],
   "source": [
    "import numpy as np"
   ]
  },
  {
   "cell_type": "markdown",
   "id": "9773c618",
   "metadata": {},
   "source": [
    "## array"
   ]
  },
  {
   "cell_type": "code",
   "execution_count": 4,
   "id": "95b47cee",
   "metadata": {},
   "outputs": [],
   "source": [
    "array_1=np.array([1,2,3])"
   ]
  },
  {
   "cell_type": "code",
   "execution_count": 5,
   "id": "a7961c73",
   "metadata": {},
   "outputs": [
    {
     "data": {
      "text/plain": [
       "array([1, 2, 3])"
      ]
     },
     "execution_count": 5,
     "metadata": {},
     "output_type": "execute_result"
    }
   ],
   "source": [
    "array_1"
   ]
  },
  {
   "cell_type": "markdown",
   "id": "5ae7fbf9",
   "metadata": {},
   "source": [
    "## arang"
   ]
  },
  {
   "cell_type": "code",
   "execution_count": 6,
   "id": "6ab6b43f",
   "metadata": {},
   "outputs": [],
   "source": [
    "array_2=np.arange(1,100,3)"
   ]
  },
  {
   "cell_type": "code",
   "execution_count": 11,
   "id": "bb660a83",
   "metadata": {},
   "outputs": [
    {
     "data": {
      "text/plain": [
       "array([ 1,  4,  7, 10, 13, 16, 19, 22, 25, 28, 31, 34, 37, 40, 43, 46, 49,\n",
       "       52, 55, 58, 61, 64, 67, 70, 73, 76, 79, 82, 85, 88, 91, 94, 97])"
      ]
     },
     "execution_count": 11,
     "metadata": {},
     "output_type": "execute_result"
    }
   ],
   "source": [
    "array_2"
   ]
  },
  {
   "cell_type": "markdown",
   "id": "963ba748",
   "metadata": {},
   "source": [
    "## zeros"
   ]
  },
  {
   "cell_type": "code",
   "execution_count": 12,
   "id": "f89892cc",
   "metadata": {},
   "outputs": [],
   "source": [
    "array_3= np.zeros((4,3))"
   ]
  },
  {
   "cell_type": "code",
   "execution_count": 13,
   "id": "0aee23e7",
   "metadata": {},
   "outputs": [
    {
     "data": {
      "text/plain": [
       "array([[0., 0., 0.],\n",
       "       [0., 0., 0.],\n",
       "       [0., 0., 0.],\n",
       "       [0., 0., 0.]])"
      ]
     },
     "execution_count": 13,
     "metadata": {},
     "output_type": "execute_result"
    }
   ],
   "source": [
    "array_3"
   ]
  },
  {
   "cell_type": "markdown",
   "id": "93433255",
   "metadata": {},
   "source": [
    "## ones"
   ]
  },
  {
   "cell_type": "code",
   "execution_count": 21,
   "id": "1dc633bd",
   "metadata": {},
   "outputs": [],
   "source": [
    "array_4= np.ones((4,4))"
   ]
  },
  {
   "cell_type": "code",
   "execution_count": 22,
   "id": "2b9ff541",
   "metadata": {},
   "outputs": [
    {
     "data": {
      "text/plain": [
       "array([[1., 1., 1., 1.],\n",
       "       [1., 1., 1., 1.],\n",
       "       [1., 1., 1., 1.],\n",
       "       [1., 1., 1., 1.]])"
      ]
     },
     "execution_count": 22,
     "metadata": {},
     "output_type": "execute_result"
    }
   ],
   "source": [
    "array_4"
   ]
  },
  {
   "cell_type": "markdown",
   "id": "67492113",
   "metadata": {},
   "source": [
    "## eye"
   ]
  },
  {
   "cell_type": "code",
   "execution_count": 28,
   "id": "e3225dc2",
   "metadata": {},
   "outputs": [],
   "source": [
    "array_5 = np.eye(5)"
   ]
  },
  {
   "cell_type": "code",
   "execution_count": 29,
   "id": "555a0948",
   "metadata": {},
   "outputs": [
    {
     "data": {
      "text/plain": [
       "array([[1., 0., 0., 0., 0.],\n",
       "       [0., 1., 0., 0., 0.],\n",
       "       [0., 0., 1., 0., 0.],\n",
       "       [0., 0., 0., 1., 0.],\n",
       "       [0., 0., 0., 0., 1.]])"
      ]
     },
     "execution_count": 29,
     "metadata": {},
     "output_type": "execute_result"
    }
   ],
   "source": [
    "array_5"
   ]
  },
  {
   "cell_type": "markdown",
   "id": "2ae283fa",
   "metadata": {},
   "source": [
    "## linspace"
   ]
  },
  {
   "cell_type": "code",
   "execution_count": 26,
   "id": "4f13781f",
   "metadata": {},
   "outputs": [],
   "source": [
    "array_6=np.linspace(0,10,21)"
   ]
  },
  {
   "cell_type": "code",
   "execution_count": 27,
   "id": "ada5d750",
   "metadata": {},
   "outputs": [
    {
     "data": {
      "text/plain": [
       "array([ 0. ,  0.5,  1. ,  1.5,  2. ,  2.5,  3. ,  3.5,  4. ,  4.5,  5. ,\n",
       "        5.5,  6. ,  6.5,  7. ,  7.5,  8. ,  8.5,  9. ,  9.5, 10. ])"
      ]
     },
     "execution_count": 27,
     "metadata": {},
     "output_type": "execute_result"
    }
   ],
   "source": [
    "array_6"
   ]
  },
  {
   "cell_type": "markdown",
   "id": "a4a03fa9",
   "metadata": {},
   "source": [
    "# random"
   ]
  },
  {
   "cell_type": "markdown",
   "id": "08f41c18",
   "metadata": {},
   "source": [
    "## randتولید اعداد تصادفی با توزیع یکنواخت در بازه بسته 0و بازه باز 1"
   ]
  },
  {
   "cell_type": "code",
   "execution_count": 30,
   "id": "6f40798e",
   "metadata": {},
   "outputs": [],
   "source": [
    "array_7= np.random.rand(4,2)"
   ]
  },
  {
   "cell_type": "code",
   "execution_count": 31,
   "id": "fc65bba0",
   "metadata": {},
   "outputs": [
    {
     "data": {
      "text/plain": [
       "array([[0.9972743 , 0.31471079],\n",
       "       [0.00562087, 0.80182369],\n",
       "       [0.71701642, 0.59964933],\n",
       "       [0.06873679, 0.43645956]])"
      ]
     },
     "execution_count": 31,
     "metadata": {},
     "output_type": "execute_result"
    }
   ],
   "source": [
    "array_7"
   ]
  },
  {
   "cell_type": "markdown",
   "id": "85e24c8c",
   "metadata": {},
   "source": [
    "## randn with mean = 0, d=1"
   ]
  },
  {
   "cell_type": "code",
   "execution_count": 34,
   "id": "1d7d4b22",
   "metadata": {},
   "outputs": [],
   "source": [
    "array_8= np.random.randn(5,3)"
   ]
  },
  {
   "cell_type": "code",
   "execution_count": 35,
   "id": "937cb27e",
   "metadata": {},
   "outputs": [
    {
     "data": {
      "text/plain": [
       "array([[ 0.48508383,  0.37908099,  2.13332276],\n",
       "       [-0.50246156, -0.77700355,  0.1461237 ],\n",
       "       [-1.29985335, -1.28255045, -1.63489958],\n",
       "       [ 0.635903  , -0.2411359 ,  1.2161008 ],\n",
       "       [-0.51545382,  2.46758745,  0.96549869]])"
      ]
     },
     "execution_count": 35,
     "metadata": {},
     "output_type": "execute_result"
    }
   ],
   "source": [
    "array_8"
   ]
  },
  {
   "cell_type": "markdown",
   "id": "4db15ea1",
   "metadata": {},
   "source": [
    "## randint"
   ]
  },
  {
   "cell_type": "code",
   "execution_count": 36,
   "id": "5ee1ca51",
   "metadata": {},
   "outputs": [],
   "source": [
    "array_9= np.random.randint(1,20,10)"
   ]
  },
  {
   "cell_type": "code",
   "execution_count": 37,
   "id": "16d9821b",
   "metadata": {},
   "outputs": [
    {
     "data": {
      "text/plain": [
       "array([ 9, 16, 10,  3, 14,  1,  2, 19,  5,  9])"
      ]
     },
     "execution_count": 37,
     "metadata": {},
     "output_type": "execute_result"
    }
   ],
   "source": [
    "array_9"
   ]
  },
  {
   "cell_type": "code",
   "execution_count": 38,
   "id": "974c7acb",
   "metadata": {},
   "outputs": [],
   "source": [
    "array_10= np.random.randint(1,20,(3,4))"
   ]
  },
  {
   "cell_type": "code",
   "execution_count": 39,
   "id": "c078e42d",
   "metadata": {},
   "outputs": [
    {
     "data": {
      "text/plain": [
       "array([[12, 11,  5, 17],\n",
       "       [12, 16, 17, 18],\n",
       "       [ 7, 12, 18, 17]])"
      ]
     },
     "execution_count": 39,
     "metadata": {},
     "output_type": "execute_result"
    }
   ],
   "source": [
    "array_10"
   ]
  },
  {
   "cell_type": "markdown",
   "id": "0ad47cad",
   "metadata": {},
   "source": [
    "## seed"
   ]
  },
  {
   "cell_type": "code",
   "execution_count": 47,
   "id": "a186d2e2",
   "metadata": {},
   "outputs": [
    {
     "data": {
      "text/plain": [
       "array([[106,  55],\n",
       "       [ 96,  18]])"
      ]
     },
     "execution_count": 47,
     "metadata": {},
     "output_type": "execute_result"
    }
   ],
   "source": [
    "np.random.seed(42)\n",
    "np.random.randint(4,123,(2,2))"
   ]
  },
  {
   "cell_type": "markdown",
   "id": "d5b516cc",
   "metadata": {},
   "source": [
    "## reshape"
   ]
  },
  {
   "cell_type": "code",
   "execution_count": 42,
   "id": "54e5cace",
   "metadata": {},
   "outputs": [
    {
     "data": {
      "text/plain": [
       "array([[12, 11,  5, 17, 12, 16],\n",
       "       [17, 18,  7, 12, 18, 17]])"
      ]
     },
     "execution_count": 42,
     "metadata": {},
     "output_type": "execute_result"
    }
   ],
   "source": [
    "array_10.reshape(2,6)"
   ]
  },
  {
   "cell_type": "markdown",
   "id": "99d5e642",
   "metadata": {},
   "source": [
    "## max , min"
   ]
  },
  {
   "cell_type": "code",
   "execution_count": 48,
   "id": "615fc8fb",
   "metadata": {},
   "outputs": [
    {
     "data": {
      "text/plain": [
       "18"
      ]
     },
     "execution_count": 48,
     "metadata": {},
     "output_type": "execute_result"
    }
   ],
   "source": [
    "array_10.max()"
   ]
  },
  {
   "cell_type": "code",
   "execution_count": 49,
   "id": "41bf7e92",
   "metadata": {},
   "outputs": [
    {
     "data": {
      "text/plain": [
       "5"
      ]
     },
     "execution_count": 49,
     "metadata": {},
     "output_type": "execute_result"
    }
   ],
   "source": [
    "array_10.min()"
   ]
  },
  {
   "cell_type": "markdown",
   "id": "43563d99",
   "metadata": {},
   "source": [
    "## argmax , argmin"
   ]
  },
  {
   "cell_type": "code",
   "execution_count": 50,
   "id": "563cf222",
   "metadata": {},
   "outputs": [
    {
     "data": {
      "text/plain": [
       "7"
      ]
     },
     "execution_count": 50,
     "metadata": {},
     "output_type": "execute_result"
    }
   ],
   "source": [
    "array_10.argmax()"
   ]
  },
  {
   "cell_type": "code",
   "execution_count": 51,
   "id": "e7b78499",
   "metadata": {},
   "outputs": [
    {
     "data": {
      "text/plain": [
       "2"
      ]
     },
     "execution_count": 51,
     "metadata": {},
     "output_type": "execute_result"
    }
   ],
   "source": [
    "array_10.argmin()"
   ]
  },
  {
   "cell_type": "markdown",
   "id": "44d3c3f9",
   "metadata": {},
   "source": [
    "## shape"
   ]
  },
  {
   "cell_type": "code",
   "execution_count": 55,
   "id": "795a06a5",
   "metadata": {},
   "outputs": [
    {
     "data": {
      "text/plain": [
       "(5, 5)"
      ]
     },
     "execution_count": 55,
     "metadata": {},
     "output_type": "execute_result"
    }
   ],
   "source": [
    "array_5.shape"
   ]
  },
  {
   "cell_type": "markdown",
   "id": "099e992c",
   "metadata": {},
   "source": [
    "## dtype"
   ]
  },
  {
   "cell_type": "code",
   "execution_count": 56,
   "id": "79d18dca",
   "metadata": {},
   "outputs": [
    {
     "data": {
      "text/plain": [
       "dtype('float64')"
      ]
     },
     "execution_count": 56,
     "metadata": {},
     "output_type": "execute_result"
    }
   ],
   "source": [
    "array_8.dtype"
   ]
  },
  {
   "cell_type": "code",
   "execution_count": 61,
   "id": "419fc040",
   "metadata": {},
   "outputs": [
    {
     "data": {
      "text/plain": [
       "dtype('int32')"
      ]
     },
     "execution_count": 61,
     "metadata": {},
     "output_type": "execute_result"
    }
   ],
   "source": [
    "array_2.dtype"
   ]
  },
  {
   "cell_type": "code",
   "execution_count": null,
   "id": "27aedd20",
   "metadata": {},
   "outputs": [],
   "source": []
  }
 ],
 "metadata": {
  "kernelspec": {
   "display_name": "Python 3 (ipykernel)",
   "language": "python",
   "name": "python3"
  },
  "language_info": {
   "codemirror_mode": {
    "name": "ipython",
    "version": 3
   },
   "file_extension": ".py",
   "mimetype": "text/x-python",
   "name": "python",
   "nbconvert_exporter": "python",
   "pygments_lexer": "ipython3",
   "version": "3.11.5"
  }
 },
 "nbformat": 4,
 "nbformat_minor": 5
}
