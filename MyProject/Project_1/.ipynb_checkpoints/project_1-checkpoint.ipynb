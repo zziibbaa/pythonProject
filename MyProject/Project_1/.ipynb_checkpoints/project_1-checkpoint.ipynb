{
 "cells": [
  {
   "cell_type": "markdown",
   "id": "36ae114d-d218-46f8-87cc-d4103f96c3be",
   "metadata": {},
   "source": [
    "# توضیحات پروژه در فایل pdf"
   ]
  },
  {
   "cell_type": "code",
   "execution_count": 1,
   "id": "a7f09ad1-da18-4165-a0f1-4118dc0cd853",
   "metadata": {},
   "outputs": [],
   "source": [
    "import numpy as np\n",
    "import pandas as pd\n",
    "import matplotlib.pyplot as plt\n",
    "import seaborn as sns"
   ]
  },
  {
   "cell_type": "code",
   "execution_count": 3,
   "id": "d2a02cb9-7ce4-4742-ad17-ce84c583cb93",
   "metadata": {},
   "outputs": [
    {
     "data": {
      "text/html": [
       "<div>\n",
       "<style scoped>\n",
       "    .dataframe tbody tr th:only-of-type {\n",
       "        vertical-align: middle;\n",
       "    }\n",
       "\n",
       "    .dataframe tbody tr th {\n",
       "        vertical-align: top;\n",
       "    }\n",
       "\n",
       "    .dataframe thead th {\n",
       "        text-align: right;\n",
       "    }\n",
       "</style>\n",
       "<table border=\"1\" class=\"dataframe\">\n",
       "  <thead>\n",
       "    <tr style=\"text-align: right;\">\n",
       "      <th></th>\n",
       "      <th>FILM</th>\n",
       "      <th>STARS</th>\n",
       "      <th>RATING</th>\n",
       "      <th>VOTES</th>\n",
       "    </tr>\n",
       "  </thead>\n",
       "  <tbody>\n",
       "    <tr>\n",
       "      <th>0</th>\n",
       "      <td>Fifty Shades of Grey (2015)</td>\n",
       "      <td>4.0</td>\n",
       "      <td>3.9</td>\n",
       "      <td>34846</td>\n",
       "    </tr>\n",
       "    <tr>\n",
       "      <th>1</th>\n",
       "      <td>Jurassic World (2015)</td>\n",
       "      <td>4.5</td>\n",
       "      <td>4.5</td>\n",
       "      <td>34390</td>\n",
       "    </tr>\n",
       "    <tr>\n",
       "      <th>2</th>\n",
       "      <td>American Sniper (2015)</td>\n",
       "      <td>5.0</td>\n",
       "      <td>4.8</td>\n",
       "      <td>34085</td>\n",
       "    </tr>\n",
       "    <tr>\n",
       "      <th>3</th>\n",
       "      <td>Furious 7 (2015)</td>\n",
       "      <td>5.0</td>\n",
       "      <td>4.8</td>\n",
       "      <td>33538</td>\n",
       "    </tr>\n",
       "    <tr>\n",
       "      <th>4</th>\n",
       "      <td>Inside Out (2015)</td>\n",
       "      <td>4.5</td>\n",
       "      <td>4.5</td>\n",
       "      <td>15749</td>\n",
       "    </tr>\n",
       "    <tr>\n",
       "      <th>...</th>\n",
       "      <td>...</td>\n",
       "      <td>...</td>\n",
       "      <td>...</td>\n",
       "      <td>...</td>\n",
       "    </tr>\n",
       "    <tr>\n",
       "      <th>499</th>\n",
       "      <td>Valiyavan (2015)</td>\n",
       "      <td>0.0</td>\n",
       "      <td>0.0</td>\n",
       "      <td>0</td>\n",
       "    </tr>\n",
       "    <tr>\n",
       "      <th>500</th>\n",
       "      <td>WWE SummerSlam 2015 (2015)</td>\n",
       "      <td>0.0</td>\n",
       "      <td>0.0</td>\n",
       "      <td>0</td>\n",
       "    </tr>\n",
       "    <tr>\n",
       "      <th>501</th>\n",
       "      <td>Yagavarayinum Naa Kaakka (2015)</td>\n",
       "      <td>0.0</td>\n",
       "      <td>0.0</td>\n",
       "      <td>0</td>\n",
       "    </tr>\n",
       "    <tr>\n",
       "      <th>502</th>\n",
       "      <td>Yesterday, Today and Tomorrow (1964)</td>\n",
       "      <td>0.0</td>\n",
       "      <td>0.0</td>\n",
       "      <td>0</td>\n",
       "    </tr>\n",
       "    <tr>\n",
       "      <th>503</th>\n",
       "      <td>Zarafa (2012)</td>\n",
       "      <td>0.0</td>\n",
       "      <td>0.0</td>\n",
       "      <td>0</td>\n",
       "    </tr>\n",
       "  </tbody>\n",
       "</table>\n",
       "<p>504 rows × 4 columns</p>\n",
       "</div>"
      ],
      "text/plain": [
       "                                     FILM  STARS  RATING  VOTES\n",
       "0             Fifty Shades of Grey (2015)    4.0     3.9  34846\n",
       "1                   Jurassic World (2015)    4.5     4.5  34390\n",
       "2                  American Sniper (2015)    5.0     4.8  34085\n",
       "3                        Furious 7 (2015)    5.0     4.8  33538\n",
       "4                       Inside Out (2015)    4.5     4.5  15749\n",
       "..                                    ...    ...     ...    ...\n",
       "499                      Valiyavan (2015)    0.0     0.0      0\n",
       "500            WWE SummerSlam 2015 (2015)    0.0     0.0      0\n",
       "501       Yagavarayinum Naa Kaakka (2015)    0.0     0.0      0\n",
       "502  Yesterday, Today and Tomorrow (1964)    0.0     0.0      0\n",
       "503                         Zarafa (2012)    0.0     0.0      0\n",
       "\n",
       "[504 rows x 4 columns]"
      ]
     },
     "execution_count": 3,
     "metadata": {},
     "output_type": "execute_result"
    }
   ],
   "source": [
    "fandango=pd.read_csv('fandango_scrape.csv')\n",
    "fandango"
   ]
  },
  {
   "cell_type": "code",
   "execution_count": 24,
   "id": "6c62ec2e-d930-4620-b415-437f4c9fde65",
   "metadata": {
    "scrolled": true
   },
   "outputs": [
    {
     "name": "stdout",
     "output_type": "stream",
     "text": [
      "<class 'pandas.core.frame.DataFrame'>\n",
      "Index: 504 entries, Fifty Shades of Grey (2015) to Zarafa (2012)\n",
      "Data columns (total 3 columns):\n",
      " #   Column  Non-Null Count  Dtype  \n",
      "---  ------  --------------  -----  \n",
      " 0   STARS   504 non-null    float64\n",
      " 1   RATING  504 non-null    float64\n",
      " 2   VOTES   504 non-null    int64  \n",
      "dtypes: float64(2), int64(1)\n",
      "memory usage: 15.8+ KB\n"
     ]
    }
   ],
   "source": [
    "fandango.info()"
   ]
  },
  {
   "cell_type": "code",
   "execution_count": 26,
   "id": "e0e4a843-406e-47b2-8e41-970d6f83706f",
   "metadata": {},
   "outputs": [
    {
     "data": {
      "text/html": [
       "<div>\n",
       "<style scoped>\n",
       "    .dataframe tbody tr th:only-of-type {\n",
       "        vertical-align: middle;\n",
       "    }\n",
       "\n",
       "    .dataframe tbody tr th {\n",
       "        vertical-align: top;\n",
       "    }\n",
       "\n",
       "    .dataframe thead th {\n",
       "        text-align: right;\n",
       "    }\n",
       "</style>\n",
       "<table border=\"1\" class=\"dataframe\">\n",
       "  <thead>\n",
       "    <tr style=\"text-align: right;\">\n",
       "      <th></th>\n",
       "      <th>STARS</th>\n",
       "      <th>RATING</th>\n",
       "      <th>VOTES</th>\n",
       "    </tr>\n",
       "  </thead>\n",
       "  <tbody>\n",
       "    <tr>\n",
       "      <th>count</th>\n",
       "      <td>504.000000</td>\n",
       "      <td>504.000000</td>\n",
       "      <td>504.000000</td>\n",
       "    </tr>\n",
       "    <tr>\n",
       "      <th>mean</th>\n",
       "      <td>3.558532</td>\n",
       "      <td>3.375794</td>\n",
       "      <td>1147.863095</td>\n",
       "    </tr>\n",
       "    <tr>\n",
       "      <th>std</th>\n",
       "      <td>1.563133</td>\n",
       "      <td>1.491223</td>\n",
       "      <td>3830.583136</td>\n",
       "    </tr>\n",
       "    <tr>\n",
       "      <th>min</th>\n",
       "      <td>0.000000</td>\n",
       "      <td>0.000000</td>\n",
       "      <td>0.000000</td>\n",
       "    </tr>\n",
       "    <tr>\n",
       "      <th>25%</th>\n",
       "      <td>3.500000</td>\n",
       "      <td>3.100000</td>\n",
       "      <td>3.000000</td>\n",
       "    </tr>\n",
       "    <tr>\n",
       "      <th>50%</th>\n",
       "      <td>4.000000</td>\n",
       "      <td>3.800000</td>\n",
       "      <td>18.500000</td>\n",
       "    </tr>\n",
       "    <tr>\n",
       "      <th>75%</th>\n",
       "      <td>4.500000</td>\n",
       "      <td>4.300000</td>\n",
       "      <td>189.750000</td>\n",
       "    </tr>\n",
       "    <tr>\n",
       "      <th>max</th>\n",
       "      <td>5.000000</td>\n",
       "      <td>5.000000</td>\n",
       "      <td>34846.000000</td>\n",
       "    </tr>\n",
       "  </tbody>\n",
       "</table>\n",
       "</div>"
      ],
      "text/plain": [
       "            STARS      RATING         VOTES\n",
       "count  504.000000  504.000000    504.000000\n",
       "mean     3.558532    3.375794   1147.863095\n",
       "std      1.563133    1.491223   3830.583136\n",
       "min      0.000000    0.000000      0.000000\n",
       "25%      3.500000    3.100000      3.000000\n",
       "50%      4.000000    3.800000     18.500000\n",
       "75%      4.500000    4.300000    189.750000\n",
       "max      5.000000    5.000000  34846.000000"
      ]
     },
     "execution_count": 26,
     "metadata": {},
     "output_type": "execute_result"
    }
   ],
   "source": [
    "fandango.describe()"
   ]
  },
  {
   "cell_type": "code",
   "execution_count": 5,
   "id": "7914564e-3690-4d58-a318-1194cdc6cc46",
   "metadata": {},
   "outputs": [
    {
     "data": {
      "text/html": [
       "<div>\n",
       "<style scoped>\n",
       "    .dataframe tbody tr th:only-of-type {\n",
       "        vertical-align: middle;\n",
       "    }\n",
       "\n",
       "    .dataframe tbody tr th {\n",
       "        vertical-align: top;\n",
       "    }\n",
       "\n",
       "    .dataframe thead th {\n",
       "        text-align: right;\n",
       "    }\n",
       "</style>\n",
       "<table border=\"1\" class=\"dataframe\">\n",
       "  <thead>\n",
       "    <tr style=\"text-align: right;\">\n",
       "      <th></th>\n",
       "      <th>FILM</th>\n",
       "      <th>RottenTomatoes</th>\n",
       "      <th>RottenTomatoes_User</th>\n",
       "      <th>Metacritic</th>\n",
       "      <th>Metacritic_User</th>\n",
       "      <th>IMDB</th>\n",
       "      <th>Metacritic_user_vote_count</th>\n",
       "      <th>IMDB_user_vote_count</th>\n",
       "    </tr>\n",
       "  </thead>\n",
       "  <tbody>\n",
       "    <tr>\n",
       "      <th>0</th>\n",
       "      <td>Avengers: Age of Ultron (2015)</td>\n",
       "      <td>74</td>\n",
       "      <td>86</td>\n",
       "      <td>66</td>\n",
       "      <td>7.1</td>\n",
       "      <td>7.8</td>\n",
       "      <td>1330</td>\n",
       "      <td>271107</td>\n",
       "    </tr>\n",
       "    <tr>\n",
       "      <th>1</th>\n",
       "      <td>Cinderella (2015)</td>\n",
       "      <td>85</td>\n",
       "      <td>80</td>\n",
       "      <td>67</td>\n",
       "      <td>7.5</td>\n",
       "      <td>7.1</td>\n",
       "      <td>249</td>\n",
       "      <td>65709</td>\n",
       "    </tr>\n",
       "    <tr>\n",
       "      <th>2</th>\n",
       "      <td>Ant-Man (2015)</td>\n",
       "      <td>80</td>\n",
       "      <td>90</td>\n",
       "      <td>64</td>\n",
       "      <td>8.1</td>\n",
       "      <td>7.8</td>\n",
       "      <td>627</td>\n",
       "      <td>103660</td>\n",
       "    </tr>\n",
       "    <tr>\n",
       "      <th>3</th>\n",
       "      <td>Do You Believe? (2015)</td>\n",
       "      <td>18</td>\n",
       "      <td>84</td>\n",
       "      <td>22</td>\n",
       "      <td>4.7</td>\n",
       "      <td>5.4</td>\n",
       "      <td>31</td>\n",
       "      <td>3136</td>\n",
       "    </tr>\n",
       "    <tr>\n",
       "      <th>4</th>\n",
       "      <td>Hot Tub Time Machine 2 (2015)</td>\n",
       "      <td>14</td>\n",
       "      <td>28</td>\n",
       "      <td>29</td>\n",
       "      <td>3.4</td>\n",
       "      <td>5.1</td>\n",
       "      <td>88</td>\n",
       "      <td>19560</td>\n",
       "    </tr>\n",
       "    <tr>\n",
       "      <th>...</th>\n",
       "      <td>...</td>\n",
       "      <td>...</td>\n",
       "      <td>...</td>\n",
       "      <td>...</td>\n",
       "      <td>...</td>\n",
       "      <td>...</td>\n",
       "      <td>...</td>\n",
       "      <td>...</td>\n",
       "    </tr>\n",
       "    <tr>\n",
       "      <th>141</th>\n",
       "      <td>Mr. Holmes (2015)</td>\n",
       "      <td>87</td>\n",
       "      <td>78</td>\n",
       "      <td>67</td>\n",
       "      <td>7.9</td>\n",
       "      <td>7.4</td>\n",
       "      <td>33</td>\n",
       "      <td>7367</td>\n",
       "    </tr>\n",
       "    <tr>\n",
       "      <th>142</th>\n",
       "      <td>'71 (2015)</td>\n",
       "      <td>97</td>\n",
       "      <td>82</td>\n",
       "      <td>83</td>\n",
       "      <td>7.5</td>\n",
       "      <td>7.2</td>\n",
       "      <td>60</td>\n",
       "      <td>24116</td>\n",
       "    </tr>\n",
       "    <tr>\n",
       "      <th>143</th>\n",
       "      <td>Two Days, One Night (2014)</td>\n",
       "      <td>97</td>\n",
       "      <td>78</td>\n",
       "      <td>89</td>\n",
       "      <td>8.8</td>\n",
       "      <td>7.4</td>\n",
       "      <td>123</td>\n",
       "      <td>24345</td>\n",
       "    </tr>\n",
       "    <tr>\n",
       "      <th>144</th>\n",
       "      <td>Gett: The Trial of Viviane Amsalem (2015)</td>\n",
       "      <td>100</td>\n",
       "      <td>81</td>\n",
       "      <td>90</td>\n",
       "      <td>7.3</td>\n",
       "      <td>7.8</td>\n",
       "      <td>19</td>\n",
       "      <td>1955</td>\n",
       "    </tr>\n",
       "    <tr>\n",
       "      <th>145</th>\n",
       "      <td>Kumiko, The Treasure Hunter (2015)</td>\n",
       "      <td>87</td>\n",
       "      <td>63</td>\n",
       "      <td>68</td>\n",
       "      <td>6.4</td>\n",
       "      <td>6.7</td>\n",
       "      <td>19</td>\n",
       "      <td>5289</td>\n",
       "    </tr>\n",
       "  </tbody>\n",
       "</table>\n",
       "<p>146 rows × 8 columns</p>\n",
       "</div>"
      ],
      "text/plain": [
       "                                          FILM  RottenTomatoes  \\\n",
       "0               Avengers: Age of Ultron (2015)              74   \n",
       "1                            Cinderella (2015)              85   \n",
       "2                               Ant-Man (2015)              80   \n",
       "3                       Do You Believe? (2015)              18   \n",
       "4                Hot Tub Time Machine 2 (2015)              14   \n",
       "..                                         ...             ...   \n",
       "141                          Mr. Holmes (2015)              87   \n",
       "142                                 '71 (2015)              97   \n",
       "143                 Two Days, One Night (2014)              97   \n",
       "144  Gett: The Trial of Viviane Amsalem (2015)             100   \n",
       "145         Kumiko, The Treasure Hunter (2015)              87   \n",
       "\n",
       "     RottenTomatoes_User  Metacritic  Metacritic_User  IMDB  \\\n",
       "0                     86          66              7.1   7.8   \n",
       "1                     80          67              7.5   7.1   \n",
       "2                     90          64              8.1   7.8   \n",
       "3                     84          22              4.7   5.4   \n",
       "4                     28          29              3.4   5.1   \n",
       "..                   ...         ...              ...   ...   \n",
       "141                   78          67              7.9   7.4   \n",
       "142                   82          83              7.5   7.2   \n",
       "143                   78          89              8.8   7.4   \n",
       "144                   81          90              7.3   7.8   \n",
       "145                   63          68              6.4   6.7   \n",
       "\n",
       "     Metacritic_user_vote_count  IMDB_user_vote_count  \n",
       "0                          1330                271107  \n",
       "1                           249                 65709  \n",
       "2                           627                103660  \n",
       "3                            31                  3136  \n",
       "4                            88                 19560  \n",
       "..                          ...                   ...  \n",
       "141                          33                  7367  \n",
       "142                          60                 24116  \n",
       "143                         123                 24345  \n",
       "144                          19                  1955  \n",
       "145                          19                  5289  \n",
       "\n",
       "[146 rows x 8 columns]"
      ]
     },
     "execution_count": 5,
     "metadata": {},
     "output_type": "execute_result"
    }
   ],
   "source": [
    "all_sites=pd.read_csv('all_sites_scores.csv')\n",
    "all_sites"
   ]
  },
  {
   "cell_type": "code",
   "execution_count": 230,
   "id": "18f5372f-2706-48b9-8886-66605f4ffd07",
   "metadata": {},
   "outputs": [
    {
     "name": "stdout",
     "output_type": "stream",
     "text": [
      "<class 'pandas.core.frame.DataFrame'>\n",
      "RangeIndex: 146 entries, 0 to 145\n",
      "Data columns (total 8 columns):\n",
      " #   Column                      Non-Null Count  Dtype  \n",
      "---  ------                      --------------  -----  \n",
      " 0   FILM                        146 non-null    object \n",
      " 1   RottenTomatoes              146 non-null    int64  \n",
      " 2   RottenTomatoes_User         146 non-null    int64  \n",
      " 3   Metacritic                  146 non-null    int64  \n",
      " 4   Metacritic_User             146 non-null    float64\n",
      " 5   IMDB                        146 non-null    float64\n",
      " 6   Metacritic_user_vote_count  146 non-null    int64  \n",
      " 7   IMDB_user_vote_count        146 non-null    int64  \n",
      "dtypes: float64(2), int64(5), object(1)\n",
      "memory usage: 9.3+ KB\n"
     ]
    }
   ],
   "source": [
    "all_sites.info()"
   ]
  },
  {
   "cell_type": "code",
   "execution_count": 232,
   "id": "490a9bb6-314f-4e49-95c7-3ac7e538b552",
   "metadata": {},
   "outputs": [
    {
     "data": {
      "text/html": [
       "<div>\n",
       "<style scoped>\n",
       "    .dataframe tbody tr th:only-of-type {\n",
       "        vertical-align: middle;\n",
       "    }\n",
       "\n",
       "    .dataframe tbody tr th {\n",
       "        vertical-align: top;\n",
       "    }\n",
       "\n",
       "    .dataframe thead th {\n",
       "        text-align: right;\n",
       "    }\n",
       "</style>\n",
       "<table border=\"1\" class=\"dataframe\">\n",
       "  <thead>\n",
       "    <tr style=\"text-align: right;\">\n",
       "      <th></th>\n",
       "      <th>RottenTomatoes</th>\n",
       "      <th>RottenTomatoes_User</th>\n",
       "      <th>Metacritic</th>\n",
       "      <th>Metacritic_User</th>\n",
       "      <th>IMDB</th>\n",
       "      <th>Metacritic_user_vote_count</th>\n",
       "      <th>IMDB_user_vote_count</th>\n",
       "    </tr>\n",
       "  </thead>\n",
       "  <tbody>\n",
       "    <tr>\n",
       "      <th>count</th>\n",
       "      <td>146.000000</td>\n",
       "      <td>146.000000</td>\n",
       "      <td>146.000000</td>\n",
       "      <td>146.000000</td>\n",
       "      <td>146.000000</td>\n",
       "      <td>146.000000</td>\n",
       "      <td>146.000000</td>\n",
       "    </tr>\n",
       "    <tr>\n",
       "      <th>mean</th>\n",
       "      <td>60.849315</td>\n",
       "      <td>63.876712</td>\n",
       "      <td>58.808219</td>\n",
       "      <td>6.519178</td>\n",
       "      <td>6.736986</td>\n",
       "      <td>185.705479</td>\n",
       "      <td>42846.205479</td>\n",
       "    </tr>\n",
       "    <tr>\n",
       "      <th>std</th>\n",
       "      <td>30.168799</td>\n",
       "      <td>20.024430</td>\n",
       "      <td>19.517389</td>\n",
       "      <td>1.510712</td>\n",
       "      <td>0.958736</td>\n",
       "      <td>316.606515</td>\n",
       "      <td>67406.509171</td>\n",
       "    </tr>\n",
       "    <tr>\n",
       "      <th>min</th>\n",
       "      <td>5.000000</td>\n",
       "      <td>20.000000</td>\n",
       "      <td>13.000000</td>\n",
       "      <td>2.400000</td>\n",
       "      <td>4.000000</td>\n",
       "      <td>4.000000</td>\n",
       "      <td>243.000000</td>\n",
       "    </tr>\n",
       "    <tr>\n",
       "      <th>25%</th>\n",
       "      <td>31.250000</td>\n",
       "      <td>50.000000</td>\n",
       "      <td>43.500000</td>\n",
       "      <td>5.700000</td>\n",
       "      <td>6.300000</td>\n",
       "      <td>33.250000</td>\n",
       "      <td>5627.000000</td>\n",
       "    </tr>\n",
       "    <tr>\n",
       "      <th>50%</th>\n",
       "      <td>63.500000</td>\n",
       "      <td>66.500000</td>\n",
       "      <td>59.000000</td>\n",
       "      <td>6.850000</td>\n",
       "      <td>6.900000</td>\n",
       "      <td>72.500000</td>\n",
       "      <td>19103.000000</td>\n",
       "    </tr>\n",
       "    <tr>\n",
       "      <th>75%</th>\n",
       "      <td>89.000000</td>\n",
       "      <td>81.000000</td>\n",
       "      <td>75.000000</td>\n",
       "      <td>7.500000</td>\n",
       "      <td>7.400000</td>\n",
       "      <td>168.500000</td>\n",
       "      <td>45185.750000</td>\n",
       "    </tr>\n",
       "    <tr>\n",
       "      <th>max</th>\n",
       "      <td>100.000000</td>\n",
       "      <td>94.000000</td>\n",
       "      <td>94.000000</td>\n",
       "      <td>9.600000</td>\n",
       "      <td>8.600000</td>\n",
       "      <td>2375.000000</td>\n",
       "      <td>334164.000000</td>\n",
       "    </tr>\n",
       "  </tbody>\n",
       "</table>\n",
       "</div>"
      ],
      "text/plain": [
       "       RottenTomatoes  RottenTomatoes_User  Metacritic  Metacritic_User  \\\n",
       "count      146.000000           146.000000  146.000000       146.000000   \n",
       "mean        60.849315            63.876712   58.808219         6.519178   \n",
       "std         30.168799            20.024430   19.517389         1.510712   \n",
       "min          5.000000            20.000000   13.000000         2.400000   \n",
       "25%         31.250000            50.000000   43.500000         5.700000   \n",
       "50%         63.500000            66.500000   59.000000         6.850000   \n",
       "75%         89.000000            81.000000   75.000000         7.500000   \n",
       "max        100.000000            94.000000   94.000000         9.600000   \n",
       "\n",
       "             IMDB  Metacritic_user_vote_count  IMDB_user_vote_count  \n",
       "count  146.000000                  146.000000            146.000000  \n",
       "mean     6.736986                  185.705479          42846.205479  \n",
       "std      0.958736                  316.606515          67406.509171  \n",
       "min      4.000000                    4.000000            243.000000  \n",
       "25%      6.300000                   33.250000           5627.000000  \n",
       "50%      6.900000                   72.500000          19103.000000  \n",
       "75%      7.400000                  168.500000          45185.750000  \n",
       "max      8.600000                 2375.000000         334164.000000  "
      ]
     },
     "execution_count": 232,
     "metadata": {},
     "output_type": "execute_result"
    }
   ],
   "source": [
    "all_sites.describe()"
   ]
  },
  {
   "cell_type": "code",
   "execution_count": 236,
   "id": "7873e1bc-da0d-4b40-b325-047a29c16efb",
   "metadata": {},
   "outputs": [
    {
     "data": {
      "text/html": [
       "<div>\n",
       "<style scoped>\n",
       "    .dataframe tbody tr th:only-of-type {\n",
       "        vertical-align: middle;\n",
       "    }\n",
       "\n",
       "    .dataframe tbody tr th {\n",
       "        vertical-align: top;\n",
       "    }\n",
       "\n",
       "    .dataframe thead th {\n",
       "        text-align: right;\n",
       "    }\n",
       "</style>\n",
       "<table border=\"1\" class=\"dataframe\">\n",
       "  <thead>\n",
       "    <tr style=\"text-align: right;\">\n",
       "      <th></th>\n",
       "      <th>RottenTomatoes</th>\n",
       "      <th>RottenTomatoes_User</th>\n",
       "      <th>Metacritic</th>\n",
       "      <th>Metacritic_User</th>\n",
       "      <th>IMDB</th>\n",
       "      <th>Metacritic_user_vote_count</th>\n",
       "      <th>IMDB_user_vote_count</th>\n",
       "    </tr>\n",
       "  </thead>\n",
       "  <tbody>\n",
       "    <tr>\n",
       "      <th>RottenTomatoes</th>\n",
       "      <td>1.000000</td>\n",
       "      <td>0.781440</td>\n",
       "      <td>0.957360</td>\n",
       "      <td>0.754296</td>\n",
       "      <td>0.779671</td>\n",
       "      <td>0.111325</td>\n",
       "      <td>0.107083</td>\n",
       "    </tr>\n",
       "    <tr>\n",
       "      <th>RottenTomatoes_User</th>\n",
       "      <td>0.781440</td>\n",
       "      <td>1.000000</td>\n",
       "      <td>0.690998</td>\n",
       "      <td>0.687132</td>\n",
       "      <td>0.895297</td>\n",
       "      <td>0.198320</td>\n",
       "      <td>0.221776</td>\n",
       "    </tr>\n",
       "    <tr>\n",
       "      <th>Metacritic</th>\n",
       "      <td>0.957360</td>\n",
       "      <td>0.690998</td>\n",
       "      <td>1.000000</td>\n",
       "      <td>0.723459</td>\n",
       "      <td>0.727298</td>\n",
       "      <td>0.138184</td>\n",
       "      <td>0.114507</td>\n",
       "    </tr>\n",
       "    <tr>\n",
       "      <th>Metacritic_User</th>\n",
       "      <td>0.754296</td>\n",
       "      <td>0.687132</td>\n",
       "      <td>0.723459</td>\n",
       "      <td>1.000000</td>\n",
       "      <td>0.756265</td>\n",
       "      <td>0.121478</td>\n",
       "      <td>0.112580</td>\n",
       "    </tr>\n",
       "    <tr>\n",
       "      <th>IMDB</th>\n",
       "      <td>0.779671</td>\n",
       "      <td>0.895297</td>\n",
       "      <td>0.727298</td>\n",
       "      <td>0.756265</td>\n",
       "      <td>1.000000</td>\n",
       "      <td>0.205573</td>\n",
       "      <td>0.230058</td>\n",
       "    </tr>\n",
       "    <tr>\n",
       "      <th>Metacritic_user_vote_count</th>\n",
       "      <td>0.111325</td>\n",
       "      <td>0.198320</td>\n",
       "      <td>0.138184</td>\n",
       "      <td>0.121478</td>\n",
       "      <td>0.205573</td>\n",
       "      <td>1.000000</td>\n",
       "      <td>0.880635</td>\n",
       "    </tr>\n",
       "    <tr>\n",
       "      <th>IMDB_user_vote_count</th>\n",
       "      <td>0.107083</td>\n",
       "      <td>0.221776</td>\n",
       "      <td>0.114507</td>\n",
       "      <td>0.112580</td>\n",
       "      <td>0.230058</td>\n",
       "      <td>0.880635</td>\n",
       "      <td>1.000000</td>\n",
       "    </tr>\n",
       "  </tbody>\n",
       "</table>\n",
       "</div>"
      ],
      "text/plain": [
       "                            RottenTomatoes  RottenTomatoes_User  Metacritic  \\\n",
       "RottenTomatoes                    1.000000             0.781440    0.957360   \n",
       "RottenTomatoes_User               0.781440             1.000000    0.690998   \n",
       "Metacritic                        0.957360             0.690998    1.000000   \n",
       "Metacritic_User                   0.754296             0.687132    0.723459   \n",
       "IMDB                              0.779671             0.895297    0.727298   \n",
       "Metacritic_user_vote_count        0.111325             0.198320    0.138184   \n",
       "IMDB_user_vote_count              0.107083             0.221776    0.114507   \n",
       "\n",
       "                            Metacritic_User      IMDB  \\\n",
       "RottenTomatoes                     0.754296  0.779671   \n",
       "RottenTomatoes_User                0.687132  0.895297   \n",
       "Metacritic                         0.723459  0.727298   \n",
       "Metacritic_User                    1.000000  0.756265   \n",
       "IMDB                               0.756265  1.000000   \n",
       "Metacritic_user_vote_count         0.121478  0.205573   \n",
       "IMDB_user_vote_count               0.112580  0.230058   \n",
       "\n",
       "                            Metacritic_user_vote_count  IMDB_user_vote_count  \n",
       "RottenTomatoes                                0.111325              0.107083  \n",
       "RottenTomatoes_User                           0.198320              0.221776  \n",
       "Metacritic                                    0.138184              0.114507  \n",
       "Metacritic_User                               0.121478              0.112580  \n",
       "IMDB                                          0.205573              0.230058  \n",
       "Metacritic_user_vote_count                    1.000000              0.880635  \n",
       "IMDB_user_vote_count                          0.880635              1.000000  "
      ]
     },
     "execution_count": 236,
     "metadata": {},
     "output_type": "execute_result"
    }
   ],
   "source": [
    "all_sites.corr(numeric_only=True)"
   ]
  },
  {
   "cell_type": "code",
   "execution_count": 9,
   "id": "e163c7ca-79bf-4c4b-a48a-78b118d47127",
   "metadata": {},
   "outputs": [
    {
     "data": {
      "text/plain": [
       "<Axes: xlabel='RATING', ylabel='VOTES'>"
      ]
     },
     "execution_count": 9,
     "metadata": {},
     "output_type": "execute_result"
    },
    {
     "data": {
      "image/png": "[encoded data removed]",
      "text/plain": [
       "<Figure size 1500x600 with 1 Axes>"
      ]
     },
     "metadata": {},
     "output_type": "display_data"
    }
   ],
   "source": [
    "plt.figure(figsize=(10,4), dpi=150)\n",
    "sns.scatterplot(data=fandango , x='RATING' , y='VOTES'  , color='g' )"
   ]
  },
  {
   "cell_type": "code",
   "execution_count": 56,
   "id": "e3f259a0-89c0-4a97-916b-f9d5f3cc7bd5",
   "metadata": {},
   "outputs": [
    {
     "data": {
      "text/html": [
       "<div>\n",
       "<style scoped>\n",
       "    .dataframe tbody tr th:only-of-type {\n",
       "        vertical-align: middle;\n",
       "    }\n",
       "\n",
       "    .dataframe tbody tr th {\n",
       "        vertical-align: top;\n",
       "    }\n",
       "\n",
       "    .dataframe thead th {\n",
       "        text-align: right;\n",
       "    }\n",
       "</style>\n",
       "<table border=\"1\" class=\"dataframe\">\n",
       "  <thead>\n",
       "    <tr style=\"text-align: right;\">\n",
       "      <th></th>\n",
       "      <th>STARS</th>\n",
       "      <th>RATING</th>\n",
       "      <th>VOTES</th>\n",
       "    </tr>\n",
       "  </thead>\n",
       "  <tbody>\n",
       "    <tr>\n",
       "      <th>STARS</th>\n",
       "      <td>1.000000</td>\n",
       "      <td>0.994696</td>\n",
       "      <td>0.164218</td>\n",
       "    </tr>\n",
       "    <tr>\n",
       "      <th>RATING</th>\n",
       "      <td>0.994696</td>\n",
       "      <td>1.000000</td>\n",
       "      <td>0.163764</td>\n",
       "    </tr>\n",
       "    <tr>\n",
       "      <th>VOTES</th>\n",
       "      <td>0.164218</td>\n",
       "      <td>0.163764</td>\n",
       "      <td>1.000000</td>\n",
       "    </tr>\n",
       "  </tbody>\n",
       "</table>\n",
       "</div>"
      ],
      "text/plain": [
       "           STARS    RATING     VOTES\n",
       "STARS   1.000000  0.994696  0.164218\n",
       "RATING  0.994696  1.000000  0.163764\n",
       "VOTES   0.164218  0.163764  1.000000"
      ]
     },
     "execution_count": 56,
     "metadata": {},
     "output_type": "execute_result"
    }
   ],
   "source": [
    "fandango.corr()"
   ]
  },
  {
   "cell_type": "code",
   "execution_count": 108,
   "id": "0e5ed0d1-c962-42c7-a546-ac8a415c0ad4",
   "metadata": {},
   "outputs": [],
   "source": [
    "#fandango['year']=fandango['FILM'].str[-6:]\n",
    "#fandango['year']=fandango['year'].str.replace('(' , '').str.replace(')' , '')\n",
    "#fandango['year']=fandango['year'].str.replace(')' , '')\n",
    "#fandango['year']"
   ]
  },
  {
   "cell_type": "code",
   "execution_count": 110,
   "id": "1a51a3bd-d6af-470e-af94-b0e16b930788",
   "metadata": {},
   "outputs": [
    {
     "data": {
      "text/plain": [
       "0      2015\n",
       "1      2015\n",
       "2      2015\n",
       "3      2015\n",
       "4      2015\n",
       "       ... \n",
       "499    2015\n",
       "500    2015\n",
       "501    2015\n",
       "502    1964\n",
       "503    2012\n",
       "Name: year, Length: 504, dtype: object"
      ]
     },
     "execution_count": 110,
     "metadata": {},
     "output_type": "execute_result"
    }
   ],
   "source": [
    "#better code\n",
    "fandango['year']=fandango['FILM'].apply(lambda title : title.split('(')[-1].replace(')' , ''))\n",
    "fandango['year']"
   ]
  },
  {
   "cell_type": "code",
   "execution_count": 122,
   "id": "7cd89758-4821-4ce3-ac77-5a4c56b4e3b8",
   "metadata": {},
   "outputs": [
    {
     "data": {
      "text/plain": [
       "year\n",
       "2015    478\n",
       "2014     23\n",
       "2016      1\n",
       "1964      1\n",
       "2012      1\n",
       "Name: count, dtype: int64"
      ]
     },
     "execution_count": 122,
     "metadata": {},
     "output_type": "execute_result"
    }
   ],
   "source": [
    "fandango['year'].value_counts()"
   ]
  },
  {
   "cell_type": "code",
   "execution_count": 138,
   "id": "a8c9f426-87bb-46be-9eb3-67c4db33d545",
   "metadata": {},
   "outputs": [
    {
     "data": {
      "image/png": "[encoded data removed]",
      "text/plain": [
       "<Figure size 640x480 with 1 Axes>"
      ]
     },
     "metadata": {},
     "output_type": "display_data"
    }
   ],
   "source": [
    "sns.countplot(data=fandango , x='year')\n",
    "plt.grid()"
   ]
  },
  {
   "cell_type": "code",
   "execution_count": 158,
   "id": "2c40dfa1-09a1-4d49-ae50-3860448db922",
   "metadata": {},
   "outputs": [
    {
     "data": {
      "text/html": [
       "<div>\n",
       "<style scoped>\n",
       "    .dataframe tbody tr th:only-of-type {\n",
       "        vertical-align: middle;\n",
       "    }\n",
       "\n",
       "    .dataframe tbody tr th {\n",
       "        vertical-align: top;\n",
       "    }\n",
       "\n",
       "    .dataframe thead th {\n",
       "        text-align: right;\n",
       "    }\n",
       "</style>\n",
       "<table border=\"1\" class=\"dataframe\">\n",
       "  <thead>\n",
       "    <tr style=\"text-align: right;\">\n",
       "      <th></th>\n",
       "      <th>VOTES</th>\n",
       "      <th>STARS</th>\n",
       "      <th>RATING</th>\n",
       "      <th>year</th>\n",
       "    </tr>\n",
       "    <tr>\n",
       "      <th>FILM</th>\n",
       "      <th></th>\n",
       "      <th></th>\n",
       "      <th></th>\n",
       "      <th></th>\n",
       "    </tr>\n",
       "  </thead>\n",
       "  <tbody>\n",
       "    <tr>\n",
       "      <th>Fifty Shades of Grey (2015)</th>\n",
       "      <td>34846</td>\n",
       "      <td>4.0</td>\n",
       "      <td>3.9</td>\n",
       "      <td>2015</td>\n",
       "    </tr>\n",
       "    <tr>\n",
       "      <th>Jurassic World (2015)</th>\n",
       "      <td>34390</td>\n",
       "      <td>4.5</td>\n",
       "      <td>4.5</td>\n",
       "      <td>2015</td>\n",
       "    </tr>\n",
       "    <tr>\n",
       "      <th>American Sniper (2015)</th>\n",
       "      <td>34085</td>\n",
       "      <td>5.0</td>\n",
       "      <td>4.8</td>\n",
       "      <td>2015</td>\n",
       "    </tr>\n",
       "    <tr>\n",
       "      <th>Furious 7 (2015)</th>\n",
       "      <td>33538</td>\n",
       "      <td>5.0</td>\n",
       "      <td>4.8</td>\n",
       "      <td>2015</td>\n",
       "    </tr>\n",
       "    <tr>\n",
       "      <th>Inside Out (2015)</th>\n",
       "      <td>15749</td>\n",
       "      <td>4.5</td>\n",
       "      <td>4.5</td>\n",
       "      <td>2015</td>\n",
       "    </tr>\n",
       "    <tr>\n",
       "      <th>The Hobbit: The Battle of the Five Armies (2014)</th>\n",
       "      <td>15337</td>\n",
       "      <td>4.5</td>\n",
       "      <td>4.3</td>\n",
       "      <td>2014</td>\n",
       "    </tr>\n",
       "    <tr>\n",
       "      <th>Kingsman: The Secret Service (2015)</th>\n",
       "      <td>15205</td>\n",
       "      <td>4.5</td>\n",
       "      <td>4.2</td>\n",
       "      <td>2015</td>\n",
       "    </tr>\n",
       "    <tr>\n",
       "      <th>Minions (2015)</th>\n",
       "      <td>14998</td>\n",
       "      <td>4.0</td>\n",
       "      <td>4.0</td>\n",
       "      <td>2015</td>\n",
       "    </tr>\n",
       "    <tr>\n",
       "      <th>Avengers: Age of Ultron (2015)</th>\n",
       "      <td>14846</td>\n",
       "      <td>5.0</td>\n",
       "      <td>4.5</td>\n",
       "      <td>2015</td>\n",
       "    </tr>\n",
       "    <tr>\n",
       "      <th>Into the Woods (2014)</th>\n",
       "      <td>13055</td>\n",
       "      <td>3.5</td>\n",
       "      <td>3.4</td>\n",
       "      <td>2014</td>\n",
       "    </tr>\n",
       "  </tbody>\n",
       "</table>\n",
       "</div>"
      ],
      "text/plain": [
       "                                                  VOTES  STARS  RATING  year\n",
       "FILM                                                                        \n",
       "Fifty Shades of Grey (2015)                       34846    4.0     3.9  2015\n",
       "Jurassic World (2015)                             34390    4.5     4.5  2015\n",
       "American Sniper (2015)                            34085    5.0     4.8  2015\n",
       "Furious 7 (2015)                                  33538    5.0     4.8  2015\n",
       "Inside Out (2015)                                 15749    4.5     4.5  2015\n",
       "The Hobbit: The Battle of the Five Armies (2014)  15337    4.5     4.3  2014\n",
       "Kingsman: The Secret Service (2015)               15205    4.5     4.2  2015\n",
       "Minions (2015)                                    14998    4.0     4.0  2015\n",
       "Avengers: Age of Ultron (2015)                    14846    5.0     4.5  2015\n",
       "Into the Woods (2014)                             13055    3.5     3.4  2014"
      ]
     },
     "execution_count": 158,
     "metadata": {},
     "output_type": "execute_result"
    }
   ],
   "source": [
    "fandango=fandango.set_index('FILM')\n",
    "fandango.nlargest(10 , 'VOTES')"
   ]
  },
  {
   "cell_type": "code",
   "execution_count": 162,
   "id": "a6b716a1-1acf-47f1-8a51-cfa20b262422",
   "metadata": {},
   "outputs": [
    {
     "data": {
      "text/html": [
       "<div>\n",
       "<style scoped>\n",
       "    .dataframe tbody tr th:only-of-type {\n",
       "        vertical-align: middle;\n",
       "    }\n",
       "\n",
       "    .dataframe tbody tr th {\n",
       "        vertical-align: top;\n",
       "    }\n",
       "\n",
       "    .dataframe thead th {\n",
       "        text-align: right;\n",
       "    }\n",
       "</style>\n",
       "<table border=\"1\" class=\"dataframe\">\n",
       "  <thead>\n",
       "    <tr style=\"text-align: right;\">\n",
       "      <th></th>\n",
       "      <th>VOTES</th>\n",
       "      <th>STARS</th>\n",
       "      <th>RATING</th>\n",
       "      <th>year</th>\n",
       "    </tr>\n",
       "    <tr>\n",
       "      <th>FILM</th>\n",
       "      <th></th>\n",
       "      <th></th>\n",
       "      <th></th>\n",
       "      <th></th>\n",
       "    </tr>\n",
       "  </thead>\n",
       "  <tbody>\n",
       "    <tr>\n",
       "      <th>6 Years (2015)</th>\n",
       "      <td>0</td>\n",
       "      <td>0.0</td>\n",
       "      <td>0.0</td>\n",
       "      <td>2015</td>\n",
       "    </tr>\n",
       "    <tr>\n",
       "      <th>7 Minutes (2015)</th>\n",
       "      <td>0</td>\n",
       "      <td>0.0</td>\n",
       "      <td>0.0</td>\n",
       "      <td>2015</td>\n",
       "    </tr>\n",
       "    <tr>\n",
       "      <th>A Year in Champagne (2015)</th>\n",
       "      <td>0</td>\n",
       "      <td>0.0</td>\n",
       "      <td>0.0</td>\n",
       "      <td>2015</td>\n",
       "    </tr>\n",
       "    <tr>\n",
       "      <th>Balls Out (2015)</th>\n",
       "      <td>0</td>\n",
       "      <td>0.0</td>\n",
       "      <td>0.0</td>\n",
       "      <td>2015</td>\n",
       "    </tr>\n",
       "    <tr>\n",
       "      <th>Before I Wake (2015)</th>\n",
       "      <td>0</td>\n",
       "      <td>0.0</td>\n",
       "      <td>0.0</td>\n",
       "      <td>2015</td>\n",
       "    </tr>\n",
       "    <tr>\n",
       "      <th>...</th>\n",
       "      <td>...</td>\n",
       "      <td>...</td>\n",
       "      <td>...</td>\n",
       "      <td>...</td>\n",
       "    </tr>\n",
       "    <tr>\n",
       "      <th>Valiyavan (2015)</th>\n",
       "      <td>0</td>\n",
       "      <td>0.0</td>\n",
       "      <td>0.0</td>\n",
       "      <td>2015</td>\n",
       "    </tr>\n",
       "    <tr>\n",
       "      <th>WWE SummerSlam 2015 (2015)</th>\n",
       "      <td>0</td>\n",
       "      <td>0.0</td>\n",
       "      <td>0.0</td>\n",
       "      <td>2015</td>\n",
       "    </tr>\n",
       "    <tr>\n",
       "      <th>Yagavarayinum Naa Kaakka (2015)</th>\n",
       "      <td>0</td>\n",
       "      <td>0.0</td>\n",
       "      <td>0.0</td>\n",
       "      <td>2015</td>\n",
       "    </tr>\n",
       "    <tr>\n",
       "      <th>Yesterday, Today and Tomorrow (1964)</th>\n",
       "      <td>0</td>\n",
       "      <td>0.0</td>\n",
       "      <td>0.0</td>\n",
       "      <td>1964</td>\n",
       "    </tr>\n",
       "    <tr>\n",
       "      <th>Zarafa (2012)</th>\n",
       "      <td>0</td>\n",
       "      <td>0.0</td>\n",
       "      <td>0.0</td>\n",
       "      <td>2012</td>\n",
       "    </tr>\n",
       "  </tbody>\n",
       "</table>\n",
       "<p>69 rows × 4 columns</p>\n",
       "</div>"
      ],
      "text/plain": [
       "                                      VOTES  STARS  RATING  year\n",
       "FILM                                                            \n",
       "6 Years (2015)                            0    0.0     0.0  2015\n",
       "7 Minutes (2015)                          0    0.0     0.0  2015\n",
       "A Year in Champagne (2015)                0    0.0     0.0  2015\n",
       "Balls Out (2015)                          0    0.0     0.0  2015\n",
       "Before I Wake (2015)                      0    0.0     0.0  2015\n",
       "...                                     ...    ...     ...   ...\n",
       "Valiyavan (2015)                          0    0.0     0.0  2015\n",
       "WWE SummerSlam 2015 (2015)                0    0.0     0.0  2015\n",
       "Yagavarayinum Naa Kaakka (2015)           0    0.0     0.0  2015\n",
       "Yesterday, Today and Tomorrow (1964)      0    0.0     0.0  1964\n",
       "Zarafa (2012)                             0    0.0     0.0  2012\n",
       "\n",
       "[69 rows x 4 columns]"
      ]
     },
     "execution_count": 162,
     "metadata": {},
     "output_type": "execute_result"
    }
   ],
   "source": [
    "fandango[fandango['VOTES']==0]"
   ]
  },
  {
   "cell_type": "code",
   "execution_count": 178,
   "id": "483f8b9c-3fd8-4367-9b4b-88e75210d825",
   "metadata": {},
   "outputs": [
    {
     "data": {
      "text/html": [
       "<div>\n",
       "<style scoped>\n",
       "    .dataframe tbody tr th:only-of-type {\n",
       "        vertical-align: middle;\n",
       "    }\n",
       "\n",
       "    .dataframe tbody tr th {\n",
       "        vertical-align: top;\n",
       "    }\n",
       "\n",
       "    .dataframe thead th {\n",
       "        text-align: right;\n",
       "    }\n",
       "</style>\n",
       "<table border=\"1\" class=\"dataframe\">\n",
       "  <thead>\n",
       "    <tr style=\"text-align: right;\">\n",
       "      <th></th>\n",
       "      <th>VOTES</th>\n",
       "      <th>STARS</th>\n",
       "      <th>RATING</th>\n",
       "      <th>year</th>\n",
       "    </tr>\n",
       "    <tr>\n",
       "      <th>FILM</th>\n",
       "      <th></th>\n",
       "      <th></th>\n",
       "      <th></th>\n",
       "      <th></th>\n",
       "    </tr>\n",
       "  </thead>\n",
       "  <tbody>\n",
       "    <tr>\n",
       "      <th>Fifty Shades of Grey (2015)</th>\n",
       "      <td>34846</td>\n",
       "      <td>4.0</td>\n",
       "      <td>3.9</td>\n",
       "      <td>2015</td>\n",
       "    </tr>\n",
       "    <tr>\n",
       "      <th>Jurassic World (2015)</th>\n",
       "      <td>34390</td>\n",
       "      <td>4.5</td>\n",
       "      <td>4.5</td>\n",
       "      <td>2015</td>\n",
       "    </tr>\n",
       "    <tr>\n",
       "      <th>American Sniper (2015)</th>\n",
       "      <td>34085</td>\n",
       "      <td>5.0</td>\n",
       "      <td>4.8</td>\n",
       "      <td>2015</td>\n",
       "    </tr>\n",
       "    <tr>\n",
       "      <th>Furious 7 (2015)</th>\n",
       "      <td>33538</td>\n",
       "      <td>5.0</td>\n",
       "      <td>4.8</td>\n",
       "      <td>2015</td>\n",
       "    </tr>\n",
       "    <tr>\n",
       "      <th>Inside Out (2015)</th>\n",
       "      <td>15749</td>\n",
       "      <td>4.5</td>\n",
       "      <td>4.5</td>\n",
       "      <td>2015</td>\n",
       "    </tr>\n",
       "    <tr>\n",
       "      <th>...</th>\n",
       "      <td>...</td>\n",
       "      <td>...</td>\n",
       "      <td>...</td>\n",
       "      <td>...</td>\n",
       "    </tr>\n",
       "    <tr>\n",
       "      <th>That Sugar Film (2015)</th>\n",
       "      <td>1</td>\n",
       "      <td>5.0</td>\n",
       "      <td>5.0</td>\n",
       "      <td>2015</td>\n",
       "    </tr>\n",
       "    <tr>\n",
       "      <th>The Intern (2015)</th>\n",
       "      <td>1</td>\n",
       "      <td>5.0</td>\n",
       "      <td>5.0</td>\n",
       "      <td>2015</td>\n",
       "    </tr>\n",
       "    <tr>\n",
       "      <th>The Park Bench (2015)</th>\n",
       "      <td>1</td>\n",
       "      <td>5.0</td>\n",
       "      <td>5.0</td>\n",
       "      <td>2015</td>\n",
       "    </tr>\n",
       "    <tr>\n",
       "      <th>The Wanted 18 (2015)</th>\n",
       "      <td>1</td>\n",
       "      <td>5.0</td>\n",
       "      <td>5.0</td>\n",
       "      <td>2015</td>\n",
       "    </tr>\n",
       "    <tr>\n",
       "      <th>Z For Zachariah (2015)</th>\n",
       "      <td>1</td>\n",
       "      <td>5.0</td>\n",
       "      <td>5.0</td>\n",
       "      <td>2015</td>\n",
       "    </tr>\n",
       "  </tbody>\n",
       "</table>\n",
       "<p>435 rows × 4 columns</p>\n",
       "</div>"
      ],
      "text/plain": [
       "                             VOTES  STARS  RATING  year\n",
       "FILM                                                   \n",
       "Fifty Shades of Grey (2015)  34846    4.0     3.9  2015\n",
       "Jurassic World (2015)        34390    4.5     4.5  2015\n",
       "American Sniper (2015)       34085    5.0     4.8  2015\n",
       "Furious 7 (2015)             33538    5.0     4.8  2015\n",
       "Inside Out (2015)            15749    4.5     4.5  2015\n",
       "...                            ...    ...     ...   ...\n",
       "That Sugar Film (2015)           1    5.0     5.0  2015\n",
       "The Intern (2015)                1    5.0     5.0  2015\n",
       "The Park Bench (2015)            1    5.0     5.0  2015\n",
       "The Wanted 18 (2015)             1    5.0     5.0  2015\n",
       "Z For Zachariah (2015)           1    5.0     5.0  2015\n",
       "\n",
       "[435 rows x 4 columns]"
      ]
     },
     "execution_count": 178,
     "metadata": {},
     "output_type": "execute_result"
    }
   ],
   "source": [
    "fandango=fandango[fandango['VOTES']>0]\n",
    "fandango"
   ]
  },
  {
   "cell_type": "code",
   "execution_count": 210,
   "id": "16b57b8d-c2e0-4312-ad12-a2242f2e386f",
   "metadata": {},
   "outputs": [
    {
     "data": {
      "text/plain": [
       "<matplotlib.legend.Legend at 0x2b50499d280>"
      ]
     },
     "execution_count": 210,
     "metadata": {},
     "output_type": "execute_result"
    },
    {
     "data": {
      "image/png": "[encoded data removed]",
      "text/plain": [
       "<Figure size 800x400 with 1 Axes>"
      ]
     },
     "metadata": {},
     "output_type": "display_data"
    }
   ],
   "source": [
    "plt.figure(figsize=(8,4))\n",
    "sns.kdeplot(data=fandango , x='RATING' , fill=True , clip=(0,5), label='RATING')\n",
    "sns.kdeplot(data=fandango , x='STARS' , fill=True , clip=(0,5), label='STARS')\n",
    "plt.legend(loc=(1.01,0.8))"
   ]
  },
  {
   "cell_type": "code",
   "execution_count": 216,
   "id": "307203db-3ec7-435c-bf68-348332d64294",
   "metadata": {},
   "outputs": [
    {
     "data": {
      "text/html": [
       "<div>\n",
       "<style scoped>\n",
       "    .dataframe tbody tr th:only-of-type {\n",
       "        vertical-align: middle;\n",
       "    }\n",
       "\n",
       "    .dataframe tbody tr th {\n",
       "        vertical-align: top;\n",
       "    }\n",
       "\n",
       "    .dataframe thead th {\n",
       "        text-align: right;\n",
       "    }\n",
       "</style>\n",
       "<table border=\"1\" class=\"dataframe\">\n",
       "  <thead>\n",
       "    <tr style=\"text-align: right;\">\n",
       "      <th></th>\n",
       "      <th>VOTES</th>\n",
       "      <th>STARS</th>\n",
       "      <th>RATING</th>\n",
       "      <th>year</th>\n",
       "      <th>Stars-Rating</th>\n",
       "    </tr>\n",
       "    <tr>\n",
       "      <th>FILM</th>\n",
       "      <th></th>\n",
       "      <th></th>\n",
       "      <th></th>\n",
       "      <th></th>\n",
       "      <th></th>\n",
       "    </tr>\n",
       "  </thead>\n",
       "  <tbody>\n",
       "    <tr>\n",
       "      <th>Fifty Shades of Grey (2015)</th>\n",
       "      <td>34846</td>\n",
       "      <td>4.0</td>\n",
       "      <td>3.9</td>\n",
       "      <td>2015</td>\n",
       "      <td>0.1</td>\n",
       "    </tr>\n",
       "    <tr>\n",
       "      <th>Jurassic World (2015)</th>\n",
       "      <td>34390</td>\n",
       "      <td>4.5</td>\n",
       "      <td>4.5</td>\n",
       "      <td>2015</td>\n",
       "      <td>0.0</td>\n",
       "    </tr>\n",
       "    <tr>\n",
       "      <th>American Sniper (2015)</th>\n",
       "      <td>34085</td>\n",
       "      <td>5.0</td>\n",
       "      <td>4.8</td>\n",
       "      <td>2015</td>\n",
       "      <td>0.2</td>\n",
       "    </tr>\n",
       "    <tr>\n",
       "      <th>Furious 7 (2015)</th>\n",
       "      <td>33538</td>\n",
       "      <td>5.0</td>\n",
       "      <td>4.8</td>\n",
       "      <td>2015</td>\n",
       "      <td>0.2</td>\n",
       "    </tr>\n",
       "    <tr>\n",
       "      <th>Inside Out (2015)</th>\n",
       "      <td>15749</td>\n",
       "      <td>4.5</td>\n",
       "      <td>4.5</td>\n",
       "      <td>2015</td>\n",
       "      <td>0.0</td>\n",
       "    </tr>\n",
       "  </tbody>\n",
       "</table>\n",
       "</div>"
      ],
      "text/plain": [
       "                             VOTES  STARS  RATING  year  Stars-Rating\n",
       "FILM                                                                 \n",
       "Fifty Shades of Grey (2015)  34846    4.0     3.9  2015           0.1\n",
       "Jurassic World (2015)        34390    4.5     4.5  2015           0.0\n",
       "American Sniper (2015)       34085    5.0     4.8  2015           0.2\n",
       "Furious 7 (2015)             33538    5.0     4.8  2015           0.2\n",
       "Inside Out (2015)            15749    4.5     4.5  2015           0.0"
      ]
     },
     "execution_count": 216,
     "metadata": {},
     "output_type": "execute_result"
    }
   ],
   "source": [
    "fandango['Stars-Rating']=np.round(fandango['STARS']-fandango['RATING'] , 2)\n",
    "fandango.head()"
   ]
  },
  {
   "cell_type": "code",
   "execution_count": 222,
   "id": "30d0377c-0b53-4a0c-81fa-bd2a6fd14fa2",
   "metadata": {},
   "outputs": [
    {
     "data": {
      "text/plain": [
       "<Axes: xlabel='Stars-Rating', ylabel='count'>"
      ]
     },
     "execution_count": 222,
     "metadata": {},
     "output_type": "execute_result"
    },
    {
     "data": {
      "image/png": "[encoded data removed]",
      "text/plain": [
       "<Figure size 640x480 with 1 Axes>"
      ]
     },
     "metadata": {},
     "output_type": "display_data"
    }
   ],
   "source": [
    "sns.countplot(data=fandango , x='Stars-Rating' , hue='Stars-Rating' , palette='magma')"
   ]
  },
  {
   "cell_type": "code",
   "execution_count": 226,
   "id": "5bb424b3-16c1-4846-8e2f-643394b02ec8",
   "metadata": {},
   "outputs": [
    {
     "data": {
      "text/html": [
       "<div>\n",
       "<style scoped>\n",
       "    .dataframe tbody tr th:only-of-type {\n",
       "        vertical-align: middle;\n",
       "    }\n",
       "\n",
       "    .dataframe tbody tr th {\n",
       "        vertical-align: top;\n",
       "    }\n",
       "\n",
       "    .dataframe thead th {\n",
       "        text-align: right;\n",
       "    }\n",
       "</style>\n",
       "<table border=\"1\" class=\"dataframe\">\n",
       "  <thead>\n",
       "    <tr style=\"text-align: right;\">\n",
       "      <th></th>\n",
       "      <th>VOTES</th>\n",
       "      <th>STARS</th>\n",
       "      <th>RATING</th>\n",
       "      <th>year</th>\n",
       "      <th>Stars-Rating</th>\n",
       "    </tr>\n",
       "    <tr>\n",
       "      <th>FILM</th>\n",
       "      <th></th>\n",
       "      <th></th>\n",
       "      <th></th>\n",
       "      <th></th>\n",
       "      <th></th>\n",
       "    </tr>\n",
       "  </thead>\n",
       "  <tbody>\n",
       "    <tr>\n",
       "      <th>Turbo Kid (2015)</th>\n",
       "      <td>2</td>\n",
       "      <td>5.0</td>\n",
       "      <td>4.0</td>\n",
       "      <td>2015</td>\n",
       "      <td>1.0</td>\n",
       "    </tr>\n",
       "  </tbody>\n",
       "</table>\n",
       "</div>"
      ],
      "text/plain": [
       "                  VOTES  STARS  RATING  year  Stars-Rating\n",
       "FILM                                                      \n",
       "Turbo Kid (2015)      2    5.0     4.0  2015           1.0"
      ]
     },
     "execution_count": 226,
     "metadata": {},
     "output_type": "execute_result"
    }
   ],
   "source": [
    "fandango[fandango['Stars-Rating']==1]"
   ]
  },
  {
   "cell_type": "code",
   "execution_count": 246,
   "id": "8376055d-1350-44d7-a878-bb7f319ed9e7",
   "metadata": {},
   "outputs": [
    {
     "data": {
      "text/plain": [
       "(0.0, 100.0)"
      ]
     },
     "execution_count": 246,
     "metadata": {},
     "output_type": "execute_result"
    },
    {
     "data": {
      "image/png": "[encoded data removed]",
      "text/plain": [
       "<Figure size 1000x400 with 1 Axes>"
      ]
     },
     "metadata": {},
     "output_type": "display_data"
    }
   ],
   "source": [
    "plt.figure(figsize=(10,4))\n",
    "sns.scatterplot(data=all_sites , x='RottenTomatoes' , y='RottenTomatoes_User')\n",
    "plt.xlim(0,100)\n",
    "plt.ylim(0,100)"
   ]
  },
  {
   "cell_type": "code",
   "execution_count": 248,
   "id": "92659396-f4ed-4908-aa7a-b21fbc77bf76",
   "metadata": {},
   "outputs": [
    {
     "data": {
      "text/html": [
       "<div>\n",
       "<style scoped>\n",
       "    .dataframe tbody tr th:only-of-type {\n",
       "        vertical-align: middle;\n",
       "    }\n",
       "\n",
       "    .dataframe tbody tr th {\n",
       "        vertical-align: top;\n",
       "    }\n",
       "\n",
       "    .dataframe thead th {\n",
       "        text-align: right;\n",
       "    }\n",
       "</style>\n",
       "<table border=\"1\" class=\"dataframe\">\n",
       "  <thead>\n",
       "    <tr style=\"text-align: right;\">\n",
       "      <th></th>\n",
       "      <th>RottenTomatoes</th>\n",
       "      <th>RottenTomatoes_User</th>\n",
       "    </tr>\n",
       "  </thead>\n",
       "  <tbody>\n",
       "    <tr>\n",
       "      <th>RottenTomatoes</th>\n",
       "      <td>1.00000</td>\n",
       "      <td>0.78144</td>\n",
       "    </tr>\n",
       "    <tr>\n",
       "      <th>RottenTomatoes_User</th>\n",
       "      <td>0.78144</td>\n",
       "      <td>1.00000</td>\n",
       "    </tr>\n",
       "  </tbody>\n",
       "</table>\n",
       "</div>"
      ],
      "text/plain": [
       "                     RottenTomatoes  RottenTomatoes_User\n",
       "RottenTomatoes              1.00000              0.78144\n",
       "RottenTomatoes_User         0.78144              1.00000"
      ]
     },
     "execution_count": 248,
     "metadata": {},
     "output_type": "execute_result"
    }
   ],
   "source": [
    "all_sites[['RottenTomatoes' , 'RottenTomatoes_User']].corr()"
   ]
  },
  {
   "cell_type": "code",
   "execution_count": 250,
   "id": "a34f78f6-3b30-49ec-be09-4a7a4554527f",
   "metadata": {},
   "outputs": [
    {
     "data": {
      "text/plain": [
       "0      12\n",
       "1      -5\n",
       "2      10\n",
       "3      66\n",
       "4      14\n",
       "       ..\n",
       "141    -9\n",
       "142   -15\n",
       "143   -19\n",
       "144   -19\n",
       "145   -24\n",
       "Name: rottenTomatoes_diff, Length: 146, dtype: int64"
      ]
     },
     "execution_count": 250,
     "metadata": {},
     "output_type": "execute_result"
    }
   ],
   "source": [
    "all_sites['rottenTomatoes_diff']=all_sites['RottenTomatoes_User']-all_sites['RottenTomatoes']\n",
    "all_sites['rottenTomatoes_diff']"
   ]
  },
  {
   "cell_type": "code",
   "execution_count": 258,
   "id": "a1c90901-bdfe-4b1c-9195-76fa827982de",
   "metadata": {},
   "outputs": [
    {
     "data": {
      "text/plain": [
       "Text(0.5, 1.0, 'RottenTomatoes_Diff')"
      ]
     },
     "execution_count": 258,
     "metadata": {},
     "output_type": "execute_result"
    },
    {
     "data": {
      "image/png": "[encoded data removed]",
      "text/plain": [
       "<Figure size 640x480 with 1 Axes>"
      ]
     },
     "metadata": {},
     "output_type": "display_data"
    }
   ],
   "source": [
    "sns.histplot(data=all_sites , x='rottenTomatoes_diff' , kde=True)\n",
    "plt.title('RottenTomatoes_Diff')"
   ]
  },
  {
   "cell_type": "code",
   "execution_count": 254,
   "id": "187f1051-c89e-490b-9029-1822a6550099",
   "metadata": {},
   "outputs": [
    {
     "data": {
      "text/plain": [
       "15.095890410958905"
      ]
     },
     "execution_count": 254,
     "metadata": {},
     "output_type": "execute_result"
    }
   ],
   "source": [
    "np.abs(all_sites['rottenTomatoes_diff']).mean()"
   ]
  },
  {
   "cell_type": "code",
   "execution_count": 264,
   "id": "6e9a34d9-17bd-4521-8405-41ed8601812a",
   "metadata": {},
   "outputs": [
    {
     "data": {
      "text/plain": [
       "<Axes: xlabel='rottenTomatoes_diff', ylabel='Count'>"
      ]
     },
     "execution_count": 264,
     "metadata": {},
     "output_type": "execute_result"
    },
    {
     "data": {
      "image/png": "[encoded data removed]",
      "text/plain": [
       "<Figure size 640x480 with 1 Axes>"
      ]
     },
     "metadata": {},
     "output_type": "display_data"
    }
   ],
   "source": [
    "sns.histplot(x=np.abs(all_sites['rottenTomatoes_diff']) )"
   ]
  },
  {
   "cell_type": "code",
   "execution_count": 266,
   "id": "50dbaee5-c866-4035-8b6d-925b873b5e9d",
   "metadata": {},
   "outputs": [
    {
     "data": {
      "text/html": [
       "<div>\n",
       "<style scoped>\n",
       "    .dataframe tbody tr th:only-of-type {\n",
       "        vertical-align: middle;\n",
       "    }\n",
       "\n",
       "    .dataframe tbody tr th {\n",
       "        vertical-align: top;\n",
       "    }\n",
       "\n",
       "    .dataframe thead th {\n",
       "        text-align: right;\n",
       "    }\n",
       "</style>\n",
       "<table border=\"1\" class=\"dataframe\">\n",
       "  <thead>\n",
       "    <tr style=\"text-align: right;\">\n",
       "      <th></th>\n",
       "      <th>FILM</th>\n",
       "      <th>RottenTomatoes</th>\n",
       "      <th>RottenTomatoes_User</th>\n",
       "      <th>Metacritic</th>\n",
       "      <th>Metacritic_User</th>\n",
       "      <th>IMDB</th>\n",
       "      <th>Metacritic_user_vote_count</th>\n",
       "      <th>IMDB_user_vote_count</th>\n",
       "      <th>rottenTomatoes_diff</th>\n",
       "    </tr>\n",
       "  </thead>\n",
       "  <tbody>\n",
       "    <tr>\n",
       "      <th>3</th>\n",
       "      <td>Do You Believe? (2015)</td>\n",
       "      <td>18</td>\n",
       "      <td>84</td>\n",
       "      <td>22</td>\n",
       "      <td>4.7</td>\n",
       "      <td>5.4</td>\n",
       "      <td>31</td>\n",
       "      <td>3136</td>\n",
       "      <td>66</td>\n",
       "    </tr>\n",
       "    <tr>\n",
       "      <th>85</th>\n",
       "      <td>Little Boy (2015)</td>\n",
       "      <td>20</td>\n",
       "      <td>81</td>\n",
       "      <td>30</td>\n",
       "      <td>5.9</td>\n",
       "      <td>7.4</td>\n",
       "      <td>38</td>\n",
       "      <td>5927</td>\n",
       "      <td>61</td>\n",
       "    </tr>\n",
       "    <tr>\n",
       "      <th>105</th>\n",
       "      <td>Hitman: Agent 47 (2015)</td>\n",
       "      <td>7</td>\n",
       "      <td>49</td>\n",
       "      <td>28</td>\n",
       "      <td>3.3</td>\n",
       "      <td>5.9</td>\n",
       "      <td>67</td>\n",
       "      <td>4260</td>\n",
       "      <td>42</td>\n",
       "    </tr>\n",
       "    <tr>\n",
       "      <th>134</th>\n",
       "      <td>The Longest Ride (2015)</td>\n",
       "      <td>31</td>\n",
       "      <td>73</td>\n",
       "      <td>33</td>\n",
       "      <td>4.8</td>\n",
       "      <td>7.2</td>\n",
       "      <td>49</td>\n",
       "      <td>25214</td>\n",
       "      <td>42</td>\n",
       "    </tr>\n",
       "    <tr>\n",
       "      <th>125</th>\n",
       "      <td>The Wedding Ringer (2015)</td>\n",
       "      <td>27</td>\n",
       "      <td>66</td>\n",
       "      <td>35</td>\n",
       "      <td>3.3</td>\n",
       "      <td>6.7</td>\n",
       "      <td>126</td>\n",
       "      <td>37292</td>\n",
       "      <td>39</td>\n",
       "    </tr>\n",
       "  </tbody>\n",
       "</table>\n",
       "</div>"
      ],
      "text/plain": [
       "                          FILM  RottenTomatoes  RottenTomatoes_User  \\\n",
       "3       Do You Believe? (2015)              18                   84   \n",
       "85           Little Boy (2015)              20                   81   \n",
       "105    Hitman: Agent 47 (2015)               7                   49   \n",
       "134    The Longest Ride (2015)              31                   73   \n",
       "125  The Wedding Ringer (2015)              27                   66   \n",
       "\n",
       "     Metacritic  Metacritic_User  IMDB  Metacritic_user_vote_count  \\\n",
       "3            22              4.7   5.4                          31   \n",
       "85           30              5.9   7.4                          38   \n",
       "105          28              3.3   5.9                          67   \n",
       "134          33              4.8   7.2                          49   \n",
       "125          35              3.3   6.7                         126   \n",
       "\n",
       "     IMDB_user_vote_count  rottenTomatoes_diff  \n",
       "3                    3136                   66  \n",
       "85                   5927                   61  \n",
       "105                  4260                   42  \n",
       "134                 25214                   42  \n",
       "125                 37292                   39  "
      ]
     },
     "execution_count": 266,
     "metadata": {},
     "output_type": "execute_result"
    }
   ],
   "source": [
    "all_sites.nlargest(5 , 'rottenTomatoes_diff' )"
   ]
  },
  {
   "cell_type": "code",
   "execution_count": 268,
   "id": "e6d46d15-965f-4ebb-a7ef-50a5fd32dc96",
   "metadata": {},
   "outputs": [
    {
     "data": {
      "text/html": [
       "<div>\n",
       "<style scoped>\n",
       "    .dataframe tbody tr th:only-of-type {\n",
       "        vertical-align: middle;\n",
       "    }\n",
       "\n",
       "    .dataframe tbody tr th {\n",
       "        vertical-align: top;\n",
       "    }\n",
       "\n",
       "    .dataframe thead th {\n",
       "        text-align: right;\n",
       "    }\n",
       "</style>\n",
       "<table border=\"1\" class=\"dataframe\">\n",
       "  <thead>\n",
       "    <tr style=\"text-align: right;\">\n",
       "      <th></th>\n",
       "      <th>FILM</th>\n",
       "      <th>rottenTomatoes_diff</th>\n",
       "    </tr>\n",
       "  </thead>\n",
       "  <tbody>\n",
       "    <tr>\n",
       "      <th>3</th>\n",
       "      <td>Do You Believe? (2015)</td>\n",
       "      <td>66</td>\n",
       "    </tr>\n",
       "    <tr>\n",
       "      <th>85</th>\n",
       "      <td>Little Boy (2015)</td>\n",
       "      <td>61</td>\n",
       "    </tr>\n",
       "    <tr>\n",
       "      <th>105</th>\n",
       "      <td>Hitman: Agent 47 (2015)</td>\n",
       "      <td>42</td>\n",
       "    </tr>\n",
       "    <tr>\n",
       "      <th>134</th>\n",
       "      <td>The Longest Ride (2015)</td>\n",
       "      <td>42</td>\n",
       "    </tr>\n",
       "    <tr>\n",
       "      <th>125</th>\n",
       "      <td>The Wedding Ringer (2015)</td>\n",
       "      <td>39</td>\n",
       "    </tr>\n",
       "  </tbody>\n",
       "</table>\n",
       "</div>"
      ],
      "text/plain": [
       "                          FILM  rottenTomatoes_diff\n",
       "3       Do You Believe? (2015)                   66\n",
       "85           Little Boy (2015)                   61\n",
       "105    Hitman: Agent 47 (2015)                   42\n",
       "134    The Longest Ride (2015)                   42\n",
       "125  The Wedding Ringer (2015)                   39"
      ]
     },
     "execution_count": 268,
     "metadata": {},
     "output_type": "execute_result"
    }
   ],
   "source": [
    "all_sites.nlargest(5 , 'rottenTomatoes_diff')[['FILM' , 'rottenTomatoes_diff']]"
   ]
  },
  {
   "cell_type": "code",
   "execution_count": 270,
   "id": "71326b07-df74-4cbd-a984-d5c25c1a86d3",
   "metadata": {},
   "outputs": [
    {
     "data": {
      "text/html": [
       "<div>\n",
       "<style scoped>\n",
       "    .dataframe tbody tr th:only-of-type {\n",
       "        vertical-align: middle;\n",
       "    }\n",
       "\n",
       "    .dataframe tbody tr th {\n",
       "        vertical-align: top;\n",
       "    }\n",
       "\n",
       "    .dataframe thead th {\n",
       "        text-align: right;\n",
       "    }\n",
       "</style>\n",
       "<table border=\"1\" class=\"dataframe\">\n",
       "  <thead>\n",
       "    <tr style=\"text-align: right;\">\n",
       "      <th></th>\n",
       "      <th>FILM</th>\n",
       "      <th>RottenTomatoes</th>\n",
       "      <th>RottenTomatoes_User</th>\n",
       "      <th>Metacritic</th>\n",
       "      <th>Metacritic_User</th>\n",
       "      <th>IMDB</th>\n",
       "      <th>Metacritic_user_vote_count</th>\n",
       "      <th>IMDB_user_vote_count</th>\n",
       "      <th>rottenTomatoes_diff</th>\n",
       "    </tr>\n",
       "  </thead>\n",
       "  <tbody>\n",
       "    <tr>\n",
       "      <th>69</th>\n",
       "      <td>Mr. Turner (2014)</td>\n",
       "      <td>98</td>\n",
       "      <td>56</td>\n",
       "      <td>94</td>\n",
       "      <td>6.6</td>\n",
       "      <td>6.9</td>\n",
       "      <td>98</td>\n",
       "      <td>13296</td>\n",
       "      <td>-42</td>\n",
       "    </tr>\n",
       "    <tr>\n",
       "      <th>112</th>\n",
       "      <td>It Follows (2015)</td>\n",
       "      <td>96</td>\n",
       "      <td>65</td>\n",
       "      <td>83</td>\n",
       "      <td>7.5</td>\n",
       "      <td>6.9</td>\n",
       "      <td>551</td>\n",
       "      <td>64656</td>\n",
       "      <td>-31</td>\n",
       "    </tr>\n",
       "    <tr>\n",
       "      <th>115</th>\n",
       "      <td>While We're Young (2015)</td>\n",
       "      <td>83</td>\n",
       "      <td>52</td>\n",
       "      <td>76</td>\n",
       "      <td>6.7</td>\n",
       "      <td>6.4</td>\n",
       "      <td>65</td>\n",
       "      <td>17647</td>\n",
       "      <td>-31</td>\n",
       "    </tr>\n",
       "    <tr>\n",
       "      <th>37</th>\n",
       "      <td>Welcome to Me (2015)</td>\n",
       "      <td>71</td>\n",
       "      <td>47</td>\n",
       "      <td>67</td>\n",
       "      <td>6.9</td>\n",
       "      <td>5.9</td>\n",
       "      <td>33</td>\n",
       "      <td>8301</td>\n",
       "      <td>-24</td>\n",
       "    </tr>\n",
       "    <tr>\n",
       "      <th>40</th>\n",
       "      <td>I'll See You In My Dreams (2015)</td>\n",
       "      <td>94</td>\n",
       "      <td>70</td>\n",
       "      <td>75</td>\n",
       "      <td>6.9</td>\n",
       "      <td>6.9</td>\n",
       "      <td>14</td>\n",
       "      <td>1151</td>\n",
       "      <td>-24</td>\n",
       "    </tr>\n",
       "  </tbody>\n",
       "</table>\n",
       "</div>"
      ],
      "text/plain": [
       "                                 FILM  RottenTomatoes  RottenTomatoes_User  \\\n",
       "69                  Mr. Turner (2014)              98                   56   \n",
       "112                 It Follows (2015)              96                   65   \n",
       "115          While We're Young (2015)              83                   52   \n",
       "37               Welcome to Me (2015)              71                   47   \n",
       "40   I'll See You In My Dreams (2015)              94                   70   \n",
       "\n",
       "     Metacritic  Metacritic_User  IMDB  Metacritic_user_vote_count  \\\n",
       "69           94              6.6   6.9                          98   \n",
       "112          83              7.5   6.9                         551   \n",
       "115          76              6.7   6.4                          65   \n",
       "37           67              6.9   5.9                          33   \n",
       "40           75              6.9   6.9                          14   \n",
       "\n",
       "     IMDB_user_vote_count  rottenTomatoes_diff  \n",
       "69                  13296                  -42  \n",
       "112                 64656                  -31  \n",
       "115                 17647                  -31  \n",
       "37                   8301                  -24  \n",
       "40                   1151                  -24  "
      ]
     },
     "execution_count": 270,
     "metadata": {},
     "output_type": "execute_result"
    }
   ],
   "source": [
    "all_sites.nsmallest(5 , 'rottenTomatoes_diff')"
   ]
  },
  {
   "cell_type": "code",
   "execution_count": 278,
   "id": "16168758-2694-483f-a38d-1b4e205c6ca4",
   "metadata": {},
   "outputs": [
    {
     "data": {
      "text/plain": [
       "(0.0, 10.0)"
      ]
     },
     "execution_count": 278,
     "metadata": {},
     "output_type": "execute_result"
    },
    {
     "data": {
      "image/png": "[encoded data removed]",
      "text/plain": [
       "<Figure size 1000x400 with 1 Axes>"
      ]
     },
     "metadata": {},
     "output_type": "display_data"
    }
   ],
   "source": [
    "plt.figure(figsize=(10,4))\n",
    "sns.scatterplot(all_sites , x='Metacritic' , y='Metacritic_User' , edgecolor='black')\n",
    "plt.xlim(0,100)\n",
    "plt.ylim(0,10)"
   ]
  },
  {
   "cell_type": "code",
   "execution_count": 290,
   "id": "94a00fd3-9dc7-40c0-adf3-b7a7d433b79d",
   "metadata": {},
   "outputs": [
    {
     "data": {
      "text/plain": [
       "<Axes: xlabel='Metacritic_user_vote_count', ylabel='IMDB_user_vote_count'>"
      ]
     },
     "execution_count": 290,
     "metadata": {},
     "output_type": "execute_result"
    },
    {
     "data": {
      "image/png": "[encoded data removed]",
      "text/plain": [
       "<Figure size 1000x400 with 1 Axes>"
      ]
     },
     "metadata": {},
     "output_type": "display_data"
    }
   ],
   "source": [
    "plt.figure(figsize=(10,4))\n",
    "sns.scatterplot(all_sites , x='Metacritic_user_vote_count' , y='IMDB_user_vote_count' ,ec='black')"
   ]
  },
  {
   "cell_type": "code",
   "execution_count": 294,
   "id": "f24fa897-2c16-47a7-b7c7-f0c15cb0006e",
   "metadata": {},
   "outputs": [
    {
     "data": {
      "text/html": [
       "<div>\n",
       "<style scoped>\n",
       "    .dataframe tbody tr th:only-of-type {\n",
       "        vertical-align: middle;\n",
       "    }\n",
       "\n",
       "    .dataframe tbody tr th {\n",
       "        vertical-align: top;\n",
       "    }\n",
       "\n",
       "    .dataframe thead th {\n",
       "        text-align: right;\n",
       "    }\n",
       "</style>\n",
       "<table border=\"1\" class=\"dataframe\">\n",
       "  <thead>\n",
       "    <tr style=\"text-align: right;\">\n",
       "      <th></th>\n",
       "      <th>Metacritic_user_vote_count</th>\n",
       "      <th>IMDB_user_vote_count</th>\n",
       "    </tr>\n",
       "  </thead>\n",
       "  <tbody>\n",
       "    <tr>\n",
       "      <th>Metacritic_user_vote_count</th>\n",
       "      <td>1.000000</td>\n",
       "      <td>0.880635</td>\n",
       "    </tr>\n",
       "    <tr>\n",
       "      <th>IMDB_user_vote_count</th>\n",
       "      <td>0.880635</td>\n",
       "      <td>1.000000</td>\n",
       "    </tr>\n",
       "  </tbody>\n",
       "</table>\n",
       "</div>"
      ],
      "text/plain": [
       "                            Metacritic_user_vote_count  IMDB_user_vote_count\n",
       "Metacritic_user_vote_count                    1.000000              0.880635\n",
       "IMDB_user_vote_count                          0.880635              1.000000"
      ]
     },
     "execution_count": 294,
     "metadata": {},
     "output_type": "execute_result"
    }
   ],
   "source": [
    "all_sites[['Metacritic_user_vote_count' , 'IMDB_user_vote_count']].corr()"
   ]
  },
  {
   "cell_type": "code",
   "execution_count": 316,
   "id": "3fb3f361-a7af-4a7e-9e41-063cdbb639f3",
   "metadata": {},
   "outputs": [
    {
     "data": {
      "text/html": [
       "<div>\n",
       "<style scoped>\n",
       "    .dataframe tbody tr th:only-of-type {\n",
       "        vertical-align: middle;\n",
       "    }\n",
       "\n",
       "    .dataframe tbody tr th {\n",
       "        vertical-align: top;\n",
       "    }\n",
       "\n",
       "    .dataframe thead th {\n",
       "        text-align: right;\n",
       "    }\n",
       "</style>\n",
       "<table border=\"1\" class=\"dataframe\">\n",
       "  <thead>\n",
       "    <tr style=\"text-align: right;\">\n",
       "      <th></th>\n",
       "      <th>FILM</th>\n",
       "      <th>RottenTomatoes</th>\n",
       "      <th>RottenTomatoes_User</th>\n",
       "      <th>Metacritic</th>\n",
       "      <th>Metacritic_User</th>\n",
       "      <th>IMDB</th>\n",
       "      <th>Metacritic_user_vote_count</th>\n",
       "      <th>IMDB_user_vote_count</th>\n",
       "      <th>rottenTomatoes_diff</th>\n",
       "    </tr>\n",
       "  </thead>\n",
       "  <tbody>\n",
       "    <tr>\n",
       "      <th>14</th>\n",
       "      <td>The Imitation Game (2014)</td>\n",
       "      <td>90</td>\n",
       "      <td>92</td>\n",
       "      <td>73</td>\n",
       "      <td>8.2</td>\n",
       "      <td>8.1</td>\n",
       "      <td>566</td>\n",
       "      <td>334164</td>\n",
       "      <td>2</td>\n",
       "    </tr>\n",
       "  </tbody>\n",
       "</table>\n",
       "</div>"
      ],
      "text/plain": [
       "                         FILM  RottenTomatoes  RottenTomatoes_User  \\\n",
       "14  The Imitation Game (2014)              90                   92   \n",
       "\n",
       "    Metacritic  Metacritic_User  IMDB  Metacritic_user_vote_count  \\\n",
       "14          73              8.2   8.1                         566   \n",
       "\n",
       "    IMDB_user_vote_count  rottenTomatoes_diff  \n",
       "14                334164                    2  "
      ]
     },
     "execution_count": 316,
     "metadata": {},
     "output_type": "execute_result"
    }
   ],
   "source": [
    "all_sites.nlargest(1,'IMDB_user_vote_count')"
   ]
  },
  {
   "cell_type": "code",
   "execution_count": 318,
   "id": "2b2d621c-90f6-4601-a4be-dcd056400e4e",
   "metadata": {},
   "outputs": [
    {
     "data": {
      "text/html": [
       "<div>\n",
       "<style scoped>\n",
       "    .dataframe tbody tr th:only-of-type {\n",
       "        vertical-align: middle;\n",
       "    }\n",
       "\n",
       "    .dataframe tbody tr th {\n",
       "        vertical-align: top;\n",
       "    }\n",
       "\n",
       "    .dataframe thead th {\n",
       "        text-align: right;\n",
       "    }\n",
       "</style>\n",
       "<table border=\"1\" class=\"dataframe\">\n",
       "  <thead>\n",
       "    <tr style=\"text-align: right;\">\n",
       "      <th></th>\n",
       "      <th>FILM</th>\n",
       "      <th>RottenTomatoes</th>\n",
       "      <th>RottenTomatoes_User</th>\n",
       "      <th>Metacritic</th>\n",
       "      <th>Metacritic_User</th>\n",
       "      <th>IMDB</th>\n",
       "      <th>Metacritic_user_vote_count</th>\n",
       "      <th>IMDB_user_vote_count</th>\n",
       "      <th>rottenTomatoes_diff</th>\n",
       "    </tr>\n",
       "  </thead>\n",
       "  <tbody>\n",
       "    <tr>\n",
       "      <th>88</th>\n",
       "      <td>Mad Max: Fury Road (2015)</td>\n",
       "      <td>97</td>\n",
       "      <td>88</td>\n",
       "      <td>89</td>\n",
       "      <td>8.7</td>\n",
       "      <td>8.3</td>\n",
       "      <td>2375</td>\n",
       "      <td>292023</td>\n",
       "      <td>-9</td>\n",
       "    </tr>\n",
       "  </tbody>\n",
       "</table>\n",
       "</div>"
      ],
      "text/plain": [
       "                         FILM  RottenTomatoes  RottenTomatoes_User  \\\n",
       "88  Mad Max: Fury Road (2015)              97                   88   \n",
       "\n",
       "    Metacritic  Metacritic_User  IMDB  Metacritic_user_vote_count  \\\n",
       "88          89              8.7   8.3                        2375   \n",
       "\n",
       "    IMDB_user_vote_count  rottenTomatoes_diff  \n",
       "88                292023                   -9  "
      ]
     },
     "execution_count": 318,
     "metadata": {},
     "output_type": "execute_result"
    }
   ],
   "source": [
    "all_sites.nlargest(1, 'Metacritic_user_vote_count')"
   ]
  },
  {
   "cell_type": "code",
   "execution_count": 37,
   "id": "4a62c573-7fb0-40af-9953-0afff08ec184",
   "metadata": {},
   "outputs": [
    {
     "data": {
      "text/plain": [
       "0      2015\n",
       "1      2015\n",
       "2      2015\n",
       "3      2015\n",
       "4      2015\n",
       "       ... \n",
       "141    2015\n",
       "142    2015\n",
       "143    2014\n",
       "144    2015\n",
       "145    2015\n",
       "Name: year, Length: 146, dtype: object"
      ]
     },
     "execution_count": 37,
     "metadata": {},
     "output_type": "execute_result"
    }
   ],
   "source": [
    "all_sites['year']=all_sites['FILM'].apply(lambda title : title.split('(')[-1].replace(')' , ''))\n",
    "all_sites['year']                         "
   ]
  },
  {
   "cell_type": "code",
   "execution_count": 41,
   "id": "97e54159-4639-456e-9d98-24b5206635ca",
   "metadata": {},
   "outputs": [
    {
     "data": {
      "text/plain": [
       "year\n",
       "2015    129\n",
       "2014     17\n",
       "Name: count, dtype: int64"
      ]
     },
     "execution_count": 41,
     "metadata": {},
     "output_type": "execute_result"
    }
   ],
   "source": [
    "all_sites['year'].value_counts()"
   ]
  },
  {
   "cell_type": "code",
   "execution_count": 11,
   "id": "590939d1-ec34-496a-bce4-89c3bda138ff",
   "metadata": {
    "scrolled": true
   },
   "outputs": [
    {
     "data": {
      "text/html": [
       "<div>\n",
       "<style scoped>\n",
       "    .dataframe tbody tr th:only-of-type {\n",
       "        vertical-align: middle;\n",
       "    }\n",
       "\n",
       "    .dataframe tbody tr th {\n",
       "        vertical-align: top;\n",
       "    }\n",
       "\n",
       "    .dataframe thead th {\n",
       "        text-align: right;\n",
       "    }\n",
       "</style>\n",
       "<table border=\"1\" class=\"dataframe\">\n",
       "  <thead>\n",
       "    <tr style=\"text-align: right;\">\n",
       "      <th></th>\n",
       "      <th>FILM</th>\n",
       "      <th>STARS</th>\n",
       "      <th>RATING</th>\n",
       "      <th>VOTES</th>\n",
       "      <th>RottenTomatoes</th>\n",
       "      <th>RottenTomatoes_User</th>\n",
       "      <th>Metacritic</th>\n",
       "      <th>Metacritic_User</th>\n",
       "      <th>IMDB</th>\n",
       "      <th>Metacritic_user_vote_count</th>\n",
       "      <th>IMDB_user_vote_count</th>\n",
       "    </tr>\n",
       "  </thead>\n",
       "  <tbody>\n",
       "    <tr>\n",
       "      <th>0</th>\n",
       "      <td>Fifty Shades of Grey (2015)</td>\n",
       "      <td>4.0</td>\n",
       "      <td>3.9</td>\n",
       "      <td>34846</td>\n",
       "      <td>25</td>\n",
       "      <td>42</td>\n",
       "      <td>46</td>\n",
       "      <td>3.2</td>\n",
       "      <td>4.2</td>\n",
       "      <td>778</td>\n",
       "      <td>179506</td>\n",
       "    </tr>\n",
       "    <tr>\n",
       "      <th>1</th>\n",
       "      <td>Jurassic World (2015)</td>\n",
       "      <td>4.5</td>\n",
       "      <td>4.5</td>\n",
       "      <td>34390</td>\n",
       "      <td>71</td>\n",
       "      <td>81</td>\n",
       "      <td>59</td>\n",
       "      <td>7.0</td>\n",
       "      <td>7.3</td>\n",
       "      <td>1281</td>\n",
       "      <td>241807</td>\n",
       "    </tr>\n",
       "    <tr>\n",
       "      <th>2</th>\n",
       "      <td>American Sniper (2015)</td>\n",
       "      <td>5.0</td>\n",
       "      <td>4.8</td>\n",
       "      <td>34085</td>\n",
       "      <td>72</td>\n",
       "      <td>85</td>\n",
       "      <td>72</td>\n",
       "      <td>6.6</td>\n",
       "      <td>7.4</td>\n",
       "      <td>850</td>\n",
       "      <td>251856</td>\n",
       "    </tr>\n",
       "    <tr>\n",
       "      <th>3</th>\n",
       "      <td>Furious 7 (2015)</td>\n",
       "      <td>5.0</td>\n",
       "      <td>4.8</td>\n",
       "      <td>33538</td>\n",
       "      <td>81</td>\n",
       "      <td>84</td>\n",
       "      <td>67</td>\n",
       "      <td>6.8</td>\n",
       "      <td>7.4</td>\n",
       "      <td>764</td>\n",
       "      <td>207211</td>\n",
       "    </tr>\n",
       "    <tr>\n",
       "      <th>4</th>\n",
       "      <td>Inside Out (2015)</td>\n",
       "      <td>4.5</td>\n",
       "      <td>4.5</td>\n",
       "      <td>15749</td>\n",
       "      <td>98</td>\n",
       "      <td>90</td>\n",
       "      <td>94</td>\n",
       "      <td>8.9</td>\n",
       "      <td>8.6</td>\n",
       "      <td>807</td>\n",
       "      <td>96252</td>\n",
       "    </tr>\n",
       "    <tr>\n",
       "      <th>...</th>\n",
       "      <td>...</td>\n",
       "      <td>...</td>\n",
       "      <td>...</td>\n",
       "      <td>...</td>\n",
       "      <td>...</td>\n",
       "      <td>...</td>\n",
       "      <td>...</td>\n",
       "      <td>...</td>\n",
       "      <td>...</td>\n",
       "      <td>...</td>\n",
       "      <td>...</td>\n",
       "    </tr>\n",
       "    <tr>\n",
       "      <th>140</th>\n",
       "      <td>Kumiko, The Treasure Hunter (2015)</td>\n",
       "      <td>3.5</td>\n",
       "      <td>3.5</td>\n",
       "      <td>41</td>\n",
       "      <td>87</td>\n",
       "      <td>63</td>\n",
       "      <td>68</td>\n",
       "      <td>6.4</td>\n",
       "      <td>6.7</td>\n",
       "      <td>19</td>\n",
       "      <td>5289</td>\n",
       "    </tr>\n",
       "    <tr>\n",
       "      <th>141</th>\n",
       "      <td>The Diary of a Teenage Girl (2015)</td>\n",
       "      <td>4.0</td>\n",
       "      <td>3.6</td>\n",
       "      <td>38</td>\n",
       "      <td>95</td>\n",
       "      <td>81</td>\n",
       "      <td>87</td>\n",
       "      <td>6.3</td>\n",
       "      <td>7.0</td>\n",
       "      <td>18</td>\n",
       "      <td>1107</td>\n",
       "    </tr>\n",
       "    <tr>\n",
       "      <th>142</th>\n",
       "      <td>The Wrecking Crew (2015)</td>\n",
       "      <td>4.5</td>\n",
       "      <td>4.2</td>\n",
       "      <td>38</td>\n",
       "      <td>93</td>\n",
       "      <td>84</td>\n",
       "      <td>67</td>\n",
       "      <td>7.0</td>\n",
       "      <td>7.8</td>\n",
       "      <td>4</td>\n",
       "      <td>732</td>\n",
       "    </tr>\n",
       "    <tr>\n",
       "      <th>143</th>\n",
       "      <td>Tangerine (2015)</td>\n",
       "      <td>4.0</td>\n",
       "      <td>3.9</td>\n",
       "      <td>36</td>\n",
       "      <td>95</td>\n",
       "      <td>86</td>\n",
       "      <td>86</td>\n",
       "      <td>7.3</td>\n",
       "      <td>7.4</td>\n",
       "      <td>14</td>\n",
       "      <td>696</td>\n",
       "    </tr>\n",
       "    <tr>\n",
       "      <th>144</th>\n",
       "      <td>Maps to the Stars (2015)</td>\n",
       "      <td>3.5</td>\n",
       "      <td>3.1</td>\n",
       "      <td>35</td>\n",
       "      <td>60</td>\n",
       "      <td>46</td>\n",
       "      <td>67</td>\n",
       "      <td>5.8</td>\n",
       "      <td>6.3</td>\n",
       "      <td>46</td>\n",
       "      <td>22440</td>\n",
       "    </tr>\n",
       "  </tbody>\n",
       "</table>\n",
       "<p>145 rows × 11 columns</p>\n",
       "</div>"
      ],
      "text/plain": [
       "                                   FILM  STARS  RATING  VOTES  RottenTomatoes  \\\n",
       "0           Fifty Shades of Grey (2015)    4.0     3.9  34846              25   \n",
       "1                 Jurassic World (2015)    4.5     4.5  34390              71   \n",
       "2                American Sniper (2015)    5.0     4.8  34085              72   \n",
       "3                      Furious 7 (2015)    5.0     4.8  33538              81   \n",
       "4                     Inside Out (2015)    4.5     4.5  15749              98   \n",
       "..                                  ...    ...     ...    ...             ...   \n",
       "140  Kumiko, The Treasure Hunter (2015)    3.5     3.5     41              87   \n",
       "141  The Diary of a Teenage Girl (2015)    4.0     3.6     38              95   \n",
       "142            The Wrecking Crew (2015)    4.5     4.2     38              93   \n",
       "143                    Tangerine (2015)    4.0     3.9     36              95   \n",
       "144            Maps to the Stars (2015)    3.5     3.1     35              60   \n",
       "\n",
       "     RottenTomatoes_User  Metacritic  Metacritic_User  IMDB  \\\n",
       "0                     42          46              3.2   4.2   \n",
       "1                     81          59              7.0   7.3   \n",
       "2                     85          72              6.6   7.4   \n",
       "3                     84          67              6.8   7.4   \n",
       "4                     90          94              8.9   8.6   \n",
       "..                   ...         ...              ...   ...   \n",
       "140                   63          68              6.4   6.7   \n",
       "141                   81          87              6.3   7.0   \n",
       "142                   84          67              7.0   7.8   \n",
       "143                   86          86              7.3   7.4   \n",
       "144                   46          67              5.8   6.3   \n",
       "\n",
       "     Metacritic_user_vote_count  IMDB_user_vote_count  \n",
       "0                           778                179506  \n",
       "1                          1281                241807  \n",
       "2                           850                251856  \n",
       "3                           764                207211  \n",
       "4                           807                 96252  \n",
       "..                          ...                   ...  \n",
       "140                          19                  5289  \n",
       "141                          18                  1107  \n",
       "142                           4                   732  \n",
       "143                          14                   696  \n",
       "144                          46                 22440  \n",
       "\n",
       "[145 rows x 11 columns]"
      ]
     },
     "execution_count": 11,
     "metadata": {},
     "output_type": "execute_result"
    }
   ],
   "source": [
    "df=pd.merge(right=all_sites , left=fandango , on='FILM'  , how='inner')\n",
    "df"
   ]
  },
  {
   "cell_type": "code",
   "execution_count": 13,
   "id": "f63c3ba6-f209-48d6-9229-0298124fc7a8",
   "metadata": {},
   "outputs": [
    {
     "data": {
      "text/plain": [
       "0      1.2\n",
       "1      3.6\n",
       "2      3.6\n",
       "3      4.0\n",
       "4      4.9\n",
       "      ... \n",
       "140    4.4\n",
       "141    4.8\n",
       "142    4.6\n",
       "143    4.8\n",
       "144    3.0\n",
       "Name: RT_Norm, Length: 145, dtype: float64"
      ]
     },
     "execution_count": 13,
     "metadata": {},
     "output_type": "execute_result"
    }
   ],
   "source": [
    "df['RT_Norm']=np.round(df['RottenTomatoes']/20 ,1)\n",
    "df['RT_Norm']"
   ]
  },
  {
   "cell_type": "code",
   "execution_count": 15,
   "id": "5e73bdae-0f58-4b35-898f-034ca5b03404",
   "metadata": {},
   "outputs": [
    {
     "data": {
      "text/plain": [
       "0      2.1\n",
       "1      4.0\n",
       "2      4.2\n",
       "3      4.2\n",
       "4      4.5\n",
       "      ... \n",
       "140    3.2\n",
       "141    4.0\n",
       "142    4.2\n",
       "143    4.3\n",
       "144    2.3\n",
       "Name: RTU_Norm, Length: 145, dtype: float64"
      ]
     },
     "execution_count": 15,
     "metadata": {},
     "output_type": "execute_result"
    }
   ],
   "source": [
    "df['RTU_Norm']=np.round(df['RottenTomatoes_User']/20,1)\n",
    "df['RTU_Norm']"
   ]
  },
  {
   "cell_type": "code",
   "execution_count": 17,
   "id": "c7059256-fa73-48b9-8e09-12986e24b641",
   "metadata": {},
   "outputs": [
    {
     "data": {
      "text/plain": [
       "0      2.3\n",
       "1      3.0\n",
       "2      3.6\n",
       "3      3.4\n",
       "4      4.7\n",
       "      ... \n",
       "140    3.4\n",
       "141    4.4\n",
       "142    3.4\n",
       "143    4.3\n",
       "144    3.4\n",
       "Name: Meta_Norm, Length: 145, dtype: float64"
      ]
     },
     "execution_count": 17,
     "metadata": {},
     "output_type": "execute_result"
    }
   ],
   "source": [
    "df['Meta_Norm']=np.round(df['Metacritic']/20 , 1)\n",
    "df['Meta_Norm']"
   ]
  },
  {
   "cell_type": "code",
   "execution_count": 19,
   "id": "8dc71569-62f2-4d73-b3f4-acf199129f6f",
   "metadata": {},
   "outputs": [
    {
     "data": {
      "text/plain": [
       "0      1.6\n",
       "1      3.5\n",
       "2      3.3\n",
       "3      3.4\n",
       "4      4.4\n",
       "      ... \n",
       "140    3.2\n",
       "141    3.2\n",
       "142    3.5\n",
       "143    3.6\n",
       "144    2.9\n",
       "Name: MetaU_Norm, Length: 145, dtype: float64"
      ]
     },
     "execution_count": 19,
     "metadata": {},
     "output_type": "execute_result"
    }
   ],
   "source": [
    "df['MetaU_Norm']=np.round(df['Metacritic_User']/2,1)\n",
    "df['MetaU_Norm']"
   ]
  },
  {
   "cell_type": "code",
   "execution_count": 21,
   "id": "0bd5f7f9-39d9-4e31-a48f-ce7bcdd7c75d",
   "metadata": {},
   "outputs": [
    {
     "data": {
      "text/plain": [
       "0      2.1\n",
       "1      3.6\n",
       "2      3.7\n",
       "3      3.7\n",
       "4      4.3\n",
       "      ... \n",
       "140    3.4\n",
       "141    3.5\n",
       "142    3.9\n",
       "143    3.7\n",
       "144    3.2\n",
       "Name: IMDB_Norm, Length: 145, dtype: float64"
      ]
     },
     "execution_count": 21,
     "metadata": {},
     "output_type": "execute_result"
    }
   ],
   "source": [
    "df['IMDB_Norm']=np.round(df['IMDB']/2 , 1)\n",
    "df['IMDB_Norm']"
   ]
  },
  {
   "cell_type": "code",
   "execution_count": 23,
   "id": "2fdb9675-3be9-4d25-bf38-af8857dfd80a",
   "metadata": {},
   "outputs": [
    {
     "data": {
      "text/html": [
       "<div>\n",
       "<style scoped>\n",
       "    .dataframe tbody tr th:only-of-type {\n",
       "        vertical-align: middle;\n",
       "    }\n",
       "\n",
       "    .dataframe tbody tr th {\n",
       "        vertical-align: top;\n",
       "    }\n",
       "\n",
       "    .dataframe thead th {\n",
       "        text-align: right;\n",
       "    }\n",
       "</style>\n",
       "<table border=\"1\" class=\"dataframe\">\n",
       "  <thead>\n",
       "    <tr style=\"text-align: right;\">\n",
       "      <th></th>\n",
       "      <th>FILM</th>\n",
       "      <th>STARS</th>\n",
       "      <th>RATING</th>\n",
       "      <th>VOTES</th>\n",
       "      <th>RottenTomatoes</th>\n",
       "      <th>RottenTomatoes_User</th>\n",
       "      <th>Metacritic</th>\n",
       "      <th>Metacritic_User</th>\n",
       "      <th>IMDB</th>\n",
       "      <th>Metacritic_user_vote_count</th>\n",
       "      <th>IMDB_user_vote_count</th>\n",
       "      <th>RT_Norm</th>\n",
       "      <th>RTU_Norm</th>\n",
       "      <th>Meta_Norm</th>\n",
       "      <th>MetaU_Norm</th>\n",
       "      <th>IMDB_Norm</th>\n",
       "    </tr>\n",
       "  </thead>\n",
       "  <tbody>\n",
       "    <tr>\n",
       "      <th>0</th>\n",
       "      <td>Fifty Shades of Grey (2015)</td>\n",
       "      <td>4.0</td>\n",
       "      <td>3.9</td>\n",
       "      <td>34846</td>\n",
       "      <td>25</td>\n",
       "      <td>42</td>\n",
       "      <td>46</td>\n",
       "      <td>3.2</td>\n",
       "      <td>4.2</td>\n",
       "      <td>778</td>\n",
       "      <td>179506</td>\n",
       "      <td>1.2</td>\n",
       "      <td>2.1</td>\n",
       "      <td>2.3</td>\n",
       "      <td>1.6</td>\n",
       "      <td>2.1</td>\n",
       "    </tr>\n",
       "  </tbody>\n",
       "</table>\n",
       "</div>"
      ],
      "text/plain": [
       "                          FILM  STARS  RATING  VOTES  RottenTomatoes  \\\n",
       "0  Fifty Shades of Grey (2015)    4.0     3.9  34846              25   \n",
       "\n",
       "   RottenTomatoes_User  Metacritic  Metacritic_User  IMDB  \\\n",
       "0                   42          46              3.2   4.2   \n",
       "\n",
       "   Metacritic_user_vote_count  IMDB_user_vote_count  RT_Norm  RTU_Norm  \\\n",
       "0                         778                179506      1.2       2.1   \n",
       "\n",
       "   Meta_Norm  MetaU_Norm  IMDB_Norm  \n",
       "0        2.3         1.6        2.1  "
      ]
     },
     "execution_count": 23,
     "metadata": {},
     "output_type": "execute_result"
    }
   ],
   "source": [
    "df.head(1)"
   ]
  },
  {
   "cell_type": "code",
   "execution_count": 25,
   "id": "0d6e50d7-e330-4386-85ba-b8e0d46f358f",
   "metadata": {},
   "outputs": [
    {
     "data": {
      "text/html": [
       "<div>\n",
       "<style scoped>\n",
       "    .dataframe tbody tr th:only-of-type {\n",
       "        vertical-align: middle;\n",
       "    }\n",
       "\n",
       "    .dataframe tbody tr th {\n",
       "        vertical-align: top;\n",
       "    }\n",
       "\n",
       "    .dataframe thead th {\n",
       "        text-align: right;\n",
       "    }\n",
       "</style>\n",
       "<table border=\"1\" class=\"dataframe\">\n",
       "  <thead>\n",
       "    <tr style=\"text-align: right;\">\n",
       "      <th></th>\n",
       "      <th>FILM</th>\n",
       "      <th>STARS</th>\n",
       "      <th>RATING</th>\n",
       "      <th>RT_Norm</th>\n",
       "      <th>RTU_Norm</th>\n",
       "      <th>Meta_Norm</th>\n",
       "      <th>MetaU_Norm</th>\n",
       "      <th>IMDB_Norm</th>\n",
       "    </tr>\n",
       "  </thead>\n",
       "  <tbody>\n",
       "    <tr>\n",
       "      <th>0</th>\n",
       "      <td>Fifty Shades of Grey (2015)</td>\n",
       "      <td>4.0</td>\n",
       "      <td>3.9</td>\n",
       "      <td>1.2</td>\n",
       "      <td>2.1</td>\n",
       "      <td>2.3</td>\n",
       "      <td>1.6</td>\n",
       "      <td>2.1</td>\n",
       "    </tr>\n",
       "    <tr>\n",
       "      <th>1</th>\n",
       "      <td>Jurassic World (2015)</td>\n",
       "      <td>4.5</td>\n",
       "      <td>4.5</td>\n",
       "      <td>3.6</td>\n",
       "      <td>4.0</td>\n",
       "      <td>3.0</td>\n",
       "      <td>3.5</td>\n",
       "      <td>3.6</td>\n",
       "    </tr>\n",
       "    <tr>\n",
       "      <th>2</th>\n",
       "      <td>American Sniper (2015)</td>\n",
       "      <td>5.0</td>\n",
       "      <td>4.8</td>\n",
       "      <td>3.6</td>\n",
       "      <td>4.2</td>\n",
       "      <td>3.6</td>\n",
       "      <td>3.3</td>\n",
       "      <td>3.7</td>\n",
       "    </tr>\n",
       "    <tr>\n",
       "      <th>3</th>\n",
       "      <td>Furious 7 (2015)</td>\n",
       "      <td>5.0</td>\n",
       "      <td>4.8</td>\n",
       "      <td>4.0</td>\n",
       "      <td>4.2</td>\n",
       "      <td>3.4</td>\n",
       "      <td>3.4</td>\n",
       "      <td>3.7</td>\n",
       "    </tr>\n",
       "    <tr>\n",
       "      <th>4</th>\n",
       "      <td>Inside Out (2015)</td>\n",
       "      <td>4.5</td>\n",
       "      <td>4.5</td>\n",
       "      <td>4.9</td>\n",
       "      <td>4.5</td>\n",
       "      <td>4.7</td>\n",
       "      <td>4.4</td>\n",
       "      <td>4.3</td>\n",
       "    </tr>\n",
       "    <tr>\n",
       "      <th>...</th>\n",
       "      <td>...</td>\n",
       "      <td>...</td>\n",
       "      <td>...</td>\n",
       "      <td>...</td>\n",
       "      <td>...</td>\n",
       "      <td>...</td>\n",
       "      <td>...</td>\n",
       "      <td>...</td>\n",
       "    </tr>\n",
       "    <tr>\n",
       "      <th>140</th>\n",
       "      <td>Kumiko, The Treasure Hunter (2015)</td>\n",
       "      <td>3.5</td>\n",
       "      <td>3.5</td>\n",
       "      <td>4.4</td>\n",
       "      <td>3.2</td>\n",
       "      <td>3.4</td>\n",
       "      <td>3.2</td>\n",
       "      <td>3.4</td>\n",
       "    </tr>\n",
       "    <tr>\n",
       "      <th>141</th>\n",
       "      <td>The Diary of a Teenage Girl (2015)</td>\n",
       "      <td>4.0</td>\n",
       "      <td>3.6</td>\n",
       "      <td>4.8</td>\n",
       "      <td>4.0</td>\n",
       "      <td>4.4</td>\n",
       "      <td>3.2</td>\n",
       "      <td>3.5</td>\n",
       "    </tr>\n",
       "    <tr>\n",
       "      <th>142</th>\n",
       "      <td>The Wrecking Crew (2015)</td>\n",
       "      <td>4.5</td>\n",
       "      <td>4.2</td>\n",
       "      <td>4.6</td>\n",
       "      <td>4.2</td>\n",
       "      <td>3.4</td>\n",
       "      <td>3.5</td>\n",
       "      <td>3.9</td>\n",
       "    </tr>\n",
       "    <tr>\n",
       "      <th>143</th>\n",
       "      <td>Tangerine (2015)</td>\n",
       "      <td>4.0</td>\n",
       "      <td>3.9</td>\n",
       "      <td>4.8</td>\n",
       "      <td>4.3</td>\n",
       "      <td>4.3</td>\n",
       "      <td>3.6</td>\n",
       "      <td>3.7</td>\n",
       "    </tr>\n",
       "    <tr>\n",
       "      <th>144</th>\n",
       "      <td>Maps to the Stars (2015)</td>\n",
       "      <td>3.5</td>\n",
       "      <td>3.1</td>\n",
       "      <td>3.0</td>\n",
       "      <td>2.3</td>\n",
       "      <td>3.4</td>\n",
       "      <td>2.9</td>\n",
       "      <td>3.2</td>\n",
       "    </tr>\n",
       "  </tbody>\n",
       "</table>\n",
       "<p>145 rows × 8 columns</p>\n",
       "</div>"
      ],
      "text/plain": [
       "                                   FILM  STARS  RATING  RT_Norm  RTU_Norm  \\\n",
       "0           Fifty Shades of Grey (2015)    4.0     3.9      1.2       2.1   \n",
       "1                 Jurassic World (2015)    4.5     4.5      3.6       4.0   \n",
       "2                American Sniper (2015)    5.0     4.8      3.6       4.2   \n",
       "3                      Furious 7 (2015)    5.0     4.8      4.0       4.2   \n",
       "4                     Inside Out (2015)    4.5     4.5      4.9       4.5   \n",
       "..                                  ...    ...     ...      ...       ...   \n",
       "140  Kumiko, The Treasure Hunter (2015)    3.5     3.5      4.4       3.2   \n",
       "141  The Diary of a Teenage Girl (2015)    4.0     3.6      4.8       4.0   \n",
       "142            The Wrecking Crew (2015)    4.5     4.2      4.6       4.2   \n",
       "143                    Tangerine (2015)    4.0     3.9      4.8       4.3   \n",
       "144            Maps to the Stars (2015)    3.5     3.1      3.0       2.3   \n",
       "\n",
       "     Meta_Norm  MetaU_Norm  IMDB_Norm  \n",
       "0          2.3         1.6        2.1  \n",
       "1          3.0         3.5        3.6  \n",
       "2          3.6         3.3        3.7  \n",
       "3          3.4         3.4        3.7  \n",
       "4          4.7         4.4        4.3  \n",
       "..         ...         ...        ...  \n",
       "140        3.4         3.2        3.4  \n",
       "141        4.4         3.2        3.5  \n",
       "142        3.4         3.5        3.9  \n",
       "143        4.3         3.6        3.7  \n",
       "144        3.4         2.9        3.2  \n",
       "\n",
       "[145 rows x 8 columns]"
      ]
     },
     "execution_count": 25,
     "metadata": {},
     "output_type": "execute_result"
    }
   ],
   "source": [
    "Norm_df=df[['FILM' ,'STARS' , 'RATING' , 'RT_Norm' , 'RTU_Norm' , 'Meta_Norm', 'MetaU_Norm' , 'IMDB_Norm']]\n",
    "Norm_df"
   ]
  },
  {
   "cell_type": "code",
   "execution_count": 27,
   "id": "cefb2eeb-0c94-469f-8980-6619403b1574",
   "metadata": {},
   "outputs": [
    {
     "data": {
      "text/plain": [
       "<Axes: ylabel='Density'>"
      ]
     },
     "execution_count": 27,
     "metadata": {},
     "output_type": "execute_result"
    },
    {
     "data": {
      "image/png": "[encoded data removed]",
      "text/plain": [
       "<Figure size 1000x600 with 1 Axes>"
      ]
     },
     "metadata": {},
     "output_type": "display_data"
    }
   ],
   "source": [
    "plt.figure(figsize=(10,6))\n",
    "sns.kdeplot(Norm_df , clip=(0,5) , palette='Set1')"
   ]
  },
  {
   "cell_type": "code",
   "execution_count": 404,
   "id": "98042481-12af-4699-900b-ee39602bd164",
   "metadata": {},
   "outputs": [
    {
     "data": {
      "text/plain": [
       "<Axes: ylabel='Density'>"
      ]
     },
     "execution_count": 404,
     "metadata": {},
     "output_type": "execute_result"
    },
    {
     "data": {
      "image/png": "[encoded data removed]",
      "text/plain": [
       "<Figure size 640x480 with 1 Axes>"
      ]
     },
     "metadata": {},
     "output_type": "display_data"
    }
   ],
   "source": [
    "sns.kdeplot(data=Norm_df[['STARS', 'RT_Norm']] ,fill=True , clip=(0,5))"
   ]
  },
  {
   "cell_type": "code",
   "execution_count": 45,
   "id": "b458d7c7-c73c-42e9-a460-624db8c34c1d",
   "metadata": {},
   "outputs": [
    {
     "data": {
      "text/plain": [
       "<Axes: ylabel='Count'>"
      ]
     },
     "execution_count": 45,
     "metadata": {},
     "output_type": "execute_result"
    },
    {
     "data": {
      "image/png": "[encoded data removed]",
      "text/plain": [
       "<Figure size 640x480 with 1 Axes>"
      ]
     },
     "metadata": {},
     "output_type": "display_data"
    }
   ],
   "source": [
    "sns.histplot(Norm_df, bins=20)"
   ]
  },
  {
   "cell_type": "code",
   "execution_count": 51,
   "id": "8e2571b9-3a73-47c0-8d5a-17645c0b0186",
   "metadata": {},
   "outputs": [
    {
     "data": {
      "text/plain": [
       "<seaborn.matrix.ClusterGrid at 0x12c47fa11f0>"
      ]
     },
     "execution_count": 51,
     "metadata": {},
     "output_type": "execute_result"
    },
    {
     "data": {
      "image/png": "[encoded data removed]",
      "text/plain": [
       "<Figure size 1000x1000 with 4 Axes>"
      ]
     },
     "metadata": {},
     "output_type": "display_data"
    }
   ],
   "source": [
    "sns.clustermap(data=Norm_df.drop('FILM' , axis=1),col_cluster=False , cbar_pos=(-0.1,0.2,0.03,0.4), alpha=0.8)"
   ]
  },
  {
   "cell_type": "code",
   "execution_count": 71,
   "id": "7a7b0d8a-de38-4c11-b9a5-19ce5019d06d",
   "metadata": {},
   "outputs": [
    {
     "data": {
      "text/html": [
       "<div>\n",
       "<style scoped>\n",
       "    .dataframe tbody tr th:only-of-type {\n",
       "        vertical-align: middle;\n",
       "    }\n",
       "\n",
       "    .dataframe tbody tr th {\n",
       "        vertical-align: top;\n",
       "    }\n",
       "\n",
       "    .dataframe thead th {\n",
       "        text-align: right;\n",
       "    }\n",
       "</style>\n",
       "<table border=\"1\" class=\"dataframe\">\n",
       "  <thead>\n",
       "    <tr style=\"text-align: right;\">\n",
       "      <th></th>\n",
       "      <th>FILM</th>\n",
       "      <th>STARS</th>\n",
       "      <th>RATING</th>\n",
       "      <th>RT_Norm</th>\n",
       "      <th>RTU_Norm</th>\n",
       "      <th>Meta_Norm</th>\n",
       "      <th>MetaU_Norm</th>\n",
       "      <th>IMDB_Norm</th>\n",
       "    </tr>\n",
       "  </thead>\n",
       "  <tbody>\n",
       "    <tr>\n",
       "      <th>49</th>\n",
       "      <td>Paul Blart: Mall Cop 2 (2015)</td>\n",
       "      <td>3.5</td>\n",
       "      <td>3.5</td>\n",
       "      <td>0.2</td>\n",
       "      <td>1.8</td>\n",
       "      <td>0.6</td>\n",
       "      <td>1.2</td>\n",
       "      <td>2.2</td>\n",
       "    </tr>\n",
       "    <tr>\n",
       "      <th>25</th>\n",
       "      <td>Taken 3 (2015)</td>\n",
       "      <td>4.5</td>\n",
       "      <td>4.1</td>\n",
       "      <td>0.4</td>\n",
       "      <td>2.3</td>\n",
       "      <td>1.3</td>\n",
       "      <td>2.3</td>\n",
       "      <td>3.0</td>\n",
       "    </tr>\n",
       "    <tr>\n",
       "      <th>28</th>\n",
       "      <td>Fantastic Four (2015)</td>\n",
       "      <td>3.0</td>\n",
       "      <td>2.7</td>\n",
       "      <td>0.4</td>\n",
       "      <td>1.0</td>\n",
       "      <td>1.4</td>\n",
       "      <td>1.2</td>\n",
       "      <td>2.0</td>\n",
       "    </tr>\n",
       "    <tr>\n",
       "      <th>54</th>\n",
       "      <td>Hot Pursuit (2015)</td>\n",
       "      <td>4.0</td>\n",
       "      <td>3.7</td>\n",
       "      <td>0.4</td>\n",
       "      <td>1.8</td>\n",
       "      <td>1.6</td>\n",
       "      <td>1.8</td>\n",
       "      <td>2.4</td>\n",
       "    </tr>\n",
       "    <tr>\n",
       "      <th>84</th>\n",
       "      <td>Hitman: Agent 47 (2015)</td>\n",
       "      <td>4.0</td>\n",
       "      <td>3.9</td>\n",
       "      <td>0.4</td>\n",
       "      <td>2.4</td>\n",
       "      <td>1.4</td>\n",
       "      <td>1.6</td>\n",
       "      <td>3.0</td>\n",
       "    </tr>\n",
       "    <tr>\n",
       "      <th>50</th>\n",
       "      <td>The Boy Next Door (2015)</td>\n",
       "      <td>4.0</td>\n",
       "      <td>3.6</td>\n",
       "      <td>0.5</td>\n",
       "      <td>1.8</td>\n",
       "      <td>1.5</td>\n",
       "      <td>2.8</td>\n",
       "      <td>2.3</td>\n",
       "    </tr>\n",
       "    <tr>\n",
       "      <th>77</th>\n",
       "      <td>Seventh Son (2015)</td>\n",
       "      <td>3.5</td>\n",
       "      <td>3.2</td>\n",
       "      <td>0.6</td>\n",
       "      <td>1.8</td>\n",
       "      <td>1.5</td>\n",
       "      <td>2.0</td>\n",
       "      <td>2.8</td>\n",
       "    </tr>\n",
       "    <tr>\n",
       "      <th>78</th>\n",
       "      <td>Mortdecai (2015)</td>\n",
       "      <td>3.5</td>\n",
       "      <td>3.2</td>\n",
       "      <td>0.6</td>\n",
       "      <td>1.5</td>\n",
       "      <td>1.4</td>\n",
       "      <td>1.6</td>\n",
       "      <td>2.8</td>\n",
       "    </tr>\n",
       "    <tr>\n",
       "      <th>83</th>\n",
       "      <td>Sinister 2 (2015)</td>\n",
       "      <td>3.5</td>\n",
       "      <td>3.3</td>\n",
       "      <td>0.6</td>\n",
       "      <td>1.7</td>\n",
       "      <td>1.6</td>\n",
       "      <td>2.5</td>\n",
       "      <td>2.8</td>\n",
       "    </tr>\n",
       "    <tr>\n",
       "      <th>87</th>\n",
       "      <td>Unfinished Business (2015)</td>\n",
       "      <td>3.5</td>\n",
       "      <td>3.2</td>\n",
       "      <td>0.6</td>\n",
       "      <td>1.4</td>\n",
       "      <td>1.6</td>\n",
       "      <td>1.9</td>\n",
       "      <td>2.7</td>\n",
       "    </tr>\n",
       "  </tbody>\n",
       "</table>\n",
       "</div>"
      ],
      "text/plain": [
       "                             FILM  STARS  RATING  RT_Norm  RTU_Norm  \\\n",
       "49  Paul Blart: Mall Cop 2 (2015)    3.5     3.5      0.2       1.8   \n",
       "25                 Taken 3 (2015)    4.5     4.1      0.4       2.3   \n",
       "28          Fantastic Four (2015)    3.0     2.7      0.4       1.0   \n",
       "54             Hot Pursuit (2015)    4.0     3.7      0.4       1.8   \n",
       "84        Hitman: Agent 47 (2015)    4.0     3.9      0.4       2.4   \n",
       "50       The Boy Next Door (2015)    4.0     3.6      0.5       1.8   \n",
       "77             Seventh Son (2015)    3.5     3.2      0.6       1.8   \n",
       "78               Mortdecai (2015)    3.5     3.2      0.6       1.5   \n",
       "83              Sinister 2 (2015)    3.5     3.3      0.6       1.7   \n",
       "87     Unfinished Business (2015)    3.5     3.2      0.6       1.4   \n",
       "\n",
       "    Meta_Norm  MetaU_Norm  IMDB_Norm  \n",
       "49        0.6         1.2        2.2  \n",
       "25        1.3         2.3        3.0  \n",
       "28        1.4         1.2        2.0  \n",
       "54        1.6         1.8        2.4  \n",
       "84        1.4         1.6        3.0  \n",
       "50        1.5         2.8        2.3  \n",
       "77        1.5         2.0        2.8  \n",
       "78        1.4         1.6        2.8  \n",
       "83        1.6         2.5        2.8  \n",
       "87        1.6         1.9        2.7  "
      ]
     },
     "execution_count": 71,
     "metadata": {},
     "output_type": "execute_result"
    }
   ],
   "source": [
    "worst_film=Norm_df.nsmallest(10, 'RT_Norm')\n",
    "worst_film"
   ]
  },
  {
   "cell_type": "code",
   "execution_count": 73,
   "id": "a24669cf-d079-4515-9a48-7d4799b3bc79",
   "metadata": {},
   "outputs": [
    {
     "data": {
      "text/plain": [
       "<Axes: ylabel='Density'>"
      ]
     },
     "execution_count": 73,
     "metadata": {},
     "output_type": "execute_result"
    },
    {
     "data": {
      "image/png": "[encoded data removed]",
      "text/plain": [
       "<Figure size 640x480 with 1 Axes>"
      ]
     },
     "metadata": {},
     "output_type": "display_data"
    }
   ],
   "source": [
    "sns.kdeplot(worst_film ,fill=True , clip=(0,5))"
   ]
  },
  {
   "cell_type": "code",
   "execution_count": 77,
   "id": "80647144-313d-4760-bcc0-5300d9c1012d",
   "metadata": {},
   "outputs": [
    {
     "data": {
      "text/plain": [
       "FILM          Taken 3 (2015)\n",
       "STARS                    4.5\n",
       "RATING                   4.1\n",
       "RT_Norm                  0.4\n",
       "RTU_Norm                 2.3\n",
       "Meta_Norm                1.3\n",
       "MetaU_Norm               2.3\n",
       "IMDB_Norm                3.0\n",
       "Name: 25, dtype: object"
      ]
     },
     "execution_count": 77,
     "metadata": {},
     "output_type": "execute_result"
    }
   ],
   "source": [
    "Norm_df.iloc[25]"
   ]
  },
  {
   "cell_type": "code",
   "execution_count": null,
   "id": "2c0ab17a-216f-4279-9fe5-8ccebd73e855",
   "metadata": {},
   "outputs": [],
   "source": [
    "0.4+2.3"
   ]
  }
 ],
 "metadata": {
  "kernelspec": {
   "display_name": "Python 3 (ipykernel)",
   "language": "python",
   "name": "python3"
  },
  "language_info": {
   "codemirror_mode": {
    "name": "ipython",
    "version": 3
   },
   "file_extension": ".py",
   "mimetype": "text/x-python",
   "name": "python",
   "nbconvert_exporter": "python",
   "pygments_lexer": "ipython3",
   "version": "3.12.4"
  }
 },
 "nbformat": 4,
 "nbformat_minor": 5
}
