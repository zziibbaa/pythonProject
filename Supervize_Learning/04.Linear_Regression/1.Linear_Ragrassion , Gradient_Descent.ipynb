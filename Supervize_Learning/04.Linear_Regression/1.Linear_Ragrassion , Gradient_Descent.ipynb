{
 "cells": [
  {
   "cell_type": "code",
   "execution_count": 1,
   "id": "da6d1828-c002-40c8-a0b1-07d141a21656",
   "metadata": {},
   "outputs": [],
   "source": [
    "import numpy as np\n",
    "import pandas as pd\n",
    "import matplotlib.pyplot as plt\n",
    "import seaborn as sns"
   ]
  },
  {
   "cell_type": "code",
   "execution_count": 3,
   "id": "5724af2d-c55b-44c7-9569-88ae0ed2aa60",
   "metadata": {},
   "outputs": [
    {
     "data": {
      "text/html": [
       "<div>\n",
       "<style scoped>\n",
       "    .dataframe tbody tr th:only-of-type {\n",
       "        vertical-align: middle;\n",
       "    }\n",
       "\n",
       "    .dataframe tbody tr th {\n",
       "        vertical-align: top;\n",
       "    }\n",
       "\n",
       "    .dataframe thead th {\n",
       "        text-align: right;\n",
       "    }\n",
       "</style>\n",
       "<table border=\"1\" class=\"dataframe\">\n",
       "  <thead>\n",
       "    <tr style=\"text-align: right;\">\n",
       "      <th></th>\n",
       "      <th>TV</th>\n",
       "      <th>radio</th>\n",
       "      <th>newspaper</th>\n",
       "      <th>sales</th>\n",
       "    </tr>\n",
       "  </thead>\n",
       "  <tbody>\n",
       "    <tr>\n",
       "      <th>0</th>\n",
       "      <td>230.1</td>\n",
       "      <td>37.8</td>\n",
       "      <td>69.2</td>\n",
       "      <td>22.1</td>\n",
       "    </tr>\n",
       "    <tr>\n",
       "      <th>1</th>\n",
       "      <td>44.5</td>\n",
       "      <td>39.3</td>\n",
       "      <td>45.1</td>\n",
       "      <td>10.4</td>\n",
       "    </tr>\n",
       "    <tr>\n",
       "      <th>2</th>\n",
       "      <td>17.2</td>\n",
       "      <td>45.9</td>\n",
       "      <td>69.3</td>\n",
       "      <td>9.3</td>\n",
       "    </tr>\n",
       "    <tr>\n",
       "      <th>3</th>\n",
       "      <td>151.5</td>\n",
       "      <td>41.3</td>\n",
       "      <td>58.5</td>\n",
       "      <td>18.5</td>\n",
       "    </tr>\n",
       "    <tr>\n",
       "      <th>4</th>\n",
       "      <td>180.8</td>\n",
       "      <td>10.8</td>\n",
       "      <td>58.4</td>\n",
       "      <td>12.9</td>\n",
       "    </tr>\n",
       "  </tbody>\n",
       "</table>\n",
       "</div>"
      ],
      "text/plain": [
       "      TV  radio  newspaper  sales\n",
       "0  230.1   37.8       69.2   22.1\n",
       "1   44.5   39.3       45.1   10.4\n",
       "2   17.2   45.9       69.3    9.3\n",
       "3  151.5   41.3       58.5   18.5\n",
       "4  180.8   10.8       58.4   12.9"
      ]
     },
     "execution_count": 3,
     "metadata": {},
     "output_type": "execute_result"
    }
   ],
   "source": [
    "df=pd.read_csv('Advertising.csv')\n",
    "df.head()"
   ]
  },
  {
   "cell_type": "code",
   "execution_count": 5,
   "id": "893f3fbb-b4cc-4aa5-80ef-42665e27d488",
   "metadata": {},
   "outputs": [
    {
     "data": {
      "text/html": [
       "<div>\n",
       "<style scoped>\n",
       "    .dataframe tbody tr th:only-of-type {\n",
       "        vertical-align: middle;\n",
       "    }\n",
       "\n",
       "    .dataframe tbody tr th {\n",
       "        vertical-align: top;\n",
       "    }\n",
       "\n",
       "    .dataframe thead th {\n",
       "        text-align: right;\n",
       "    }\n",
       "</style>\n",
       "<table border=\"1\" class=\"dataframe\">\n",
       "  <thead>\n",
       "    <tr style=\"text-align: right;\">\n",
       "      <th></th>\n",
       "      <th>TV</th>\n",
       "      <th>radio</th>\n",
       "      <th>newspaper</th>\n",
       "      <th>sales</th>\n",
       "      <th>total spend</th>\n",
       "    </tr>\n",
       "  </thead>\n",
       "  <tbody>\n",
       "    <tr>\n",
       "      <th>0</th>\n",
       "      <td>230.1</td>\n",
       "      <td>37.8</td>\n",
       "      <td>69.2</td>\n",
       "      <td>22.1</td>\n",
       "      <td>337.1</td>\n",
       "    </tr>\n",
       "    <tr>\n",
       "      <th>1</th>\n",
       "      <td>44.5</td>\n",
       "      <td>39.3</td>\n",
       "      <td>45.1</td>\n",
       "      <td>10.4</td>\n",
       "      <td>128.9</td>\n",
       "    </tr>\n",
       "    <tr>\n",
       "      <th>2</th>\n",
       "      <td>17.2</td>\n",
       "      <td>45.9</td>\n",
       "      <td>69.3</td>\n",
       "      <td>9.3</td>\n",
       "      <td>132.4</td>\n",
       "    </tr>\n",
       "    <tr>\n",
       "      <th>3</th>\n",
       "      <td>151.5</td>\n",
       "      <td>41.3</td>\n",
       "      <td>58.5</td>\n",
       "      <td>18.5</td>\n",
       "      <td>251.3</td>\n",
       "    </tr>\n",
       "    <tr>\n",
       "      <th>4</th>\n",
       "      <td>180.8</td>\n",
       "      <td>10.8</td>\n",
       "      <td>58.4</td>\n",
       "      <td>12.9</td>\n",
       "      <td>250.0</td>\n",
       "    </tr>\n",
       "  </tbody>\n",
       "</table>\n",
       "</div>"
      ],
      "text/plain": [
       "      TV  radio  newspaper  sales  total spend\n",
       "0  230.1   37.8       69.2   22.1        337.1\n",
       "1   44.5   39.3       45.1   10.4        128.9\n",
       "2   17.2   45.9       69.3    9.3        132.4\n",
       "3  151.5   41.3       58.5   18.5        251.3\n",
       "4  180.8   10.8       58.4   12.9        250.0"
      ]
     },
     "execution_count": 5,
     "metadata": {},
     "output_type": "execute_result"
    }
   ],
   "source": [
    "df['total spend']=df['TV']+df['radio']+df['newspaper']\n",
    "df.head()"
   ]
  },
  {
   "cell_type": "markdown",
   "id": "14719ed3-7200-4169-97c2-aea55862bb03",
   "metadata": {},
   "source": [
    "# regression plot"
   ]
  },
  {
   "cell_type": "code",
   "execution_count": 7,
   "id": "13144fc8-bc7d-4671-b23c-9f992a146c65",
   "metadata": {},
   "outputs": [
    {
     "data": {
      "text/plain": [
       "<Axes: xlabel='total spend', ylabel='sales'>"
      ]
     },
     "execution_count": 7,
     "metadata": {},
     "output_type": "execute_result"
    },
    {
     "data": {
      "image/png": "[encoded data removed]",
      "text/plain": [
       "<Figure size 640x480 with 1 Axes>"
      ]
     },
     "metadata": {},
     "output_type": "display_data"
    }
   ],
   "source": [
    "sns.regplot(x=df['total spend'], y=df['sales'])"
   ]
  },
  {
   "cell_type": "code",
   "execution_count": 11,
   "id": "e2a70eec-b5c2-4dc1-ac37-d92a98ff2785",
   "metadata": {},
   "outputs": [
    {
     "data": {
      "text/html": [
       "<div>\n",
       "<style scoped>\n",
       "    .dataframe tbody tr th:only-of-type {\n",
       "        vertical-align: middle;\n",
       "    }\n",
       "\n",
       "    .dataframe tbody tr th {\n",
       "        vertical-align: top;\n",
       "    }\n",
       "\n",
       "    .dataframe thead th {\n",
       "        text-align: right;\n",
       "    }\n",
       "</style>\n",
       "<table border=\"1\" class=\"dataframe\">\n",
       "  <thead>\n",
       "    <tr style=\"text-align: right;\">\n",
       "      <th></th>\n",
       "      <th>total spend</th>\n",
       "      <th>sales</th>\n",
       "    </tr>\n",
       "  </thead>\n",
       "  <tbody>\n",
       "    <tr>\n",
       "      <th>total spend</th>\n",
       "      <td>1.000000</td>\n",
       "      <td>0.867712</td>\n",
       "    </tr>\n",
       "    <tr>\n",
       "      <th>sales</th>\n",
       "      <td>0.867712</td>\n",
       "      <td>1.000000</td>\n",
       "    </tr>\n",
       "  </tbody>\n",
       "</table>\n",
       "</div>"
      ],
      "text/plain": [
       "             total spend     sales\n",
       "total spend     1.000000  0.867712\n",
       "sales           0.867712  1.000000"
      ]
     },
     "execution_count": 11,
     "metadata": {},
     "output_type": "execute_result"
    }
   ],
   "source": [
    "df[['total spend' , 'sales']].corr()"
   ]
  },
  {
   "cell_type": "markdown",
   "id": "647c206f-7f0e-431c-86fe-a1658c372d01",
   "metadata": {},
   "source": [
    "# calculate Beta_1 , Beta_0 VS np.polyfit()"
   ]
  },
  {
   "cell_type": "code",
   "execution_count": 37,
   "id": "d9ef28b4-176a-4be9-a03b-1cab21997a80",
   "metadata": {},
   "outputs": [
    {
     "data": {
      "text/plain": [
       "(0.04868787931904819, 4.243028216036322)"
      ]
     },
     "execution_count": 37,
     "metadata": {},
     "output_type": "execute_result"
    }
   ],
   "source": [
    "X=df['total spend']\n",
    "y=df['sales']\n",
    "\n",
    "\n",
    "\n",
    "def s_linear_regression(x,y):\n",
    "    X_mean=X.mean()\n",
    "    y_mean=y.mean()\n",
    "    numerator=sum([(x_i - X_mean)*(y_i - y_mean) for x_i , y_i in zip(x,y)])\n",
    "    denumerator=sum([((x_i - X_mean)**2)for x_i in x])\n",
    "\n",
    "    beta_1=numerator/denumerator\n",
    "    beta_0=y_mean -(beta_1* X_mean)\n",
    "\n",
    "    return beta_1 , beta_0\n",
    "\n",
    "\n",
    "\n",
    "s_linear_regression(df['total spend'] , df['sales'])"
   ]
  },
  {
   "cell_type": "code",
   "execution_count": 42,
   "id": "c9ef32b4-e3b1-4efe-8dc3-a2adfe7ac82a",
   "metadata": {},
   "outputs": [
    {
     "data": {
      "text/plain": [
       "array([0.04868788, 4.24302822])"
      ]
     },
     "execution_count": 42,
     "metadata": {},
     "output_type": "execute_result"
    }
   ],
   "source": [
    "np.polyfit(X,y,1)#degree of equation"
   ]
  },
  {
   "cell_type": "markdown",
   "id": "c671ccbc-3408-490e-ab72-151c95436165",
   "metadata": {},
   "source": [
    "# gradian descent"
   ]
  },
  {
   "cell_type": "code",
   "execution_count": 52,
   "id": "87277a5d-0107-4199-9968-591424de940e",
   "metadata": {},
   "outputs": [
    {
     "data": {
      "text/plain": [
       "(0.28, 0.08)"
      ]
     },
     "execution_count": 52,
     "metadata": {},
     "output_type": "execute_result"
    }
   ],
   "source": [
    "x=np.array([1,2,3,4,5])\n",
    "y=np.array([2,3,4,5,6])\n",
    "n=len(y)\n",
    "\n",
    "beta_1 , beta_0 = 0.0 , 0.0\n",
    "\n",
    "y_pred=beta_1 * x + beta_0\n",
    "grad_beta_1= (-2/n) * np.sum(x * (y - y_pred))\n",
    "grad_beta_0= (-2/n) * np.sum(y - y_pred)\n",
    "\n",
    "\n",
    "beta_1 = beta_1 - 0.01*grad_beta_1#learning rate=0.01\n",
    "beta_0 = beta_0 - 0.01*grad_beta_0\n",
    "beta_1 , beta_0"
   ]
  },
  {
   "cell_type": "code",
   "execution_count": 65,
   "id": "49424799-2396-464b-b7a0-3c05fa3783e5",
   "metadata": {},
   "outputs": [],
   "source": [
    "def gradient_descent_1(x , y , learning_rate=0.01 , num_steps=100):\n",
    "    n=len(y)\n",
    "\n",
    "    beta_1 , beta_0 = 0.0 , 0.0\n",
    "\n",
    "    for _ in range(num_steps):\n",
    "        y_pred=beta_1 * x + beta_0\n",
    "        grad_beta_1= (-2/n) * np.sum(x * (y - y_pred))\n",
    "        grad_beta_0= (-2/n) * np.sum(y - y_pred)\n",
    "        \n",
    "        \n",
    "        beta_1 = beta_1 - learning_rate*grad_beta_1\n",
    "        beta_0 = beta_0 - learning_rate*grad_beta_0\n",
    "    return beta_1 , beta_0"
   ]
  },
  {
   "cell_type": "code",
   "execution_count": 67,
   "id": "0a1f0c5d-5f31-4e40-b2b0-2cae6bbcf78e",
   "metadata": {},
   "outputs": [
    {
     "data": {
      "text/plain": [
       "(1.0000000000000067, 0.9999999999999772)"
      ]
     },
     "execution_count": 67,
     "metadata": {},
     "output_type": "execute_result"
    }
   ],
   "source": [
    "beta_1 , beta_0=gradient_descent_1(x , y , num_steps=10000)\n",
    "beta_1 , beta_0"
   ]
  },
  {
   "cell_type": "code",
   "execution_count": 69,
   "id": "8f306a88-8dad-4c9b-ad44-91ca6aadc35f",
   "metadata": {},
   "outputs": [],
   "source": [
    "def gradient_descent_2(x1 , x2 , y , learning_rate=0.01 , num_steps=100):\n",
    "    n=len(y)\n",
    "\n",
    "    beta_2 ,beta_1 , beta_0 = 0.0 , 0.0 , 0.0\n",
    "\n",
    "    for _ in range(num_steps):\n",
    "        y_pred=(beta_2 * x2 )+ (beta_1 * x1 )+ beta_0\n",
    "        grad_beta_2= (-2/n) * np.sum(x2 * (y - y_pred))\n",
    "        grad_beta_1= (-2/n) * np.sum(x1 * (y - y_pred))\n",
    "        grad_beta_0= (-2/n) * np.sum(y - y_pred)\n",
    "        \n",
    "        beta_2 = beta_2 - learning_rate*grad_beta_2\n",
    "        beta_1 = beta_1 - learning_rate*grad_beta_1\n",
    "        beta_0 = beta_0 - learning_rate*grad_beta_0\n",
    "    return beta_2 , beta_1 , beta_0"
   ]
  },
  {
   "cell_type": "code",
   "execution_count": null,
   "id": "5cfa35f9-1efc-4665-9051-396b1657496e",
   "metadata": {},
   "outputs": [],
   "source": []
  }
 ],
 "metadata": {
  "kernelspec": {
   "display_name": "Python 3 (ipykernel)",
   "language": "python",
   "name": "python3"
  },
  "language_info": {
   "codemirror_mode": {
    "name": "ipython",
    "version": 3
   },
   "file_extension": ".py",
   "mimetype": "text/x-python",
   "name": "python",
   "nbconvert_exporter": "python",
   "pygments_lexer": "ipython3",
   "version": "3.12.4"
  }
 },
 "nbformat": 4,
 "nbformat_minor": 5
}
