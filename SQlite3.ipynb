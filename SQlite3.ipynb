{
 "cells": [
  {
   "cell_type": "code",
   "execution_count": 1,
   "id": "9d81c575",
   "metadata": {},
   "outputs": [],
   "source": [
    "import sqlite3\n",
    "#creat DB & create cursor\n",
    "new_connection=sqlite3.connect('test_data.db')\n",
    "new_cursor=new_connection.cursor()"
   ]
  },
  {
   "cell_type": "code",
   "execution_count": 10,
   "id": "541ad5c8",
   "metadata": {},
   "outputs": [
    {
     "data": {
      "text/plain": [
       "<sqlite3.Cursor at 0x159fe614dc0>"
      ]
     },
     "execution_count": 10,
     "metadata": {},
     "output_type": "execute_result"
    }
   ],
   "source": [
    "# create table\n",
    "# data type : text| null| integer| real| blob\n",
    "new_cursor.execute('CREATE TABLE students( id int NOT NULL,name varchar(50),number int);')"
   ]
  },
  {
   "cell_type": "code",
   "execution_count": 11,
   "id": "e1a969fa",
   "metadata": {},
   "outputs": [
    {
     "data": {
      "text/plain": [
       "<sqlite3.Cursor at 0x259c80ecac0>"
      ]
     },
     "execution_count": 11,
     "metadata": {},
     "output_type": "execute_result"
    }
   ],
   "source": [
    "# insert one record\n",
    "new_cursor.execute(\"INSERT INTO clients VALUES (1 , 'ziba' , 35);\")"
   ]
  },
  {
   "cell_type": "code",
   "execution_count": 2,
   "id": "d5b319d9",
   "metadata": {},
   "outputs": [],
   "source": [
    "#commit our command\n",
    "new_connection.commit()"
   ]
  },
  {
   "cell_type": "code",
   "execution_count": 34,
   "id": "087c35c6",
   "metadata": {},
   "outputs": [],
   "source": [
    "# insert many record into the table\n",
    "many_customers= [(2 , 'hasan' , 3),\n",
    "                 (3 , 'mohammad' , 37),\n",
    "                 (4 , 'rezvan' , 10)\n",
    "                ]\n",
    "new_cursor.executemany(\"INSERT INTO clients VALUES(?,?,?)\", many_customers)\n",
    "new_connection.commit()"
   ]
  },
  {
   "cell_type": "code",
   "execution_count": 30,
   "id": "69ae0786",
   "metadata": {},
   "outputs": [
    {
     "data": {
      "text/plain": [
       "<sqlite3.Cursor at 0x159feb0f440>"
      ]
     },
     "execution_count": 30,
     "metadata": {},
     "output_type": "execute_result"
    }
   ],
   "source": [
    "new_cursor.execute(\"SELECT * FROM clients;\")"
   ]
  },
  {
   "cell_type": "code",
   "execution_count": 15,
   "id": "06af1584",
   "metadata": {},
   "outputs": [
    {
     "data": {
      "text/plain": [
       "[(1, 'ziba', 35), (2, 'hasan', 3)]"
      ]
     },
     "execution_count": 15,
     "metadata": {},
     "output_type": "execute_result"
    }
   ],
   "source": [
    "#fetchone()\n",
    "#fetchmany(3)\n",
    "#fetchall()\n",
    "new_cursor.fetchmany(2)"
   ]
  },
  {
   "cell_type": "code",
   "execution_count": 3,
   "id": "5be71fea",
   "metadata": {},
   "outputs": [
    {
     "name": "stdout",
     "output_type": "stream",
     "text": [
      "ziba\n",
      "hasan\n",
      "mohammad\n",
      "rezvan\n",
      "narges\n",
      "zahra\n"
     ]
    }
   ],
   "source": [
    "items=new_cursor.fetchall()\n",
    "for item in items:\n",
    "    print(item[1])"
   ]
  },
  {
   "cell_type": "code",
   "execution_count": 4,
   "id": "18243f82",
   "metadata": {},
   "outputs": [
    {
     "name": "stdout",
     "output_type": "stream",
     "text": [
      "(1, 1, 'ziba', 35)\n",
      "(2, 2, 'hasan', 3)\n",
      "(3, 3, 'mohammad', 37)\n",
      "(4, 4, 'rezvan', 10)\n",
      "(5, 2, 'narges', 47)\n",
      "(7, 4, 'zahra', 20)\n"
     ]
    }
   ],
   "source": [
    "new_cursor.execute(\"SELECT rowid , * FROM clients;\")\n",
    "items=new_cursor.fetchall()\n",
    "for item in items:\n",
    "    print(item)"
   ]
  },
  {
   "cell_type": "code",
   "execution_count": 37,
   "id": "99908b41",
   "metadata": {},
   "outputs": [
    {
     "name": "stdout",
     "output_type": "stream",
     "text": [
      "(4, 'rezvan', 10)\n",
      "(4, 'rezvan', 10)\n",
      "(4, 'rezvan', 10)\n"
     ]
    }
   ],
   "source": [
    "# serching in table\n",
    "new_cursor.execute(\"SELECT * FROM clients WHERE name LIKE 're%';\")\n",
    "iteems=new_cursor.fetchall()\n",
    "for item in iteems:\n",
    "    print(item)"
   ]
  },
  {
   "cell_type": "code",
   "execution_count": 38,
   "id": "923da3b6",
   "metadata": {},
   "outputs": [
    {
     "name": "stdout",
     "output_type": "stream",
     "text": [
      "(1, 'ziba', 35)\n",
      "(2, 'hasan', 3)\n",
      "(3, 'mohammad', 37)\n",
      "(4, 'zahra', 10)\n",
      "(2, 'hasan', 3)\n",
      "(3, 'mohammad', 37)\n",
      "(4, 'zahra', 10)\n",
      "(2, 'hasan', 3)\n",
      "(3, 'mohammad', 37)\n",
      "(4, 'zahra', 10)\n"
     ]
    }
   ],
   "source": [
    "# update record\n",
    "new_cursor.execute(\"UPDATE clients SET name= 'zahra' WHERE number=10;\")\n",
    "new_connection.commit()\n",
    "new_cursor.execute(\"SELECT * FROM clients;\")\n",
    "iteeems=new_cursor.fetchall()\n",
    "for item in iteeems:\n",
    "    print(item)"
   ]
  },
  {
   "cell_type": "code",
   "execution_count": 48,
   "id": "2c05fd13",
   "metadata": {},
   "outputs": [
    {
     "name": "stdout",
     "output_type": "stream",
     "text": [
      "(1, 1, 'ziba', 35)\n",
      "(2, 2, 'hasan', 3)\n",
      "(3, 3, 'mohammad', 37)\n",
      "(4, 4, 'rezvan', 10)\n",
      "(5, 2, 'narges', 47)\n",
      "(7, 4, 'zahra', 20)\n"
     ]
    }
   ],
   "source": [
    "# update record based on rowid\n",
    "new_cursor.execute(\"UPDATE clients SET number=20 WHERE rowid=7;\")\n",
    "new_connection.commit()\n",
    "new_cursor.execute(\"SELECT rowid, * FROM clients;\")\n",
    "iteeems=new_cursor.fetchall()\n",
    "for item in iteeems:\n",
    "    print(item)"
   ]
  },
  {
   "cell_type": "code",
   "execution_count": 43,
   "id": "1a8153ae",
   "metadata": {},
   "outputs": [
    {
     "name": "stdout",
     "output_type": "stream",
     "text": [
      "(1, 1, 'ziba', 35)\n",
      "(2, 2, 'hasan', 3)\n",
      "(3, 3, 'mohammad', 37)\n",
      "(4, 4, 'rezvan', 10)\n",
      "(5, 2, 'narges', 3)\n",
      "(7, 4, 'zahra', 10)\n"
     ]
    }
   ],
   "source": [
    "#delet record based on rowid\n",
    "new_cursor.execute(\"DELETE FROM clients WHERE rowid=6;\")\n",
    "new_connection.commit()\n",
    "new_cursor.execute(\"SELECT rowid, * FROM clients;\")\n",
    "iteeems=new_cursor.fetchall()\n",
    "for item in iteeems:\n",
    "    print(item)"
   ]
  },
  {
   "cell_type": "code",
   "execution_count": 50,
   "id": "58d97840",
   "metadata": {},
   "outputs": [
    {
     "name": "stdout",
     "output_type": "stream",
     "text": [
      "(5, 2, 'narges', 47)\n",
      "(3, 3, 'mohammad', 37)\n",
      "(1, 1, 'ziba', 35)\n",
      "(7, 4, 'zahra', 20)\n",
      "(4, 4, 'rezvan', 10)\n",
      "(2, 2, 'hasan', 3)\n"
     ]
    }
   ],
   "source": [
    "# query the database - ORDER BY\n",
    "new_cursor.execute(\"SELECT rowid, * FROM clients ORDER BY number DESC;\")#ASC\n",
    "items=new_cursor.fetchall()\n",
    "for item in items:\n",
    "    print(item)"
   ]
  },
  {
   "cell_type": "code",
   "execution_count": 15,
   "id": "82126d44",
   "metadata": {},
   "outputs": [
    {
     "name": "stdout",
     "output_type": "stream",
     "text": [
      "(1, 'ziba', 35)\n"
     ]
    }
   ],
   "source": [
    "# query the database - AND\n",
    "new_cursor.execute(\"SELECT * FROM clients WHERE name LIKE 'zi%' AND number=35;\")\n",
    "items= new_cursor.fetchall()\n",
    "for item in items:\n",
    "    print(item)"
   ]
  },
  {
   "cell_type": "code",
   "execution_count": 19,
   "id": "dc66d875",
   "metadata": {},
   "outputs": [
    {
     "name": "stdout",
     "output_type": "stream",
     "text": [
      "(2, 2, 'hasan', 3)\n",
      "(5, 2, 'narges', 47)\n"
     ]
    }
   ],
   "source": [
    "# query the database - OR\n",
    "new_cursor.execute(\"SELECT rowid, * FROM clients WHERE name LIKE 'ha%' OR number=47;\")\n",
    "items=new_cursor.fetchall()\n",
    "for item in items:\n",
    "    print(item)"
   ]
  },
  {
   "cell_type": "code",
   "execution_count": 21,
   "id": "0166c693",
   "metadata": {},
   "outputs": [
    {
     "name": "stdout",
     "output_type": "stream",
     "text": [
      "(1, 1, 'ziba', 35)\n",
      "(7, 4, 'zahra', 20)\n"
     ]
    }
   ],
   "source": [
    "# query the database - LIMIT\n",
    "new_cursor.execute(\"SELECT rowid, * FROM clients ORDER BY name DESC LIMIT 2;\")\n",
    "items=new_cursor.fetchall()\n",
    "for item in items:\n",
    "    print(item)"
   ]
  },
  {
   "cell_type": "code",
   "execution_count": null,
   "id": "71a8253b",
   "metadata": {},
   "outputs": [],
   "source": []
  }
 ],
 "metadata": {
  "kernelspec": {
   "display_name": "Python 3 (ipykernel)",
   "language": "python",
   "name": "python3"
  },
  "language_info": {
   "codemirror_mode": {
    "name": "ipython",
    "version": 3
   },
   "file_extension": ".py",
   "mimetype": "text/x-python",
   "name": "python",
   "nbconvert_exporter": "python",
   "pygments_lexer": "ipython3",
   "version": "3.12.4"
  }
 },
 "nbformat": 4,
 "nbformat_minor": 5
}
