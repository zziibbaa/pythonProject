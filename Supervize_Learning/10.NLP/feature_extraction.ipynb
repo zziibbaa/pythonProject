{
 "cells": [
  {
   "cell_type": "code",
   "execution_count": 1,
   "id": "8041945d-c496-4c40-b557-7c71f696ed91",
   "metadata": {},
   "outputs": [
    {
     "name": "stdout",
     "output_type": "stream",
     "text": [
      "['this', 'is', 'a', 'story', 'about', 'dogs', 'our', 'canine', 'pets', 'dogs', 'are', 'furry', 'animals']\n"
     ]
    }
   ],
   "source": [
    "with open ('One.txt') as one:\n",
    "    words_1=one.read().lower().split()\n",
    "    print(words_1)"
   ]
  },
  {
   "cell_type": "code",
   "execution_count": 2,
   "id": "53a15110-4543-4a40-a2dd-8d66577219c2",
   "metadata": {},
   "outputs": [
    {
     "name": "stdout",
     "output_type": "stream",
     "text": [
      "['this', 'story', 'is', 'about', 'surfing', 'catching', 'waves', 'is', 'fun', 'surfing', 'is', 'a', 'popular', 'water', 'sport']\n"
     ]
    }
   ],
   "source": [
    "with open('Two.txt') as two:\n",
    "    words_2=two.read().lower().split()\n",
    "    print(words_2)"
   ]
  },
  {
   "cell_type": "code",
   "execution_count": 3,
   "id": "cda48c4e-61d6-4d07-a150-636b5d0c68be",
   "metadata": {},
   "outputs": [
    {
     "data": {
      "text/plain": [
       "{'a',\n",
       " 'about',\n",
       " 'animals',\n",
       " 'are',\n",
       " 'canine',\n",
       " 'catching',\n",
       " 'dogs',\n",
       " 'fun',\n",
       " 'furry',\n",
       " 'is',\n",
       " 'our',\n",
       " 'pets',\n",
       " 'popular',\n",
       " 'sport',\n",
       " 'story',\n",
       " 'surfing',\n",
       " 'this',\n",
       " 'water',\n",
       " 'waves'}"
      ]
     },
     "execution_count": 3,
     "metadata": {},
     "output_type": "execute_result"
    }
   ],
   "source": [
    "uni_1=set(words_1)\n",
    "uni_2=set(words_2)\n",
    "uniqe_words=set()\n",
    "uniqe_words.update(uni_1)\n",
    "uniqe_words.update(uni_2)\n",
    "uniqe_words"
   ]
  },
  {
   "cell_type": "code",
   "execution_count": 4,
   "id": "bb18d1e5-a629-4c83-905c-f5b32e674990",
   "metadata": {},
   "outputs": [
    {
     "data": {
      "text/plain": [
       "{'a': 0,\n",
       " 'furry': 1,\n",
       " 'story': 2,\n",
       " 'popular': 3,\n",
       " 'dogs': 4,\n",
       " 'catching': 5,\n",
       " 'canine': 6,\n",
       " 'are': 7,\n",
       " 'is': 8,\n",
       " 'pets': 9,\n",
       " 'fun': 10,\n",
       " 'animals': 11,\n",
       " 'our': 12,\n",
       " 'water': 13,\n",
       " 'about': 14,\n",
       " 'this': 15,\n",
       " 'waves': 16,\n",
       " 'surfing': 17,\n",
       " 'sport': 18}"
      ]
     },
     "execution_count": 4,
     "metadata": {},
     "output_type": "execute_result"
    }
   ],
   "source": [
    "all_vocab=dict()\n",
    "i=0\n",
    "\n",
    "for word in uniqe_words:\n",
    "    all_vocab[word]=i\n",
    "    i+=1\n",
    "\n",
    "all_vocab"
   ]
  },
  {
   "cell_type": "code",
   "execution_count": 5,
   "id": "70f71446-747c-44f8-aa9c-2a8e5dfd140a",
   "metadata": {},
   "outputs": [
    {
     "data": {
      "text/plain": [
       "['a',\n",
       " 'furry',\n",
       " 'story',\n",
       " 'popular',\n",
       " 'dogs',\n",
       " 'catching',\n",
       " 'canine',\n",
       " 'are',\n",
       " 'is',\n",
       " 'pets',\n",
       " 'fun',\n",
       " 'animals',\n",
       " 'our',\n",
       " 'water',\n",
       " 'about',\n",
       " 'this',\n",
       " 'waves',\n",
       " 'surfing',\n",
       " 'sport']"
      ]
     },
     "execution_count": 5,
     "metadata": {},
     "output_type": "execute_result"
    }
   ],
   "source": [
    "uniqe_words=list(uniqe_words)\n",
    "uniqe_words"
   ]
  },
  {
   "cell_type": "code",
   "execution_count": 6,
   "id": "ec80618f-1109-456e-b543-3832edcf9909",
   "metadata": {},
   "outputs": [
    {
     "data": {
      "text/plain": [
       "[1, 1, 1, 0, 2, 0, 1, 1, 1, 1, 0, 1, 1, 0, 1, 1, 0, 0, 0]"
      ]
     },
     "execution_count": 6,
     "metadata": {},
     "output_type": "execute_result"
    }
   ],
   "source": [
    "frq_one=[0]*len(uniqe_words)\n",
    "\n",
    "for word in words_1:\n",
    "    word_ind=all_vocab[word]\n",
    "    frq_one[word_ind]+=1\n",
    "\n",
    "frq_one"
   ]
  },
  {
   "cell_type": "code",
   "execution_count": 16,
   "id": "38241683-3c35-4274-9b08-a96a9a78311b",
   "metadata": {},
   "outputs": [
    {
     "data": {
      "text/plain": [
       "[1, 1, 1, 1, 1, 0, 0, 0, 1, 0, 3, 2, 0, 1, 0, 0, 1, 1, 1]"
      ]
     },
     "execution_count": 16,
     "metadata": {},
     "output_type": "execute_result"
    }
   ],
   "source": [
    "frq_two=[0]*len(uniqe_words)\n",
    "\n",
    "for word in words_2:\n",
    "    word_ind=all_vocab[word]\n",
    "    frq_two[word_ind]+=1\n",
    "\n",
    "frq_two"
   ]
  },
  {
   "cell_type": "code",
   "execution_count": 17,
   "id": "adc25c06-9339-4a72-a0bf-18f5e114e685",
   "metadata": {},
   "outputs": [
    {
     "data": {
      "text/html": [
       "<div>\n",
       "<style scoped>\n",
       "    .dataframe tbody tr th:only-of-type {\n",
       "        vertical-align: middle;\n",
       "    }\n",
       "\n",
       "    .dataframe tbody tr th {\n",
       "        vertical-align: top;\n",
       "    }\n",
       "\n",
       "    .dataframe thead th {\n",
       "        text-align: right;\n",
       "    }\n",
       "</style>\n",
       "<table border=\"1\" class=\"dataframe\">\n",
       "  <thead>\n",
       "    <tr style=\"text-align: right;\">\n",
       "      <th></th>\n",
       "      <th>fun</th>\n",
       "      <th>popular</th>\n",
       "      <th>waves</th>\n",
       "      <th>catching</th>\n",
       "      <th>about</th>\n",
       "      <th>animals</th>\n",
       "      <th>are</th>\n",
       "      <th>canine</th>\n",
       "      <th>water</th>\n",
       "      <th>our</th>\n",
       "      <th>is</th>\n",
       "      <th>surfing</th>\n",
       "      <th>pets</th>\n",
       "      <th>this</th>\n",
       "      <th>dogs</th>\n",
       "      <th>furry</th>\n",
       "      <th>sport</th>\n",
       "      <th>story</th>\n",
       "      <th>a</th>\n",
       "    </tr>\n",
       "  </thead>\n",
       "  <tbody>\n",
       "    <tr>\n",
       "      <th>0</th>\n",
       "      <td>0</td>\n",
       "      <td>0</td>\n",
       "      <td>0</td>\n",
       "      <td>0</td>\n",
       "      <td>1</td>\n",
       "      <td>1</td>\n",
       "      <td>1</td>\n",
       "      <td>1</td>\n",
       "      <td>0</td>\n",
       "      <td>1</td>\n",
       "      <td>1</td>\n",
       "      <td>0</td>\n",
       "      <td>1</td>\n",
       "      <td>1</td>\n",
       "      <td>2</td>\n",
       "      <td>1</td>\n",
       "      <td>0</td>\n",
       "      <td>1</td>\n",
       "      <td>1</td>\n",
       "    </tr>\n",
       "    <tr>\n",
       "      <th>1</th>\n",
       "      <td>1</td>\n",
       "      <td>1</td>\n",
       "      <td>1</td>\n",
       "      <td>1</td>\n",
       "      <td>1</td>\n",
       "      <td>0</td>\n",
       "      <td>0</td>\n",
       "      <td>0</td>\n",
       "      <td>1</td>\n",
       "      <td>0</td>\n",
       "      <td>3</td>\n",
       "      <td>2</td>\n",
       "      <td>0</td>\n",
       "      <td>1</td>\n",
       "      <td>0</td>\n",
       "      <td>0</td>\n",
       "      <td>1</td>\n",
       "      <td>1</td>\n",
       "      <td>1</td>\n",
       "    </tr>\n",
       "  </tbody>\n",
       "</table>\n",
       "</div>"
      ],
      "text/plain": [
       "   fun  popular  waves  catching  about  ...  dogs  furry  sport  story  a\n",
       "0    0        0      0         0      1  ...     2      1      0      1  1\n",
       "1    1        1      1         1      1  ...     0      0      1      1  1\n",
       "\n",
       "[2 rows x 19 columns]"
      ]
     },
     "execution_count": 17,
     "metadata": {},
     "output_type": "execute_result"
    }
   ],
   "source": [
    "import pandas as pd\n",
    "pd.DataFrame(data=[frq_one , frq_two] , columns=uniqe_words)"
   ]
  },
  {
   "cell_type": "code",
   "execution_count": null,
   "id": "2a4945c0-7c9f-4e4f-98b8-a0d84c7c397e",
   "metadata": {},
   "outputs": [],
   "source": []
  }
 ],
 "metadata": {
  "kernelspec": {
   "display_name": "Python 3 (ipykernel)",
   "language": "python",
   "name": "python3"
  },
  "language_info": {
   "codemirror_mode": {
    "name": "ipython",
    "version": 3
   },
   "file_extension": ".py",
   "mimetype": "text/x-python",
   "name": "python",
   "nbconvert_exporter": "python",
   "pygments_lexer": "ipython3",
   "version": "3.12.4"
  }
 },
 "nbformat": 4,
 "nbformat_minor": 5
}
