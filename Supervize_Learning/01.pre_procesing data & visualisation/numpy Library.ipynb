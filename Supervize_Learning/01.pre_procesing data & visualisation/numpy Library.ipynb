{
 "cells": [
  {
   "cell_type": "code",
   "execution_count": 1,
   "id": "f82f1887",
   "metadata": {},
   "outputs": [],
   "source": [
    "import numpy as np"
   ]
  },
  {
   "cell_type": "markdown",
   "id": "9773c618",
   "metadata": {},
   "source": [
    "## array"
   ]
  },
  {
   "cell_type": "code",
   "execution_count": 5,
   "id": "95b47cee",
   "metadata": {},
   "outputs": [],
   "source": [
    "array_1=np.array([[1,2,3],[4,5,6]])"
   ]
  },
  {
   "cell_type": "code",
   "execution_count": 6,
   "id": "a7961c73",
   "metadata": {},
   "outputs": [
    {
     "data": {
      "text/plain": [
       "array([[1, 2, 3],\n",
       "       [4, 5, 6]])"
      ]
     },
     "execution_count": 6,
     "metadata": {},
     "output_type": "execute_result"
    }
   ],
   "source": [
    "array_1"
   ]
  },
  {
   "cell_type": "markdown",
   "id": "5ae7fbf9",
   "metadata": {},
   "source": [
    "## arang"
   ]
  },
  {
   "cell_type": "code",
   "execution_count": 6,
   "id": "6ab6b43f",
   "metadata": {},
   "outputs": [],
   "source": [
    "array_2=np.arange(1,100,3)"
   ]
  },
  {
   "cell_type": "code",
   "execution_count": 11,
   "id": "bb660a83",
   "metadata": {},
   "outputs": [
    {
     "data": {
      "text/plain": [
       "array([ 1,  4,  7, 10, 13, 16, 19, 22, 25, 28, 31, 34, 37, 40, 43, 46, 49,\n",
       "       52, 55, 58, 61, 64, 67, 70, 73, 76, 79, 82, 85, 88, 91, 94, 97])"
      ]
     },
     "execution_count": 11,
     "metadata": {},
     "output_type": "execute_result"
    }
   ],
   "source": [
    "array_2"
   ]
  },
  {
   "cell_type": "markdown",
   "id": "963ba748",
   "metadata": {},
   "source": [
    "## zeros"
   ]
  },
  {
   "cell_type": "code",
   "execution_count": 9,
   "id": "f89892cc",
   "metadata": {},
   "outputs": [],
   "source": [
    "array_3= np.zeros((4,3))"
   ]
  },
  {
   "cell_type": "code",
   "execution_count": 10,
   "id": "0aee23e7",
   "metadata": {},
   "outputs": [
    {
     "data": {
      "text/plain": [
       "array([[0., 0., 0.],\n",
       "       [0., 0., 0.],\n",
       "       [0., 0., 0.],\n",
       "       [0., 0., 0.]])"
      ]
     },
     "execution_count": 10,
     "metadata": {},
     "output_type": "execute_result"
    }
   ],
   "source": [
    "array_3"
   ]
  },
  {
   "cell_type": "markdown",
   "id": "93433255",
   "metadata": {},
   "source": [
    "## ones"
   ]
  },
  {
   "cell_type": "code",
   "execution_count": 21,
   "id": "1dc633bd",
   "metadata": {},
   "outputs": [],
   "source": [
    "array_4= np.ones((4,4))"
   ]
  },
  {
   "cell_type": "code",
   "execution_count": 22,
   "id": "2b9ff541",
   "metadata": {},
   "outputs": [
    {
     "data": {
      "text/plain": [
       "array([[1., 1., 1., 1.],\n",
       "       [1., 1., 1., 1.],\n",
       "       [1., 1., 1., 1.],\n",
       "       [1., 1., 1., 1.]])"
      ]
     },
     "execution_count": 22,
     "metadata": {},
     "output_type": "execute_result"
    }
   ],
   "source": [
    "array_4"
   ]
  },
  {
   "cell_type": "markdown",
   "id": "67492113",
   "metadata": {},
   "source": [
    "## eye"
   ]
  },
  {
   "cell_type": "code",
   "execution_count": 28,
   "id": "e3225dc2",
   "metadata": {},
   "outputs": [],
   "source": [
    "array_5 = np.eye(5)"
   ]
  },
  {
   "cell_type": "code",
   "execution_count": 29,
   "id": "555a0948",
   "metadata": {},
   "outputs": [
    {
     "data": {
      "text/plain": [
       "array([[1., 0., 0., 0., 0.],\n",
       "       [0., 1., 0., 0., 0.],\n",
       "       [0., 0., 1., 0., 0.],\n",
       "       [0., 0., 0., 1., 0.],\n",
       "       [0., 0., 0., 0., 1.]])"
      ]
     },
     "execution_count": 29,
     "metadata": {},
     "output_type": "execute_result"
    }
   ],
   "source": [
    "array_5"
   ]
  },
  {
   "cell_type": "markdown",
   "id": "2ae283fa",
   "metadata": {},
   "source": [
    "## linspace"
   ]
  },
  {
   "cell_type": "code",
   "execution_count": 26,
   "id": "4f13781f",
   "metadata": {},
   "outputs": [],
   "source": [
    "array_6=np.linspace(0,10,21)"
   ]
  },
  {
   "cell_type": "code",
   "execution_count": 27,
   "id": "ada5d750",
   "metadata": {},
   "outputs": [
    {
     "data": {
      "text/plain": [
       "array([ 0. ,  0.5,  1. ,  1.5,  2. ,  2.5,  3. ,  3.5,  4. ,  4.5,  5. ,\n",
       "        5.5,  6. ,  6.5,  7. ,  7.5,  8. ,  8.5,  9. ,  9.5, 10. ])"
      ]
     },
     "execution_count": 27,
     "metadata": {},
     "output_type": "execute_result"
    }
   ],
   "source": [
    "array_6"
   ]
  },
  {
   "cell_type": "markdown",
   "id": "a4a03fa9",
   "metadata": {},
   "source": [
    "# random"
   ]
  },
  {
   "cell_type": "markdown",
   "id": "08f41c18",
   "metadata": {},
   "source": [
    "## randتولید اعداد تصادفی با توزیع یکنواخت در بازه بسته 0و بازه باز 1"
   ]
  },
  {
   "cell_type": "code",
   "execution_count": 30,
   "id": "6f40798e",
   "metadata": {},
   "outputs": [],
   "source": [
    "array_7= np.random.rand(4,2)"
   ]
  },
  {
   "cell_type": "code",
   "execution_count": 31,
   "id": "fc65bba0",
   "metadata": {},
   "outputs": [
    {
     "data": {
      "text/plain": [
       "array([[0.9972743 , 0.31471079],\n",
       "       [0.00562087, 0.80182369],\n",
       "       [0.71701642, 0.59964933],\n",
       "       [0.06873679, 0.43645956]])"
      ]
     },
     "execution_count": 31,
     "metadata": {},
     "output_type": "execute_result"
    }
   ],
   "source": [
    "array_7"
   ]
  },
  {
   "cell_type": "markdown",
   "id": "85e24c8c",
   "metadata": {},
   "source": [
    "## randn with mean = 0, std=1"
   ]
  },
  {
   "cell_type": "code",
   "execution_count": 34,
   "id": "1d7d4b22",
   "metadata": {},
   "outputs": [],
   "source": [
    "array_8= np.random.randn(5,3)"
   ]
  },
  {
   "cell_type": "code",
   "execution_count": 35,
   "id": "937cb27e",
   "metadata": {},
   "outputs": [
    {
     "data": {
      "text/plain": [
       "array([[ 0.48508383,  0.37908099,  2.13332276],\n",
       "       [-0.50246156, -0.77700355,  0.1461237 ],\n",
       "       [-1.29985335, -1.28255045, -1.63489958],\n",
       "       [ 0.635903  , -0.2411359 ,  1.2161008 ],\n",
       "       [-0.51545382,  2.46758745,  0.96549869]])"
      ]
     },
     "execution_count": 35,
     "metadata": {},
     "output_type": "execute_result"
    }
   ],
   "source": [
    "array_8"
   ]
  },
  {
   "cell_type": "markdown",
   "id": "4db15ea1",
   "metadata": {},
   "source": [
    "## randint"
   ]
  },
  {
   "cell_type": "code",
   "execution_count": 36,
   "id": "5ee1ca51",
   "metadata": {},
   "outputs": [],
   "source": [
    "array_9= np.random.randint(1,20,10)"
   ]
  },
  {
   "cell_type": "code",
   "execution_count": 37,
   "id": "16d9821b",
   "metadata": {},
   "outputs": [
    {
     "data": {
      "text/plain": [
       "array([ 9, 16, 10,  3, 14,  1,  2, 19,  5,  9])"
      ]
     },
     "execution_count": 37,
     "metadata": {},
     "output_type": "execute_result"
    }
   ],
   "source": [
    "array_9"
   ]
  },
  {
   "cell_type": "code",
   "execution_count": 38,
   "id": "974c7acb",
   "metadata": {},
   "outputs": [],
   "source": [
    "array_10= np.random.randint(1,20,(3,4))"
   ]
  },
  {
   "cell_type": "code",
   "execution_count": 39,
   "id": "c078e42d",
   "metadata": {},
   "outputs": [
    {
     "data": {
      "text/plain": [
       "array([[12, 11,  5, 17],\n",
       "       [12, 16, 17, 18],\n",
       "       [ 7, 12, 18, 17]])"
      ]
     },
     "execution_count": 39,
     "metadata": {},
     "output_type": "execute_result"
    }
   ],
   "source": [
    "array_10"
   ]
  },
  {
   "cell_type": "markdown",
   "id": "0ad47cad",
   "metadata": {},
   "source": [
    "## seed"
   ]
  },
  {
   "cell_type": "code",
   "execution_count": 47,
   "id": "a186d2e2",
   "metadata": {},
   "outputs": [
    {
     "data": {
      "text/plain": [
       "array([[106,  55],\n",
       "       [ 96,  18]])"
      ]
     },
     "execution_count": 47,
     "metadata": {},
     "output_type": "execute_result"
    }
   ],
   "source": [
    "np.random.seed(42)\n",
    "np.random.randint(4,123,(2,2))"
   ]
  },
  {
   "cell_type": "markdown",
   "id": "d5b516cc",
   "metadata": {},
   "source": [
    "## reshape"
   ]
  },
  {
   "cell_type": "code",
   "execution_count": 42,
   "id": "54e5cace",
   "metadata": {},
   "outputs": [
    {
     "data": {
      "text/plain": [
       "array([[12, 11,  5, 17, 12, 16],\n",
       "       [17, 18,  7, 12, 18, 17]])"
      ]
     },
     "execution_count": 42,
     "metadata": {},
     "output_type": "execute_result"
    }
   ],
   "source": [
    "array_10.reshape(2,6)"
   ]
  },
  {
   "cell_type": "markdown",
   "id": "99d5e642",
   "metadata": {},
   "source": [
    "## max , min"
   ]
  },
  {
   "cell_type": "code",
   "execution_count": 48,
   "id": "615fc8fb",
   "metadata": {},
   "outputs": [
    {
     "data": {
      "text/plain": [
       "18"
      ]
     },
     "execution_count": 48,
     "metadata": {},
     "output_type": "execute_result"
    }
   ],
   "source": [
    "array_10.max()"
   ]
  },
  {
   "cell_type": "code",
   "execution_count": 49,
   "id": "41bf7e92",
   "metadata": {},
   "outputs": [
    {
     "data": {
      "text/plain": [
       "5"
      ]
     },
     "execution_count": 49,
     "metadata": {},
     "output_type": "execute_result"
    }
   ],
   "source": [
    "array_10.min()"
   ]
  },
  {
   "cell_type": "markdown",
   "id": "43563d99",
   "metadata": {},
   "source": [
    "## argmax , argmin"
   ]
  },
  {
   "cell_type": "code",
   "execution_count": 50,
   "id": "563cf222",
   "metadata": {},
   "outputs": [
    {
     "data": {
      "text/plain": [
       "7"
      ]
     },
     "execution_count": 50,
     "metadata": {},
     "output_type": "execute_result"
    }
   ],
   "source": [
    "array_10.argmax()"
   ]
  },
  {
   "cell_type": "code",
   "execution_count": 51,
   "id": "e7b78499",
   "metadata": {},
   "outputs": [
    {
     "data": {
      "text/plain": [
       "2"
      ]
     },
     "execution_count": 51,
     "metadata": {},
     "output_type": "execute_result"
    }
   ],
   "source": [
    "array_10.argmin()"
   ]
  },
  {
   "cell_type": "markdown",
   "id": "44d3c3f9",
   "metadata": {},
   "source": [
    "## shape"
   ]
  },
  {
   "cell_type": "code",
   "execution_count": 55,
   "id": "795a06a5",
   "metadata": {},
   "outputs": [
    {
     "data": {
      "text/plain": [
       "(5, 5)"
      ]
     },
     "execution_count": 55,
     "metadata": {},
     "output_type": "execute_result"
    }
   ],
   "source": [
    "array_5.shape"
   ]
  },
  {
   "cell_type": "markdown",
   "id": "099e992c",
   "metadata": {},
   "source": [
    "## dtype"
   ]
  },
  {
   "cell_type": "code",
   "execution_count": 56,
   "id": "79d18dca",
   "metadata": {},
   "outputs": [
    {
     "data": {
      "text/plain": [
       "dtype('float64')"
      ]
     },
     "execution_count": 56,
     "metadata": {},
     "output_type": "execute_result"
    }
   ],
   "source": [
    "array_8.dtype"
   ]
  },
  {
   "cell_type": "code",
   "execution_count": 61,
   "id": "419fc040",
   "metadata": {},
   "outputs": [
    {
     "data": {
      "text/plain": [
       "dtype('int32')"
      ]
     },
     "execution_count": 61,
     "metadata": {},
     "output_type": "execute_result"
    }
   ],
   "source": [
    "array_2.dtype"
   ]
  },
  {
   "cell_type": "markdown",
   "id": "aa276504",
   "metadata": {},
   "source": [
    "## indexing"
   ]
  },
  {
   "cell_type": "code",
   "execution_count": 9,
   "id": "b67f852f",
   "metadata": {},
   "outputs": [
    {
     "data": {
      "text/plain": [
       "3"
      ]
     },
     "execution_count": 9,
     "metadata": {},
     "output_type": "execute_result"
    }
   ],
   "source": [
    "arr=np.array([1,2,3,4])\n",
    "arr[2]"
   ]
  },
  {
   "cell_type": "code",
   "execution_count": 10,
   "id": "28159459",
   "metadata": {},
   "outputs": [
    {
     "data": {
      "text/plain": [
       "array([2, 4])"
      ]
     },
     "execution_count": 10,
     "metadata": {},
     "output_type": "execute_result"
    }
   ],
   "source": [
    "arr[1::2]"
   ]
  },
  {
   "cell_type": "code",
   "execution_count": 11,
   "id": "cf101276",
   "metadata": {},
   "outputs": [
    {
     "data": {
      "text/plain": [
       "array([  1,   2, 100, 101])"
      ]
     },
     "execution_count": 11,
     "metadata": {},
     "output_type": "execute_result"
    }
   ],
   "source": [
    "arr[2:]=100,101\n",
    "arr"
   ]
  },
  {
   "cell_type": "code",
   "execution_count": 12,
   "id": "09e18cb4",
   "metadata": {},
   "outputs": [
    {
     "data": {
      "text/plain": [
       "array([[22, 14, 36],\n",
       "       [12, 33, 18],\n",
       "       [39, 11, 12],\n",
       "       [34, 22, 24]])"
      ]
     },
     "execution_count": 12,
     "metadata": {},
     "output_type": "execute_result"
    }
   ],
   "source": [
    "my_arr=np.random.randint(10,40,(4,3))\n",
    "my_arr"
   ]
  },
  {
   "cell_type": "code",
   "execution_count": 13,
   "id": "126de3a2",
   "metadata": {},
   "outputs": [
    {
     "data": {
      "text/plain": [
       "array([14, 11])"
      ]
     },
     "execution_count": 13,
     "metadata": {},
     "output_type": "execute_result"
    }
   ],
   "source": [
    "my_arr[: :2 ,1]"
   ]
  },
  {
   "cell_type": "markdown",
   "id": "745fb1fa",
   "metadata": {},
   "source": [
    "## copy & deepcopy"
   ]
  },
  {
   "cell_type": "code",
   "execution_count": 14,
   "id": "3317ac82",
   "metadata": {},
   "outputs": [
    {
     "data": {
      "text/plain": [
       "array([ 21,  22, 100, 101])"
      ]
     },
     "execution_count": 14,
     "metadata": {},
     "output_type": "execute_result"
    }
   ],
   "source": [
    "arr_copy=arr.copy()\n",
    "arr_copy[:2]=21,22\n",
    "arr_copy"
   ]
  },
  {
   "cell_type": "code",
   "execution_count": 15,
   "id": "f8121ca1",
   "metadata": {},
   "outputs": [
    {
     "data": {
      "text/plain": [
       "array([  1,   2, 100, 101])"
      ]
     },
     "execution_count": 15,
     "metadata": {},
     "output_type": "execute_result"
    }
   ],
   "source": [
    "arr"
   ]
  },
  {
   "cell_type": "markdown",
   "id": "7402ba48",
   "metadata": {},
   "source": [
    "# Conditional selection"
   ]
  },
  {
   "cell_type": "code",
   "execution_count": 7,
   "id": "d22cccf3",
   "metadata": {},
   "outputs": [
    {
     "data": {
      "text/plain": [
       "array([[0, 1],\n",
       "       [2, 3],\n",
       "       [4, 5],\n",
       "       [6, 7],\n",
       "       [8, 9]])"
      ]
     },
     "execution_count": 7,
     "metadata": {},
     "output_type": "execute_result"
    }
   ],
   "source": [
    "arr_1=np.arange(10).reshape(5,2)\n",
    "arr_1"
   ]
  },
  {
   "cell_type": "code",
   "execution_count": 8,
   "id": "b46e3c53",
   "metadata": {},
   "outputs": [
    {
     "data": {
      "text/plain": [
       "array([5, 6, 7, 8, 9])"
      ]
     },
     "execution_count": 8,
     "metadata": {},
     "output_type": "execute_result"
    }
   ],
   "source": [
    "arr_1[arr_1>4]"
   ]
  },
  {
   "cell_type": "markdown",
   "id": "d9426736",
   "metadata": {},
   "source": [
    "# numpy_operations"
   ]
  },
  {
   "cell_type": "markdown",
   "id": "127431bb",
   "metadata": {},
   "source": [
    "## multiplay operation"
   ]
  },
  {
   "cell_type": "code",
   "execution_count": 35,
   "id": "5e0f9886",
   "metadata": {},
   "outputs": [
    {
     "data": {
      "text/plain": [
       "array([[ 8, 13, 16, 15],\n",
       "       [12,  5, 11, 17],\n",
       "       [ 2,  3,  2,  8],\n",
       "       [12, 16, 16,  2]])"
      ]
     },
     "execution_count": 35,
     "metadata": {},
     "output_type": "execute_result"
    }
   ],
   "source": [
    "array_01= np.random.randint(1,20,(4,4))\n",
    "array_01"
   ]
  },
  {
   "cell_type": "code",
   "execution_count": 36,
   "id": "e8888e02",
   "metadata": {},
   "outputs": [
    {
     "data": {
      "text/plain": [
       "array([[2, 6, 9, 3],\n",
       "       [8, 1, 4, 0],\n",
       "       [0, 7, 8, 4],\n",
       "       [3, 9, 0, 6]])"
      ]
     },
     "execution_count": 36,
     "metadata": {},
     "output_type": "execute_result"
    }
   ],
   "source": [
    "array_02=np.random.randint(0,10,(4,4))\n",
    "array_02"
   ]
  },
  {
   "cell_type": "code",
   "execution_count": 37,
   "id": "56a7597a",
   "metadata": {},
   "outputs": [
    {
     "data": {
      "text/plain": [
       "array([[ 16,  78, 144,  45],\n",
       "       [ 96,   5,  44,   0],\n",
       "       [  0,  21,  16,  32],\n",
       "       [ 36, 144,   0,  12]])"
      ]
     },
     "execution_count": 37,
     "metadata": {},
     "output_type": "execute_result"
    }
   ],
   "source": [
    "array_01* array_02"
   ]
  },
  {
   "cell_type": "code",
   "execution_count": 40,
   "id": "a40faff2",
   "metadata": {},
   "outputs": [
    {
     "data": {
      "text/plain": [
       "array([ 521, 1757, 1077, 1069])"
      ]
     },
     "execution_count": 40,
     "metadata": {},
     "output_type": "execute_result"
    }
   ],
   "source": [
    "array_03=np.dot(arr_copy,array_02)\n",
    "array_03"
   ]
  },
  {
   "cell_type": "markdown",
   "id": "2082b014",
   "metadata": {},
   "source": [
    "## sqrt"
   ]
  },
  {
   "cell_type": "code",
   "execution_count": 41,
   "id": "be2b6126",
   "metadata": {},
   "outputs": [
    {
     "data": {
      "text/plain": [
       "array([[1.41421356, 2.44948974, 3.        , 1.73205081],\n",
       "       [2.82842712, 1.        , 2.        , 0.        ],\n",
       "       [0.        , 2.64575131, 2.82842712, 2.        ],\n",
       "       [1.73205081, 3.        , 0.        , 2.44948974]])"
      ]
     },
     "execution_count": 41,
     "metadata": {},
     "output_type": "execute_result"
    }
   ],
   "source": [
    "np.sqrt(array_02)"
   ]
  },
  {
   "cell_type": "markdown",
   "id": "34ec1d05",
   "metadata": {},
   "source": [
    "## exp عدد نپر به توان می رسد"
   ]
  },
  {
   "cell_type": "code",
   "execution_count": 42,
   "id": "88f7c49e",
   "metadata": {},
   "outputs": [
    {
     "data": {
      "text/plain": [
       "array([[7.38905610e+00, 4.03428793e+02, 8.10308393e+03, 2.00855369e+01],\n",
       "       [2.98095799e+03, 2.71828183e+00, 5.45981500e+01, 1.00000000e+00],\n",
       "       [1.00000000e+00, 1.09663316e+03, 2.98095799e+03, 5.45981500e+01],\n",
       "       [2.00855369e+01, 8.10308393e+03, 1.00000000e+00, 4.03428793e+02]])"
      ]
     },
     "execution_count": 42,
     "metadata": {},
     "output_type": "execute_result"
    }
   ],
   "source": [
    "np.exp(array_02)"
   ]
  },
  {
   "cell_type": "markdown",
   "id": "52f3d22e",
   "metadata": {},
   "source": [
    "## sin"
   ]
  },
  {
   "cell_type": "code",
   "execution_count": 54,
   "id": "fb36e9cd",
   "metadata": {},
   "outputs": [
    {
     "data": {
      "text/plain": [
       "0.8939966636005579"
      ]
     },
     "execution_count": 54,
     "metadata": {},
     "output_type": "execute_result"
    }
   ],
   "source": [
    "np.sin(90)"
   ]
  },
  {
   "cell_type": "code",
   "execution_count": 55,
   "id": "8955383f",
   "metadata": {},
   "outputs": [
    {
     "data": {
      "text/plain": [
       "array([[ 0.90929743, -0.2794155 ,  0.41211849,  0.14112001],\n",
       "       [ 0.98935825,  0.84147098, -0.7568025 ,  0.        ],\n",
       "       [ 0.        ,  0.6569866 ,  0.98935825, -0.7568025 ],\n",
       "       [ 0.14112001,  0.41211849,  0.        , -0.2794155 ]])"
      ]
     },
     "execution_count": 55,
     "metadata": {},
     "output_type": "execute_result"
    }
   ],
   "source": [
    "np.sin(array_02)"
   ]
  },
  {
   "cell_type": "markdown",
   "id": "9a309968",
   "metadata": {},
   "source": [
    "## log"
   ]
  },
  {
   "cell_type": "code",
   "execution_count": 56,
   "id": "7ccabc92",
   "metadata": {},
   "outputs": [
    {
     "name": "stderr",
     "output_type": "stream",
     "text": [
      "C:\\Users\\Hasan\\AppData\\Local\\Temp\\ipykernel_3720\\3427058148.py:1: RuntimeWarning: divide by zero encountered in log\n",
      "  np.log(array_02)\n"
     ]
    },
    {
     "data": {
      "text/plain": [
       "array([[0.69314718, 1.79175947, 2.19722458, 1.09861229],\n",
       "       [2.07944154, 0.        , 1.38629436,       -inf],\n",
       "       [      -inf, 1.94591015, 2.07944154, 1.38629436],\n",
       "       [1.09861229, 2.19722458,       -inf, 1.79175947]])"
      ]
     },
     "execution_count": 56,
     "metadata": {},
     "output_type": "execute_result"
    }
   ],
   "source": [
    "np.log(array_02)"
   ]
  },
  {
   "cell_type": "markdown",
   "id": "88beeac8",
   "metadata": {},
   "source": [
    "## abs"
   ]
  },
  {
   "cell_type": "code",
   "execution_count": 57,
   "id": "6b8671f1",
   "metadata": {},
   "outputs": [
    {
     "data": {
      "text/plain": [
       "array([  1,   2, 100, 101])"
      ]
     },
     "execution_count": 57,
     "metadata": {},
     "output_type": "execute_result"
    }
   ],
   "source": [
    "np.abs(arr)"
   ]
  },
  {
   "cell_type": "markdown",
   "id": "366eae54",
   "metadata": {},
   "source": [
    "## sum"
   ]
  },
  {
   "cell_type": "code",
   "execution_count": 58,
   "id": "66b2588f",
   "metadata": {},
   "outputs": [
    {
     "data": {
      "text/plain": [
       "204"
      ]
     },
     "execution_count": 58,
     "metadata": {},
     "output_type": "execute_result"
    }
   ],
   "source": [
    "arr.sum()"
   ]
  },
  {
   "cell_type": "markdown",
   "id": "be0dff0a",
   "metadata": {},
   "source": [
    "## mean"
   ]
  },
  {
   "cell_type": "code",
   "execution_count": 59,
   "id": "c9e4ef33",
   "metadata": {},
   "outputs": [
    {
     "data": {
      "text/plain": [
       "51.0"
      ]
     },
     "execution_count": 59,
     "metadata": {},
     "output_type": "execute_result"
    }
   ],
   "source": [
    "arr.mean()"
   ]
  },
  {
   "cell_type": "markdown",
   "id": "7e16788b",
   "metadata": {},
   "source": [
    "## variance"
   ]
  },
  {
   "cell_type": "code",
   "execution_count": 61,
   "id": "65b26110",
   "metadata": {},
   "outputs": [
    {
     "data": {
      "text/plain": [
       "2450.5"
      ]
     },
     "execution_count": 61,
     "metadata": {},
     "output_type": "execute_result"
    }
   ],
   "source": [
    "arr.var()"
   ]
  },
  {
   "cell_type": "markdown",
   "id": "3e13bf17",
   "metadata": {},
   "source": [
    "## standard deviation"
   ]
  },
  {
   "cell_type": "code",
   "execution_count": 65,
   "id": "301429fe",
   "metadata": {},
   "outputs": [
    {
     "data": {
      "text/plain": [
       "49.502525188115406"
      ]
     },
     "execution_count": 65,
     "metadata": {},
     "output_type": "execute_result"
    }
   ],
   "source": [
    "arr.std()"
   ]
  },
  {
   "cell_type": "markdown",
   "id": "346befab",
   "metadata": {},
   "source": [
    "## axis =0=x & axis=1=y & axis=2=z"
   ]
  },
  {
   "cell_type": "code",
   "execution_count": 67,
   "id": "8825a6fa",
   "metadata": {},
   "outputs": [
    {
     "data": {
      "text/plain": [
       "array([34, 37, 45, 42])"
      ]
     },
     "execution_count": 67,
     "metadata": {},
     "output_type": "execute_result"
    }
   ],
   "source": [
    "array_01.sum(axis=0)"
   ]
  },
  {
   "cell_type": "code",
   "execution_count": 69,
   "id": "80161234",
   "metadata": {},
   "outputs": [
    {
     "data": {
      "text/plain": [
       "array([52, 45, 15, 46])"
      ]
     },
     "execution_count": 69,
     "metadata": {},
     "output_type": "execute_result"
    }
   ],
   "source": [
    "array_01.sum(axis=1)"
   ]
  },
  {
   "cell_type": "markdown",
   "id": "26f3a838",
   "metadata": {},
   "source": [
    "## exercises"
   ]
  },
  {
   "cell_type": "code",
   "execution_count": 9,
   "id": "a61c94ab",
   "metadata": {},
   "outputs": [
    {
     "data": {
      "text/plain": [
       "array([0., 0., 0., 0., 0., 0., 0., 0., 0., 0.])"
      ]
     },
     "execution_count": 9,
     "metadata": {},
     "output_type": "execute_result"
    }
   ],
   "source": [
    "np.zeros(10)"
   ]
  },
  {
   "cell_type": "code",
   "execution_count": 10,
   "id": "e0e76599",
   "metadata": {},
   "outputs": [
    {
     "data": {
      "text/plain": [
       "array([1., 1., 1., 1., 1., 1., 1., 1., 1., 1.])"
      ]
     },
     "execution_count": 10,
     "metadata": {},
     "output_type": "execute_result"
    }
   ],
   "source": [
    "np.ones(10)"
   ]
  },
  {
   "cell_type": "code",
   "execution_count": 11,
   "id": "ba021521",
   "metadata": {},
   "outputs": [
    {
     "data": {
      "text/plain": [
       "array([5., 5., 5., 5., 5., 5., 5., 5., 5., 5.])"
      ]
     },
     "execution_count": 11,
     "metadata": {},
     "output_type": "execute_result"
    }
   ],
   "source": [
    "np.ones(10)*5"
   ]
  },
  {
   "cell_type": "code",
   "execution_count": 13,
   "id": "575c7cd5",
   "metadata": {},
   "outputs": [
    {
     "data": {
      "text/plain": [
       "array([10, 12, 14, 16, 18, 20, 22, 24, 26, 28, 30, 32, 34, 36, 38, 40, 42,\n",
       "       44, 46, 48, 50])"
      ]
     },
     "execution_count": 13,
     "metadata": {},
     "output_type": "execute_result"
    }
   ],
   "source": [
    "np.arange(10,51,2)"
   ]
  },
  {
   "cell_type": "code",
   "execution_count": 15,
   "id": "a2948ac4",
   "metadata": {},
   "outputs": [
    {
     "data": {
      "text/plain": [
       "array([[0, 1, 2],\n",
       "       [3, 4, 5],\n",
       "       [6, 7, 8]])"
      ]
     },
     "execution_count": 15,
     "metadata": {},
     "output_type": "execute_result"
    }
   ],
   "source": [
    "np.arange(0,9).reshape(3,3)"
   ]
  },
  {
   "cell_type": "code",
   "execution_count": 16,
   "id": "633e8237",
   "metadata": {},
   "outputs": [
    {
     "data": {
      "text/plain": [
       "array([[1., 0., 0.],\n",
       "       [0., 1., 0.],\n",
       "       [0., 0., 1.]])"
      ]
     },
     "execution_count": 16,
     "metadata": {},
     "output_type": "execute_result"
    }
   ],
   "source": [
    "np.eye(3,3)"
   ]
  },
  {
   "cell_type": "code",
   "execution_count": 17,
   "id": "6038ce68",
   "metadata": {},
   "outputs": [
    {
     "data": {
      "text/plain": [
       "array([0.08194287])"
      ]
     },
     "execution_count": 17,
     "metadata": {},
     "output_type": "execute_result"
    }
   ],
   "source": [
    "np.random.rand(1)"
   ]
  },
  {
   "cell_type": "code",
   "execution_count": 18,
   "id": "4f31bbd1",
   "metadata": {},
   "outputs": [
    {
     "data": {
      "text/plain": [
       "array([ 1.64346774, -0.85363823,  0.22374127, -0.31413242, -0.88750881,\n",
       "        0.18441473,  1.30629517,  1.07434108,  2.41483289, -0.04053652,\n",
       "        2.64366275, -1.08046286,  0.63732989,  2.59073992,  2.92888022,\n",
       "       -1.41600889, -0.56110667, -0.47471997, -0.89833   , -1.22247402,\n",
       "       -0.438111  , -2.19080244,  0.34541661, -1.97777776,  0.64920594])"
      ]
     },
     "execution_count": 18,
     "metadata": {},
     "output_type": "execute_result"
    }
   ],
   "source": [
    "np.random.randn(25)"
   ]
  },
  {
   "cell_type": "markdown",
   "id": "b9d85bca",
   "metadata": {},
   "source": [
    "# **"
   ]
  },
  {
   "cell_type": "code",
   "execution_count": 26,
   "id": "727d7e57",
   "metadata": {},
   "outputs": [
    {
     "data": {
      "text/plain": [
       "array([[0.01, 0.02, 0.03, 0.04, 0.05, 0.06, 0.07, 0.08, 0.09, 0.1 ],\n",
       "       [0.11, 0.12, 0.13, 0.14, 0.15, 0.16, 0.17, 0.18, 0.19, 0.2 ],\n",
       "       [0.21, 0.22, 0.23, 0.24, 0.25, 0.26, 0.27, 0.28, 0.29, 0.3 ],\n",
       "       [0.31, 0.32, 0.33, 0.34, 0.35, 0.36, 0.37, 0.38, 0.39, 0.4 ],\n",
       "       [0.41, 0.42, 0.43, 0.44, 0.45, 0.46, 0.47, 0.48, 0.49, 0.5 ],\n",
       "       [0.51, 0.52, 0.53, 0.54, 0.55, 0.56, 0.57, 0.58, 0.59, 0.6 ],\n",
       "       [0.61, 0.62, 0.63, 0.64, 0.65, 0.66, 0.67, 0.68, 0.69, 0.7 ],\n",
       "       [0.71, 0.72, 0.73, 0.74, 0.75, 0.76, 0.77, 0.78, 0.79, 0.8 ],\n",
       "       [0.81, 0.82, 0.83, 0.84, 0.85, 0.86, 0.87, 0.88, 0.89, 0.9 ],\n",
       "       [0.91, 0.92, 0.93, 0.94, 0.95, 0.96, 0.97, 0.98, 0.99, 1.  ]])"
      ]
     },
     "execution_count": 26,
     "metadata": {},
     "output_type": "execute_result"
    }
   ],
   "source": [
    "np.arange(1,101).reshape(10,10)/100"
   ]
  },
  {
   "cell_type": "code",
   "execution_count": 27,
   "id": "bfb44683",
   "metadata": {},
   "outputs": [
    {
     "data": {
      "text/plain": [
       "array([0.        , 0.05263158, 0.10526316, 0.15789474, 0.21052632,\n",
       "       0.26315789, 0.31578947, 0.36842105, 0.42105263, 0.47368421,\n",
       "       0.52631579, 0.57894737, 0.63157895, 0.68421053, 0.73684211,\n",
       "       0.78947368, 0.84210526, 0.89473684, 0.94736842, 1.        ])"
      ]
     },
     "execution_count": 27,
     "metadata": {},
     "output_type": "execute_result"
    }
   ],
   "source": [
    "np.linspace(0,1,20)"
   ]
  },
  {
   "cell_type": "code",
   "execution_count": 30,
   "id": "79c32519",
   "metadata": {},
   "outputs": [
    {
     "data": {
      "text/plain": [
       "array([[ 1,  2,  3,  4,  5],\n",
       "       [ 6,  7,  8,  9, 10],\n",
       "       [11, 12, 13, 14, 15],\n",
       "       [16, 17, 18, 19, 20],\n",
       "       [21, 22, 23, 24, 25]])"
      ]
     },
     "execution_count": 30,
     "metadata": {},
     "output_type": "execute_result"
    }
   ],
   "source": [
    "mat=np.arange(1,26).reshape(5,5)\n",
    "mat"
   ]
  },
  {
   "cell_type": "code",
   "execution_count": 31,
   "id": "0fc12cac",
   "metadata": {},
   "outputs": [
    {
     "data": {
      "text/plain": [
       "array([[12, 13, 14, 15],\n",
       "       [17, 18, 19, 20],\n",
       "       [22, 23, 24, 25]])"
      ]
     },
     "execution_count": 31,
     "metadata": {},
     "output_type": "execute_result"
    }
   ],
   "source": [
    "mat[2: , 1:]"
   ]
  },
  {
   "cell_type": "code",
   "execution_count": 32,
   "id": "40067383",
   "metadata": {},
   "outputs": [
    {
     "data": {
      "text/plain": [
       "20"
      ]
     },
     "execution_count": 32,
     "metadata": {},
     "output_type": "execute_result"
    }
   ],
   "source": [
    "mat[3 , 4]"
   ]
  },
  {
   "cell_type": "code",
   "execution_count": 37,
   "id": "c36c7bd7",
   "metadata": {},
   "outputs": [
    {
     "data": {
      "text/plain": [
       "array([[ 2],\n",
       "       [ 7],\n",
       "       [12]])"
      ]
     },
     "execution_count": 37,
     "metadata": {},
     "output_type": "execute_result"
    }
   ],
   "source": [
    "mat[ :3, 1:2]"
   ]
  },
  {
   "cell_type": "code",
   "execution_count": 38,
   "id": "88b6e816",
   "metadata": {},
   "outputs": [
    {
     "data": {
      "text/plain": [
       "array([21, 22, 23, 24, 25])"
      ]
     },
     "execution_count": 38,
     "metadata": {},
     "output_type": "execute_result"
    }
   ],
   "source": [
    "mat[4 , :]"
   ]
  },
  {
   "cell_type": "code",
   "execution_count": 39,
   "id": "f607aada",
   "metadata": {},
   "outputs": [
    {
     "data": {
      "text/plain": [
       "array([[16, 17, 18, 19, 20],\n",
       "       [21, 22, 23, 24, 25]])"
      ]
     },
     "execution_count": 39,
     "metadata": {},
     "output_type": "execute_result"
    }
   ],
   "source": [
    "mat[3:, :]"
   ]
  },
  {
   "cell_type": "code",
   "execution_count": 40,
   "id": "17a96fe5",
   "metadata": {},
   "outputs": [
    {
     "data": {
      "text/plain": [
       "325"
      ]
     },
     "execution_count": 40,
     "metadata": {},
     "output_type": "execute_result"
    }
   ],
   "source": [
    "mat.sum()"
   ]
  },
  {
   "cell_type": "code",
   "execution_count": 41,
   "id": "7f5d6195",
   "metadata": {},
   "outputs": [
    {
     "data": {
      "text/plain": [
       "52.0"
      ]
     },
     "execution_count": 41,
     "metadata": {},
     "output_type": "execute_result"
    }
   ],
   "source": [
    "mat.var()"
   ]
  },
  {
   "cell_type": "code",
   "execution_count": 42,
   "id": "ddcb06fe",
   "metadata": {},
   "outputs": [
    {
     "data": {
      "text/plain": [
       "array([55, 60, 65, 70, 75])"
      ]
     },
     "execution_count": 42,
     "metadata": {},
     "output_type": "execute_result"
    }
   ],
   "source": [
    "mat.sum(axis=0)"
   ]
  },
  {
   "cell_type": "code",
   "execution_count": 43,
   "id": "2b8e85e7",
   "metadata": {},
   "outputs": [],
   "source": [
    "np.random.seed(101)"
   ]
  },
  {
   "cell_type": "code",
   "execution_count": null,
   "id": "d520f3d7",
   "metadata": {},
   "outputs": [],
   "source": []
  }
 ],
 "metadata": {
  "kernelspec": {
   "display_name": "Python 3 (ipykernel)",
   "language": "python",
   "name": "python3"
  },
  "language_info": {
   "codemirror_mode": {
    "name": "ipython",
    "version": 3
   },
   "file_extension": ".py",
   "mimetype": "text/x-python",
   "name": "python",
   "nbconvert_exporter": "python",
   "pygments_lexer": "ipython3",
   "version": "3.11.5"
  }
 },
 "nbformat": 4,
 "nbformat_minor": 5
}
